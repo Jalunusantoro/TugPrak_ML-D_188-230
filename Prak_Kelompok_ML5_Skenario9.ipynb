{
  "cells": [
    {
      "cell_type": "markdown",
      "metadata": {
        "id": "2YUR9FHEEIiF"
      },
      "source": [
        "# Klasifikasi Citra Penyakit Radang Paru-Paru dan Paru Paru Terindikasi COVID19 Menggunakan Metode CNN"
      ]
    },
    {
      "cell_type": "code",
      "execution_count": null,
      "metadata": {
        "id": "dXmIm_qLjq6m"
      },
      "outputs": [],
      "source": [
        "import tensorflow as tf"
      ]
    },
    {
      "cell_type": "markdown",
      "metadata": {
        "id": "6w8XmscNEKn_"
      },
      "source": [
        "Link Kaggle : https://www.kaggle.com/prashant268/chest-xray-covid19-pneumonia"
      ]
    },
    {
      "cell_type": "markdown",
      "metadata": {
        "id": "NPDluKuoEPmO"
      },
      "source": [
        "# Load Data"
      ]
    },
    {
      "cell_type": "code",
      "execution_count": null,
      "metadata": {
        "id": "9dIwQTER7Zew"
      },
      "outputs": [],
      "source": [
        "train_path = \"datasplit/train\"\n",
        "val_path = \"datasplit/val\"\n",
        "test_path = \"datasplit/test\""
      ]
    },
    {
      "cell_type": "markdown",
      "metadata": {
        "id": "mcXpumVhEc9i"
      },
      "source": [
        "# Preprocessing (Skenario 2)"
      ]
    },
    {
      "cell_type": "code",
      "execution_count": null,
      "metadata": {
        "colab": {
          "base_uri": "https://localhost:8080/"
        },
        "id": "qKlE3wEN8XBW",
        "outputId": "c74edc1a-038d-4fc5-e297-2fa142cb9ddb"
      },
      "outputs": [
        {
          "name": "stdout",
          "output_type": "stream",
          "text": [
            "Found 3638 images belonging to 3 classes.\n",
            "Found 1285 images belonging to 3 classes.\n",
            "Found 645 images belonging to 3 classes.\n"
          ]
        }
      ],
      "source": [
        "from keras.preprocessing.image import ImageDataGenerator\n",
        "from sklearn.utils import shuffle\n",
        "image_shape = (100,100,1)\n",
        "batch_size = 64\n",
        "augmen_gen = ImageDataGenerator(rotation_range=20,\n",
        "                               width_shift_range=0.10,\n",
        "                               height_shift_range=0.10,\n",
        "                               rescale=1/255,\n",
        "                               shear_range=0.1,\n",
        "                               zoom_range=0.1,\n",
        "                               horizontal_flip=True,\n",
        "                               fill_mode='nearest')\n",
        "\n",
        "train_gen = augmen_gen.flow_from_directory(\n",
        "    train_path,\n",
        "    target_size=(100,100),\n",
        "    color_mode='grayscale',\n",
        "    batch_size=batch_size,\n",
        "    class_mode='categorical')\n",
        "\n",
        "val_gen = augmen_gen.flow_from_directory(\n",
        "    val_path,\n",
        "    target_size=(100,100),\n",
        "    color_mode='grayscale',\n",
        "    batch_size=batch_size,\n",
        "    class_mode='categorical')\n",
        "\n",
        "test_gen = augmen_gen.flow_from_directory(\n",
        "    test_path,\n",
        "    target_size=(100,100),\n",
        "    color_mode='grayscale',\n",
        "    batch_size=batch_size,\n",
        "    class_mode='categorical',shuffle=False)"
      ]
    },
    {
      "cell_type": "markdown",
      "metadata": {
        "id": "HAUNSNWQElcG"
      },
      "source": [
        "# Modelling & Plotting (Skenario 9)\n",
        "\n",
        "> Indented block\n",
        "\n"
      ]
    },
    {
      "cell_type": "code",
      "execution_count": null,
      "metadata": {
        "id": "m90pL4cl8h7s"
      },
      "outputs": [],
      "source": [
        "from tensorflow.keras.models import Sequential\n",
        "from tensorflow.keras.layers import InputLayer, Dense, Conv2D, MaxPool2D, Flatten, AveragePooling2D, BatchNormalization, Dropout, GlobalAveragePooling2D, GlobalMaxPooling2D\n",
        "from tensorflow.keras.callbacks import ModelCheckpoint, ReduceLROnPlateau, EarlyStopping\n",
        "from tensorflow.keras.optimizers import Adam\n",
        "import time"
      ]
    },
    {
      "cell_type": "code",
      "execution_count": null,
      "metadata": {
        "id": "3yriRpDT8k59"
      },
      "outputs": [],
      "source": [
        "model = Sequential()\n",
        "\n",
        "model.add(InputLayer(input_shape=[100,100,1]))\n",
        "model.add(Conv2D(filters=32, kernel_size=3, strides=1, padding='same', activation='relu'))\n",
        "model.add(MaxPool2D(pool_size=2, padding='same'))\n",
        "model.add(Conv2D(filters=64, kernel_size=3, strides=1, padding='same', activation='relu'))\n",
        "model.add(MaxPool2D(pool_size=2, padding='same'))\n",
        "model.add(Conv2D(filters=128, kernel_size=3, strides=1, padding='same', activation='relu'))\n",
        "model.add(MaxPool2D(pool_size=2, padding='same'))\n",
        "model.add(Dropout(0.25))\n",
        "model.add(BatchNormalization())\n",
        "model.add(Flatten())\n",
        "\n",
        "# Fully Connected Layer\n",
        "model.add(Dense(512, activation='relu'))\n",
        "model.add(Dropout(0.3))\n",
        "model.add(Dense(3, activation='softmax'))"
      ]
    },
    {
      "cell_type": "code",
      "execution_count": null,
      "metadata": {
        "colab": {
          "base_uri": "https://localhost:8080/"
        },
        "id": "f7f-oRwy8pVo",
        "outputId": "63843375-cc03-4d8b-802c-fd6d70891132"
      },
      "outputs": [
        {
          "name": "stdout",
          "output_type": "stream",
          "text": [
            "Model: \"sequential\"\n",
            "_________________________________________________________________\n",
            "Layer (type)                 Output Shape              Param #   \n",
            "=================================================================\n",
            "conv2d (Conv2D)              (None, 100, 100, 32)      320       \n",
            "_________________________________________________________________\n",
            "max_pooling2d (MaxPooling2D) (None, 50, 50, 32)        0         \n",
            "_________________________________________________________________\n",
            "conv2d_1 (Conv2D)            (None, 50, 50, 64)        18496     \n",
            "_________________________________________________________________\n",
            "max_pooling2d_1 (MaxPooling2 (None, 25, 25, 64)        0         \n",
            "_________________________________________________________________\n",
            "conv2d_2 (Conv2D)            (None, 25, 25, 128)       73856     \n",
            "_________________________________________________________________\n",
            "max_pooling2d_2 (MaxPooling2 (None, 13, 13, 128)       0         \n",
            "_________________________________________________________________\n",
            "dropout (Dropout)            (None, 13, 13, 128)       0         \n",
            "_________________________________________________________________\n",
            "batch_normalization (BatchNo (None, 13, 13, 128)       512       \n",
            "_________________________________________________________________\n",
            "flatten (Flatten)            (None, 21632)             0         \n",
            "_________________________________________________________________\n",
            "dense (Dense)                (None, 512)               11076096  \n",
            "_________________________________________________________________\n",
            "dropout_1 (Dropout)          (None, 512)               0         \n",
            "_________________________________________________________________\n",
            "dense_1 (Dense)              (None, 3)                 1539      \n",
            "=================================================================\n",
            "Total params: 11,170,819\n",
            "Trainable params: 11,170,563\n",
            "Non-trainable params: 256\n",
            "_________________________________________________________________\n",
            "None\n"
          ]
        }
      ],
      "source": [
        "print(model.summary())"
      ]
    },
    {
      "cell_type": "code",
      "execution_count": null,
      "metadata": {
        "id": "IQQwO-TV8zYp"
      },
      "outputs": [],
      "source": [
        "model.compile(loss='categorical_crossentropy',\n",
        "             optimizer=Adam(learning_rate=0.00001),\n",
        "             metrics='accuracy')"
      ]
    },
    {
      "cell_type": "code",
      "execution_count": null,
      "metadata": {
        "colab": {
          "base_uri": "https://localhost:8080/"
        },
        "id": "nxq5Ddza82Rj",
        "outputId": "cc0a43f2-b6e4-4077-cb36-741d313d5a17"
      },
      "outputs": [
        {
          "name": "stdout",
          "output_type": "stream",
          "text": [
            "Epoch 1/100\n",
            "57/57 [==============================] - 514s 8s/step - loss: 0.8063 - accuracy: 0.6264 - val_loss: 1.0739 - val_accuracy: 0.3066\n",
            "Epoch 2/100\n",
            "57/57 [==============================] - 244s 4s/step - loss: 0.5622 - accuracy: 0.7647 - val_loss: 1.0079 - val_accuracy: 0.4716\n",
            "Epoch 3/100\n",
            "57/57 [==============================] - 166s 3s/step - loss: 0.4777 - accuracy: 0.7977 - val_loss: 0.9408 - val_accuracy: 0.6887\n",
            "Epoch 4/100\n",
            "57/57 [==============================] - 139s 2s/step - loss: 0.4433 - accuracy: 0.8235 - val_loss: 0.8481 - val_accuracy: 0.8623\n",
            "Epoch 5/100\n",
            "57/57 [==============================] - 138s 2s/step - loss: 0.4062 - accuracy: 0.8444 - val_loss: 0.7664 - val_accuracy: 0.8654\n",
            "Epoch 6/100\n",
            "57/57 [==============================] - 134s 2s/step - loss: 0.3970 - accuracy: 0.8450 - val_loss: 0.6692 - val_accuracy: 0.8786\n",
            "Epoch 7/100\n",
            "57/57 [==============================] - 135s 2s/step - loss: 0.3591 - accuracy: 0.8593 - val_loss: 0.5911 - val_accuracy: 0.8685\n",
            "Epoch 8/100\n",
            "57/57 [==============================] - 100s 2s/step - loss: 0.3635 - accuracy: 0.8576 - val_loss: 0.4830 - val_accuracy: 0.8895\n",
            "Epoch 9/100\n",
            "57/57 [==============================] - 52s 910ms/step - loss: 0.3519 - accuracy: 0.8604 - val_loss: 0.4055 - val_accuracy: 0.8973\n",
            "Epoch 10/100\n",
            "57/57 [==============================] - 52s 916ms/step - loss: 0.3320 - accuracy: 0.8697 - val_loss: 0.3446 - val_accuracy: 0.8856\n",
            "Epoch 11/100\n",
            "57/57 [==============================] - 51s 898ms/step - loss: 0.3328 - accuracy: 0.8733 - val_loss: 0.3123 - val_accuracy: 0.8988\n",
            "Epoch 12/100\n",
            "57/57 [==============================] - 52s 904ms/step - loss: 0.3168 - accuracy: 0.8782 - val_loss: 0.2841 - val_accuracy: 0.8973\n",
            "Epoch 13/100\n",
            "57/57 [==============================] - 52s 913ms/step - loss: 0.3117 - accuracy: 0.8804 - val_loss: 0.2781 - val_accuracy: 0.8981\n",
            "Epoch 14/100\n",
            "57/57 [==============================] - 54s 955ms/step - loss: 0.3040 - accuracy: 0.8818 - val_loss: 0.2583 - val_accuracy: 0.9121\n",
            "Epoch 15/100\n",
            "57/57 [==============================] - 51s 901ms/step - loss: 0.3010 - accuracy: 0.8782 - val_loss: 0.2576 - val_accuracy: 0.9035\n",
            "Epoch 16/100\n",
            "57/57 [==============================] - 53s 932ms/step - loss: 0.2842 - accuracy: 0.8909 - val_loss: 0.2652 - val_accuracy: 0.9051\n",
            "Epoch 17/100\n",
            "57/57 [==============================] - 52s 913ms/step - loss: 0.2847 - accuracy: 0.8917 - val_loss: 0.2516 - val_accuracy: 0.9027\n",
            "Epoch 18/100\n",
            "57/57 [==============================] - 54s 958ms/step - loss: 0.2733 - accuracy: 0.8975 - val_loss: 0.2713 - val_accuracy: 0.8903\n",
            "Epoch 19/100\n",
            "57/57 [==============================] - 53s 924ms/step - loss: 0.2764 - accuracy: 0.8953 - val_loss: 0.2492 - val_accuracy: 0.9066\n",
            "Epoch 20/100\n",
            "57/57 [==============================] - 52s 916ms/step - loss: 0.2736 - accuracy: 0.8988 - val_loss: 0.2640 - val_accuracy: 0.8934\n",
            "Epoch 21/100\n",
            "57/57 [==============================] - 52s 916ms/step - loss: 0.2634 - accuracy: 0.9024 - val_loss: 0.2551 - val_accuracy: 0.9051\n",
            "Epoch 22/100\n",
            "57/57 [==============================] - 53s 934ms/step - loss: 0.2623 - accuracy: 0.9013 - val_loss: 0.2464 - val_accuracy: 0.9035\n",
            "Epoch 23/100\n",
            "57/57 [==============================] - 52s 913ms/step - loss: 0.2575 - accuracy: 0.9043 - val_loss: 0.2588 - val_accuracy: 0.8973\n",
            "Epoch 24/100\n",
            "57/57 [==============================] - 52s 907ms/step - loss: 0.2527 - accuracy: 0.9041 - val_loss: 0.2757 - val_accuracy: 0.8957\n",
            "Epoch 25/100\n",
            "57/57 [==============================] - 53s 927ms/step - loss: 0.2643 - accuracy: 0.9002 - val_loss: 0.2316 - val_accuracy: 0.9191\n",
            "Epoch 26/100\n",
            "57/57 [==============================] - 52s 919ms/step - loss: 0.2582 - accuracy: 0.9052 - val_loss: 0.2378 - val_accuracy: 0.9175\n",
            "Epoch 27/100\n",
            "57/57 [==============================] - 52s 910ms/step - loss: 0.2415 - accuracy: 0.9041 - val_loss: 0.2308 - val_accuracy: 0.9113\n",
            "Epoch 28/100\n",
            "57/57 [==============================] - 52s 907ms/step - loss: 0.2515 - accuracy: 0.9090 - val_loss: 0.2292 - val_accuracy: 0.9175\n",
            "Epoch 29/100\n",
            "57/57 [==============================] - 52s 913ms/step - loss: 0.2443 - accuracy: 0.9063 - val_loss: 0.2187 - val_accuracy: 0.9183\n",
            "Epoch 30/100\n",
            "57/57 [==============================] - 52s 913ms/step - loss: 0.2401 - accuracy: 0.9096 - val_loss: 0.2291 - val_accuracy: 0.9121\n",
            "Epoch 31/100\n",
            "57/57 [==============================] - 52s 919ms/step - loss: 0.2412 - accuracy: 0.9093 - val_loss: 0.2188 - val_accuracy: 0.9191\n",
            "Epoch 32/100\n",
            "57/57 [==============================] - 52s 922ms/step - loss: 0.2298 - accuracy: 0.9214 - val_loss: 0.2449 - val_accuracy: 0.9019\n",
            "Epoch 33/100\n",
            "57/57 [==============================] - 52s 907ms/step - loss: 0.2253 - accuracy: 0.9151 - val_loss: 0.2298 - val_accuracy: 0.9167\n",
            "Epoch 34/100\n",
            "57/57 [==============================] - 52s 913ms/step - loss: 0.2372 - accuracy: 0.9131 - val_loss: 0.2216 - val_accuracy: 0.9237\n",
            "Epoch 35/100\n",
            "57/57 [==============================] - 54s 952ms/step - loss: 0.2294 - accuracy: 0.9156 - val_loss: 0.2225 - val_accuracy: 0.9198\n",
            "Epoch 36/100\n",
            "57/57 [==============================] - 52s 913ms/step - loss: 0.2232 - accuracy: 0.9159 - val_loss: 0.2067 - val_accuracy: 0.9261\n",
            "Epoch 37/100\n",
            "57/57 [==============================] - 53s 940ms/step - loss: 0.2380 - accuracy: 0.9098 - val_loss: 0.2268 - val_accuracy: 0.9183\n",
            "Epoch 38/100\n",
            "57/57 [==============================] - 54s 937ms/step - loss: 0.2252 - accuracy: 0.9148 - val_loss: 0.2198 - val_accuracy: 0.9128\n",
            "Epoch 39/100\n",
            "57/57 [==============================] - 54s 952ms/step - loss: 0.2255 - accuracy: 0.9173 - val_loss: 0.2138 - val_accuracy: 0.9175\n",
            "Epoch 40/100\n",
            "57/57 [==============================] - 54s 946ms/step - loss: 0.2231 - accuracy: 0.9142 - val_loss: 0.2225 - val_accuracy: 0.9222\n",
            "Epoch 41/100\n",
            "57/57 [==============================] - 54s 957ms/step - loss: 0.2184 - accuracy: 0.9173 - val_loss: 0.2338 - val_accuracy: 0.9105\n",
            "Epoch 42/100\n",
            "57/57 [==============================] - 55s 957ms/step - loss: 0.2154 - accuracy: 0.9195 - val_loss: 0.2185 - val_accuracy: 0.9191\n",
            "Epoch 43/100\n",
            "57/57 [==============================] - 55s 966ms/step - loss: 0.2065 - accuracy: 0.9192 - val_loss: 0.2254 - val_accuracy: 0.9222\n",
            "Epoch 44/100\n",
            "57/57 [==============================] - 458s 8s/step - loss: 0.2152 - accuracy: 0.9219 - val_loss: 0.2110 - val_accuracy: 0.9152\n",
            "Epoch 45/100\n",
            "57/57 [==============================] - 212s 4s/step - loss: 0.2121 - accuracy: 0.9189 - val_loss: 0.2215 - val_accuracy: 0.9214\n",
            "Epoch 46/100\n",
            "57/57 [==============================] - 77s 1s/step - loss: 0.2169 - accuracy: 0.9219 - val_loss: 0.2243 - val_accuracy: 0.9198\n",
            "Epoch 47/100\n",
            "57/57 [==============================] - 82s 1s/step - loss: 0.2043 - accuracy: 0.9250 - val_loss: 0.2114 - val_accuracy: 0.9206\n",
            "Epoch 48/100\n",
            "57/57 [==============================] - 134s 2s/step - loss: 0.2136 - accuracy: 0.9181 - val_loss: 0.2179 - val_accuracy: 0.9167\n",
            "Epoch 49/100\n",
            "57/57 [==============================] - 79s 1s/step - loss: 0.2081 - accuracy: 0.9222 - val_loss: 0.2178 - val_accuracy: 0.9167\n",
            "Epoch 50/100\n",
            "57/57 [==============================] - 68s 1s/step - loss: 0.2059 - accuracy: 0.9244 - val_loss: 0.2083 - val_accuracy: 0.9144\n",
            "Epoch 51/100\n",
            "57/57 [==============================] - 69s 1s/step - loss: 0.2091 - accuracy: 0.9239 - val_loss: 0.2118 - val_accuracy: 0.9253\n",
            "Epoch 52/100\n",
            "57/57 [==============================] - 64s 1s/step - loss: 0.2015 - accuracy: 0.9252 - val_loss: 0.2144 - val_accuracy: 0.9245\n",
            "Epoch 53/100\n",
            "57/57 [==============================] - 56s 985ms/step - loss: 0.1986 - accuracy: 0.9285 - val_loss: 0.1880 - val_accuracy: 0.9300\n",
            "Epoch 54/100\n",
            "57/57 [==============================] - 52s 913ms/step - loss: 0.1987 - accuracy: 0.9258 - val_loss: 0.2065 - val_accuracy: 0.9230\n",
            "Epoch 55/100\n",
            "57/57 [==============================] - 52s 916ms/step - loss: 0.2011 - accuracy: 0.9225 - val_loss: 0.2255 - val_accuracy: 0.9167\n",
            "Epoch 56/100\n",
            "57/57 [==============================] - 52s 913ms/step - loss: 0.1977 - accuracy: 0.9283 - val_loss: 0.2087 - val_accuracy: 0.9214\n",
            "Epoch 57/100\n",
            "57/57 [==============================] - 53s 927ms/step - loss: 0.1957 - accuracy: 0.9291 - val_loss: 0.2124 - val_accuracy: 0.9167\n"
          ]
        },
        {
          "name": "stdout",
          "output_type": "stream",
          "text": [
            "Epoch 58/100\n",
            "57/57 [==============================] - 53s 928ms/step - loss: 0.1998 - accuracy: 0.9217 - val_loss: 0.1880 - val_accuracy: 0.9323\n",
            "Epoch 59/100\n",
            "57/57 [==============================] - 56s 987ms/step - loss: 0.1913 - accuracy: 0.9261 - val_loss: 0.1993 - val_accuracy: 0.9261\n",
            "Epoch 60/100\n",
            "57/57 [==============================] - 54s 945ms/step - loss: 0.1979 - accuracy: 0.9272 - val_loss: 0.2203 - val_accuracy: 0.9113\n",
            "Epoch 61/100\n",
            "57/57 [==============================] - 53s 937ms/step - loss: 0.1905 - accuracy: 0.9316 - val_loss: 0.1961 - val_accuracy: 0.9245\n",
            "Epoch 62/100\n",
            "57/57 [==============================] - 60s 1s/step - loss: 0.1902 - accuracy: 0.9272 - val_loss: 0.1951 - val_accuracy: 0.9276\n",
            "Epoch 63/100\n",
            "57/57 [==============================] - 72s 1s/step - loss: 0.1959 - accuracy: 0.9310 - val_loss: 0.1963 - val_accuracy: 0.9268\n",
            "Epoch 64/100\n",
            "57/57 [==============================] - 61s 1s/step - loss: 0.1972 - accuracy: 0.9230 - val_loss: 0.1913 - val_accuracy: 0.9284\n",
            "Epoch 65/100\n",
            "57/57 [==============================] - 52s 916ms/step - loss: 0.1900 - accuracy: 0.9302 - val_loss: 0.1902 - val_accuracy: 0.9300\n",
            "Epoch 66/100\n",
            "57/57 [==============================] - 52s 910ms/step - loss: 0.1925 - accuracy: 0.9266 - val_loss: 0.1841 - val_accuracy: 0.9331\n",
            "Epoch 67/100\n",
            "57/57 [==============================] - 52s 910ms/step - loss: 0.1757 - accuracy: 0.9382 - val_loss: 0.2120 - val_accuracy: 0.9198\n",
            "Epoch 68/100\n",
            "57/57 [==============================] - 52s 913ms/step - loss: 0.1804 - accuracy: 0.9360 - val_loss: 0.1868 - val_accuracy: 0.9315\n",
            "Epoch 69/100\n",
            "57/57 [==============================] - 53s 928ms/step - loss: 0.1836 - accuracy: 0.9302 - val_loss: 0.2091 - val_accuracy: 0.9261\n",
            "Epoch 70/100\n",
            "57/57 [==============================] - 54s 955ms/step - loss: 0.1902 - accuracy: 0.9266 - val_loss: 0.1930 - val_accuracy: 0.9237\n",
            "Epoch 71/100\n",
            "57/57 [==============================] - 52s 913ms/step - loss: 0.1906 - accuracy: 0.9316 - val_loss: 0.1955 - val_accuracy: 0.9214\n",
            "Epoch 72/100\n",
            "57/57 [==============================] - 52s 913ms/step - loss: 0.1805 - accuracy: 0.9299 - val_loss: 0.1924 - val_accuracy: 0.9300\n",
            "Epoch 73/100\n",
            "57/57 [==============================] - 55s 973ms/step - loss: 0.1743 - accuracy: 0.9343 - val_loss: 0.2060 - val_accuracy: 0.9183\n",
            "Epoch 74/100\n",
            "57/57 [==============================] - 55s 975ms/step - loss: 0.1848 - accuracy: 0.9288 - val_loss: 0.1825 - val_accuracy: 0.9323\n",
            "Epoch 75/100\n",
            "57/57 [==============================] - 54s 949ms/step - loss: 0.1844 - accuracy: 0.9327 - val_loss: 0.1849 - val_accuracy: 0.9276\n",
            "Epoch 76/100\n",
            "57/57 [==============================] - 54s 952ms/step - loss: 0.1835 - accuracy: 0.9318 - val_loss: 0.1799 - val_accuracy: 0.9346\n",
            "Epoch 77/100\n",
            "57/57 [==============================] - 54s 942ms/step - loss: 0.1718 - accuracy: 0.9346 - val_loss: 0.1906 - val_accuracy: 0.9268\n",
            "Epoch 78/100\n",
            "57/57 [==============================] - 54s 955ms/step - loss: 0.1738 - accuracy: 0.9371 - val_loss: 0.2007 - val_accuracy: 0.9253\n",
            "Epoch 79/100\n",
            "57/57 [==============================] - 73s 1s/step - loss: 0.1776 - accuracy: 0.9371 - val_loss: 0.1890 - val_accuracy: 0.9339\n",
            "Epoch 80/100\n",
            "57/57 [==============================] - 68s 1s/step - loss: 0.1770 - accuracy: 0.9371 - val_loss: 0.1793 - val_accuracy: 0.9315\n",
            "Epoch 81/100\n",
            "57/57 [==============================] - 74s 1s/step - loss: 0.1727 - accuracy: 0.9406 - val_loss: 0.1825 - val_accuracy: 0.9276\n",
            "Epoch 82/100\n",
            "57/57 [==============================] - 144s 3s/step - loss: 0.1726 - accuracy: 0.9343 - val_loss: 0.1790 - val_accuracy: 0.9331\n",
            "Epoch 83/100\n",
            "57/57 [==============================] - 786s 14s/step - loss: 0.1666 - accuracy: 0.9362 - val_loss: 0.1820 - val_accuracy: 0.9370\n",
            "Epoch 84/100\n",
            "57/57 [==============================] - 305s 5s/step - loss: 0.1762 - accuracy: 0.9329 - val_loss: 0.1957 - val_accuracy: 0.9276\n",
            "Epoch 85/100\n",
            "57/57 [==============================] - 53s 925ms/step - loss: 0.1696 - accuracy: 0.9401 - val_loss: 0.2004 - val_accuracy: 0.9230\n",
            "Epoch 86/100\n",
            "57/57 [==============================] - 53s 931ms/step - loss: 0.1722 - accuracy: 0.9354 - val_loss: 0.1708 - val_accuracy: 0.9362\n",
            "Epoch 87/100\n",
            "57/57 [==============================] - 52s 918ms/step - loss: 0.1717 - accuracy: 0.9393 - val_loss: 0.1864 - val_accuracy: 0.9245\n",
            "Epoch 88/100\n",
            "57/57 [==============================] - 53s 928ms/step - loss: 0.1675 - accuracy: 0.9376 - val_loss: 0.1867 - val_accuracy: 0.9339\n",
            "Epoch 89/100\n",
            "57/57 [==============================] - 53s 937ms/step - loss: 0.1752 - accuracy: 0.9354 - val_loss: 0.1796 - val_accuracy: 0.9346\n",
            "Epoch 90/100\n",
            "57/57 [==============================] - 52s 916ms/step - loss: 0.1670 - accuracy: 0.9354 - val_loss: 0.1979 - val_accuracy: 0.9268\n",
            "Epoch 91/100\n",
            "57/57 [==============================] - 52s 919ms/step - loss: 0.1795 - accuracy: 0.9382 - val_loss: 0.1687 - val_accuracy: 0.9362\n",
            "Epoch 92/100\n",
            "57/57 [==============================] - 54s 930ms/step - loss: 0.1776 - accuracy: 0.9321 - val_loss: 0.1797 - val_accuracy: 0.9300\n",
            "Epoch 93/100\n",
            "57/57 [==============================] - 80s 1s/step - loss: 0.1757 - accuracy: 0.9360 - val_loss: 0.1799 - val_accuracy: 0.9323\n",
            "Epoch 94/100\n",
            "57/57 [==============================] - 70s 1s/step - loss: 0.1703 - accuracy: 0.9371 - val_loss: 0.1738 - val_accuracy: 0.9346\n",
            "Epoch 95/100\n",
            "57/57 [==============================] - 82s 1s/step - loss: 0.1625 - accuracy: 0.9387 - val_loss: 0.2311 - val_accuracy: 0.9152\n",
            "Epoch 96/100\n",
            "57/57 [==============================] - 75s 1s/step - loss: 0.1712 - accuracy: 0.9365 - val_loss: 0.1794 - val_accuracy: 0.9292\n",
            "Epoch 97/100\n",
            "57/57 [==============================] - 67s 1s/step - loss: 0.1666 - accuracy: 0.9379 - val_loss: 0.1737 - val_accuracy: 0.9339\n",
            "Epoch 98/100\n",
            "57/57 [==============================] - 64s 1s/step - loss: 0.1637 - accuracy: 0.9426 - val_loss: 0.2097 - val_accuracy: 0.9144\n",
            "Epoch 99/100\n",
            "57/57 [==============================] - 61s 1s/step - loss: 0.1676 - accuracy: 0.9360 - val_loss: 0.2017 - val_accuracy: 0.9214\n",
            "Epoch 100/100\n",
            "57/57 [==============================] - 56s 984ms/step - loss: 0.1623 - accuracy: 0.9426 - val_loss: 0.1704 - val_accuracy: 0.9393\n"
          ]
        }
      ],
      "source": [
        "H = model.fit(train_gen, epochs=100, validation_data=val_gen, verbose=1)"
      ]
    },
    {
      "cell_type": "code",
      "execution_count": null,
      "metadata": {
        "colab": {
          "base_uri": "https://localhost:8080/",
          "height": 299
        },
        "id": "-AhwbNmasNfn",
        "outputId": "0632d7e9-15e7-4266-9197-6b85857d8825"
      },
      "outputs": [
        {
          "data": {
            "image/png": "[encoded data removed]",
            "text/plain": [
              "<Figure size 432x288 with 1 Axes>"
            ]
          },
          "metadata": {},
          "output_type": "display_data"
        }
      ],
      "source": [
        "import matplotlib.pyplot as plt\n",
        "import numpy as np\n",
        "\n",
        "plt.style.use(\"ggplot\")\n",
        "\n",
        "plt.plot(np.arange(0, 100), H.history[\"loss\"], label=\"train_loss\")\n",
        "plt.plot(np.arange(0, 100), H.history[\"val_loss\"], label=\"val_loss\")\n",
        "plt.title(\"Loss Plot\")\n",
        "plt.xlabel(\"Epoch #\")\n",
        "plt.ylabel(\"Loss\")\n",
        "plt.show()"
      ]
    },
    {
      "cell_type": "code",
      "execution_count": null,
      "metadata": {
        "colab": {
          "base_uri": "https://localhost:8080/",
          "height": 299
        },
        "id": "GrTDoe46xInt",
        "outputId": "a0a002fd-dbab-49db-c92a-6c8774b35037"
      },
      "outputs": [
        {
          "data": {
            "image/png": "[encoded data removed]",
            "text/plain": [
              "<Figure size 432x288 with 1 Axes>"
            ]
          },
          "metadata": {},
          "output_type": "display_data"
        }
      ],
      "source": [
        "plt.plot(np.arange(0, 100), H.history[\"accuracy\"], label=\"train_acc\")\n",
        "plt.plot(np.arange(0, 100), H.history[\"val_accuracy\"], label=\"val_acc\")\n",
        "plt.title(\"Accuracy Plot\")\n",
        "plt.xlabel(\"Epoch #\")\n",
        "plt.ylabel(\"Accuracy\")\n",
        "plt.legend()\n",
        "plt.show()"
      ]
    },
    {
      "cell_type": "code",
      "execution_count": null,
      "metadata": {
        "colab": {
          "base_uri": "https://localhost:8080/"
        },
        "id": "LjE4L1pHxPwV",
        "outputId": "d1fe5f44-9dba-4412-cd57-f9c8ac7d9a41"
      },
      "outputs": [
        {
          "name": "stdout",
          "output_type": "stream",
          "text": [
            "              precision    recall  f1-score   support\n",
            "\n",
            "           0       0.95      0.90      0.92        58\n",
            "           1       0.93      0.87      0.90       159\n",
            "           2       0.95      0.98      0.96       428\n",
            "\n",
            "    accuracy                           0.94       645\n",
            "   macro avg       0.94      0.92      0.93       645\n",
            "weighted avg       0.94      0.94      0.94       645\n",
            "\n"
          ]
        }
      ],
      "source": [
        "from sklearn.metrics import classification_report\n",
        "import numpy as np\n",
        "pred = model.predict(test_gen)\n",
        "predictions = np.argmax(pred, axis = 1)\n",
        "# labels = (pred > 0.5).astype(np.int)\n",
        "print(classification_report(test_gen.classes,predictions))"
      ]
    }
  ],
  "metadata": {
    "accelerator": "GPU",
    "colab": {
      "collapsed_sections": [
        "2YUR9FHEEIiF",
        "NPDluKuoEPmO",
        "mcXpumVhEc9i",
        "HAUNSNWQElcG"
      ],
      "name": "Prak_Kelompok_ML5_Skenario9.ipynb",
      "provenance": []
    },
    "kernelspec": {
      "display_name": "Python 3 (ipykernel)",
      "language": "python",
      "name": "python3"
    },
    "language_info": {
      "codemirror_mode": {
        "name": "ipython",
        "version": 3
      },
      "file_extension": ".py",
      "mimetype": "text/x-python",
      "name": "python",
      "nbconvert_exporter": "python",
      "pygments_lexer": "ipython3",
      "version": "3.9.9"
    }
  },
  "nbformat": 4,
  "nbformat_minor": 0
}