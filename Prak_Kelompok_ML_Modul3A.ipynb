{
  "nbformat": 4,
  "nbformat_minor": 0,
  "metadata": {
    "colab": {
      "name": "Prak_Kelompok_ML_Modul3.ipynb",
      "provenance": [],
      "collapsed_sections": [
        "PTXCvCc9b4MU",
        "dxMk4xzwALCl",
        "SGhLgGv_DNay",
        "5fvmKNEW8bPu",
        "aqPZPhs-AYEY",
        "hvrfHekSDf03"
      ]
    },
    "kernelspec": {
      "display_name": "Python 3",
      "name": "python3"
    },
    "language_info": {
      "name": "python"
    }
  },
  "cells": [
    {
      "cell_type": "markdown",
      "metadata": {
        "id": "PTXCvCc9b4MU"
      },
      "source": [
        "# Klasifikasi Citra Penyakit Radang Paru-Paru dan Paru Paru Terindikasi COVID19 Menggunakan Metode CNN"
      ]
    },
    {
      "cell_type": "markdown",
      "metadata": {
        "id": "Bc2iqHqTb-eE"
      },
      "source": [
        "Link Kaggle : https://www.kaggle.com/prashant268/chest-xray-covid19-pneumonia"
      ]
    },
    {
      "cell_type": "markdown",
      "metadata": {
        "id": "dxMk4xzwALCl"
      },
      "source": [
        "# Load Data"
      ]
    },
    {
      "cell_type": "code",
      "metadata": {
        "colab": {
          "base_uri": "https://localhost:8080/"
        },
        "id": "Ep9QFKMXcyyR",
        "outputId": "434d73e0-76c2-4172-821e-74e16b5827b2"
      },
      "source": [
        "from google.colab import drive\n",
        "drive.mount('/content/drive')"
      ],
      "execution_count": null,
      "outputs": [
        {
          "output_type": "stream",
          "name": "stdout",
          "text": [
            "Mounted at /content/drive\n"
          ]
        }
      ]
    },
    {
      "cell_type": "code",
      "metadata": {
        "id": "PNx0YCKPdvy1"
      },
      "source": [
        "import os\n",
        "os.environ['KAGGLE_CONFIG_DIR'] = \"/content/drive/MyDrive/Colab Notebooks/Kuliah/Semester 7/ML/Tugas_Besar/Modul_3\""
      ],
      "execution_count": null,
      "outputs": []
    },
    {
      "cell_type": "code",
      "metadata": {
        "id": "0ZEn01TGdy6A",
        "colab": {
          "base_uri": "https://localhost:8080/"
        },
        "outputId": "c5c5a572-0eb5-46fd-f67e-ef882f3de3f8"
      },
      "source": [
        "%cd /content/drive/MyDrive/Colab Notebooks/Kuliah/Semester 7/ML/Tugas_Besar/Modul_3"
      ],
      "execution_count": null,
      "outputs": [
        {
          "output_type": "stream",
          "name": "stdout",
          "text": [
            "/content/drive/MyDrive/Colab Notebooks/Kuliah/Semester 7/ML/Tugas_Besar/Modul_3\n"
          ]
        }
      ]
    },
    {
      "cell_type": "code",
      "metadata": {
        "colab": {
          "base_uri": "https://localhost:8080/"
        },
        "id": "Jq6ddy7men0M",
        "outputId": "8e13bdb7-efd2-4f19-fdb5-3fbd1694dee1"
      },
      "source": [
        "!ls"
      ],
      "execution_count": null,
      "outputs": [
        {
          "name": "stdout",
          "output_type": "stream",
          "text": [
            "best_model.h5  Data  dataset  datasplit  kaggle.json\n"
          ]
        }
      ]
    },
    {
      "cell_type": "code",
      "metadata": {
        "colab": {
          "base_uri": "https://localhost:8080/"
        },
        "id": "MUAxVepmepHu",
        "outputId": "962935ee-2372-4a08-ea20-fd3c3865c0d5"
      },
      "source": [
        "#! kaggle datasets download -d prashant268/chest-xray-covid19-pneumonia"
      ],
      "execution_count": null,
      "outputs": [
        {
          "name": "stdout",
          "output_type": "stream",
          "text": [
            "Downloading chest-xray-covid19-pneumonia.zip to /content/drive/MyDrive/Colab Notebooks/Kuliah/Semester 7/ML/Tugas_Besar/Modul_3\n",
            "100% 2.05G/2.06G [00:41<00:00, 73.8MB/s]\n",
            "100% 2.06G/2.06G [00:41<00:00, 53.5MB/s]\n"
          ]
        }
      ]
    },
    {
      "cell_type": "code",
      "metadata": {
        "id": "wxl2kJ3ge8Px"
      },
      "source": [
        "#! unzip \\*.zip &> /dev/null && rm *.zip"
      ],
      "execution_count": null,
      "outputs": []
    },
    {
      "cell_type": "code",
      "metadata": {
        "id": "laP4iqUvfoyg"
      },
      "source": [
        "!mkdir covid"
      ],
      "execution_count": null,
      "outputs": []
    },
    {
      "cell_type": "code",
      "metadata": {
        "id": "RS9TwV3if743"
      },
      "source": [
        "!mkdir normal"
      ],
      "execution_count": null,
      "outputs": []
    },
    {
      "cell_type": "code",
      "metadata": {
        "id": "RAv403C8gAM9"
      },
      "source": [
        "!mkdir pneumonia"
      ],
      "execution_count": null,
      "outputs": []
    },
    {
      "cell_type": "code",
      "metadata": {
        "colab": {
          "base_uri": "https://localhost:8080/"
        },
        "id": "DSHopzSLgTOW",
        "outputId": "95255684-95f9-4f12-f406-8afaa4b59d81"
      },
      "source": [
        "!ls Data/"
      ],
      "execution_count": null,
      "outputs": [
        {
          "name": "stdout",
          "output_type": "stream",
          "text": [
            "test  train\n"
          ]
        }
      ]
    },
    {
      "cell_type": "code",
      "metadata": {
        "id": "1wc8Q4hwvJ-r"
      },
      "source": [
        "!mv Data/test/COVID19/*.jpg covid/"
      ],
      "execution_count": null,
      "outputs": []
    },
    {
      "cell_type": "code",
      "metadata": {
        "id": "1dY-WQLwv6c3"
      },
      "source": [
        "!mv Data/test/PNEUMONIA/*.jpg pneumonia/"
      ],
      "execution_count": null,
      "outputs": []
    },
    {
      "cell_type": "code",
      "metadata": {
        "id": "VXM1CnScwGTl"
      },
      "source": [
        "!mv Data/test/NORMAL/*.jpg normal/"
      ],
      "execution_count": null,
      "outputs": []
    },
    {
      "cell_type": "code",
      "metadata": {
        "id": "lzyM_pF6w6CR"
      },
      "source": [
        "!mv Data/train/COVID19/*.jpg covid/"
      ],
      "execution_count": null,
      "outputs": []
    },
    {
      "cell_type": "code",
      "metadata": {
        "id": "zYMrmenCxJsl"
      },
      "source": [
        "!mv Data/train/PNEUMONIA/*.jpg pneumonia/"
      ],
      "execution_count": null,
      "outputs": []
    },
    {
      "cell_type": "code",
      "metadata": {
        "id": "L1TXdb2jxj3r"
      },
      "source": [
        "!mv Data/train/NORMAL/*.jpg normal/"
      ],
      "execution_count": null,
      "outputs": []
    },
    {
      "cell_type": "code",
      "metadata": {
        "colab": {
          "base_uri": "https://localhost:8080/"
        },
        "id": "41eERwupxtE5",
        "outputId": "7ca0bdd2-ae1a-4029-9e94-305ce7bceca1"
      },
      "source": [
        "!ls"
      ],
      "execution_count": null,
      "outputs": [
        {
          "name": "stdout",
          "output_type": "stream",
          "text": [
            "covid  Data  kaggle.json  normal  pneumonia\n"
          ]
        }
      ]
    },
    {
      "cell_type": "code",
      "metadata": {
        "id": "LKY3XZtvx-Tw"
      },
      "source": [
        "!mkdir dataset"
      ],
      "execution_count": null,
      "outputs": []
    },
    {
      "cell_type": "code",
      "metadata": {
        "id": "YyFmwonWyEWJ"
      },
      "source": [
        "!mv pneumonia covid normal dataset"
      ],
      "execution_count": null,
      "outputs": []
    },
    {
      "cell_type": "code",
      "metadata": {
        "colab": {
          "base_uri": "https://localhost:8080/"
        },
        "id": "-DzzC_mFybOl",
        "outputId": "59c1d278-dcef-4019-f0eb-82fbddf13a53"
      },
      "source": [
        "!ls dataset"
      ],
      "execution_count": null,
      "outputs": [
        {
          "output_type": "stream",
          "name": "stdout",
          "text": [
            "covid  normal  pneumonia\n"
          ]
        }
      ]
    },
    {
      "cell_type": "markdown",
      "metadata": {
        "id": "SGhLgGv_DNay"
      },
      "source": [
        "# Splitting Data 1 (Skenario = 0.7, 0.2, 0.1)"
      ]
    },
    {
      "cell_type": "code",
      "metadata": {
        "colab": {
          "base_uri": "https://localhost:8080/"
        },
        "id": "K1OAn7iWykWt",
        "outputId": "bb20499e-6d1f-4435-ec26-47e3f8edbf96"
      },
      "source": [
        "#pip install split-folders"
      ],
      "execution_count": null,
      "outputs": [
        {
          "name": "stdout",
          "output_type": "stream",
          "text": [
            "Collecting split-folders\n",
            "  Downloading split_folders-0.4.3-py3-none-any.whl (7.4 kB)\n",
            "Installing collected packages: split-folders\n",
            "Successfully installed split-folders-0.4.3\n"
          ]
        }
      ]
    },
    {
      "cell_type": "code",
      "metadata": {
        "id": "7T90aYCqyeZG"
      },
      "source": [
        "#!mkdir datasplit"
      ],
      "execution_count": null,
      "outputs": []
    },
    {
      "cell_type": "code",
      "metadata": {
        "id": "wvlT-mStypuV"
      },
      "source": [
        "data = \"/content/drive/MyDrive/Colab Notebooks/Kuliah/Semester 7/ML/Tugas_Besar/Modul_3/dataset\"\n",
        "split = \"/content/drive/MyDrive/Colab Notebooks/Kuliah/Semester 7/ML/Tugas_Besar/Modul_3/datasplit\""
      ],
      "execution_count": null,
      "outputs": []
    },
    {
      "cell_type": "code",
      "metadata": {
        "colab": {
          "base_uri": "https://localhost:8080/"
        },
        "id": "l_Iqc8wQzCUI",
        "outputId": "759f73af-1785-4488-9383-cdcc04e3adb8"
      },
      "source": [
        "#import splitfolders\n",
        "#splitfolders.ratio(data, output=split, seed=1337, ratio=(.7,.2,.1),group_prefix=None)"
      ],
      "execution_count": null,
      "outputs": [
        {
          "name": "stderr",
          "output_type": "stream",
          "text": [
            "Copying files: 6432 files [02:12, 48.49 files/s]\n"
          ]
        }
      ]
    },
    {
      "cell_type": "code",
      "metadata": {
        "colab": {
          "base_uri": "https://localhost:8080/"
        },
        "id": "aYMcJn6S7VJP",
        "outputId": "a7d87025-8f9c-412b-e798-1254f7dea09f"
      },
      "source": [
        "!ls datasplit"
      ],
      "execution_count": null,
      "outputs": [
        {
          "output_type": "stream",
          "name": "stdout",
          "text": [
            "test  train  val\n"
          ]
        }
      ]
    },
    {
      "cell_type": "code",
      "metadata": {
        "id": "9dIwQTER7Zew"
      },
      "source": [
        "train_path = \"/content/drive/MyDrive/Colab Notebooks/Kuliah/Semester 7/ML/Tugas_Besar/Modul_3/datasplit/train\"\n",
        "val_path = \"/content/drive/MyDrive/Colab Notebooks/Kuliah/Semester 7/ML/Tugas_Besar/Modul_3/datasplit/val\"\n",
        "test_path = \"/content/drive/MyDrive/Colab Notebooks/Kuliah/Semester 7/ML/Tugas_Besar/Modul_3/datasplit/test\""
      ],
      "execution_count": null,
      "outputs": []
    },
    {
      "cell_type": "code",
      "source": [
        ""
      ],
      "metadata": {
        "id": "zb7NbLWu44yF"
      },
      "execution_count": null,
      "outputs": []
    },
    {
      "cell_type": "markdown",
      "metadata": {
        "id": "5fvmKNEW8bPu"
      },
      "source": [
        "#Preprocessing (Skenario 1)"
      ]
    },
    {
      "cell_type": "code",
      "metadata": {
        "colab": {
          "base_uri": "https://localhost:8080/"
        },
        "id": "qKlE3wEN8XBW",
        "outputId": "e7e76001-0dd0-477b-8fbb-049751f480a3"
      },
      "source": [
        "from keras.preprocessing.image import ImageDataGenerator\n",
        "from sklearn.utils import shuffle\n",
        "Batch_size=32\n",
        "augmen_gen = ImageDataGenerator(rescale=1. / 255,\n",
        "                            rotation_range=40,\n",
        "                            width_shift_range=0.2,\n",
        "                            height_shift_range=0.2,\n",
        "                            zoom_range=0.2,\n",
        "                            horizontal_flip=True,\n",
        "                            fill_mode='nearest')\n",
        "\n",
        "train_gen = augmen_gen.flow_from_directory(\n",
        "    train_path,\n",
        "    class_mode = 'categorical',\n",
        "    shuffle=False,\n",
        "    target_size = (150,150),\n",
        "    batch_size=Batch_size,\n",
        "    color_mode ='rgb'\n",
        ")\n",
        "\n",
        "val_gen = augmen_gen.flow_from_directory(\n",
        "    val_path,\n",
        "    class_mode = 'categorical',\n",
        "    shuffle=False,\n",
        "    target_size = (150,150),\n",
        "    batch_size=Batch_size,\n",
        "    color_mode ='rgb'\n",
        ")\n",
        "\n",
        "test_gen = augmen_gen.flow_from_directory(\n",
        "    test_path,\n",
        "    class_mode = 'categorical',\n",
        "    shuffle=False,\n",
        "    target_size = (150,150),\n",
        "    batch_size=Batch_size,\n",
        "    color_mode ='rgb',\n",
        ")"
      ],
      "execution_count": null,
      "outputs": [
        {
          "output_type": "stream",
          "name": "stdout",
          "text": [
            "Found 4502 images belonging to 3 classes.\n",
            "Found 1285 images belonging to 3 classes.\n",
            "Found 645 images belonging to 3 classes.\n"
          ]
        }
      ]
    },
    {
      "cell_type": "markdown",
      "metadata": {
        "id": "aqPZPhs-AYEY"
      },
      "source": [
        "# Modelling & Plotting (Skenario 3)"
      ]
    },
    {
      "cell_type": "code",
      "metadata": {
        "id": "m90pL4cl8h7s"
      },
      "source": [
        "from tensorflow.keras.models import Sequential\n",
        "from tensorflow.keras.layers import InputLayer, Dense, Conv2D, MaxPool2D, Flatten, AveragePooling2D, BatchNormalization, Dropout\n",
        "from tensorflow.keras.callbacks import ModelCheckpoint, ReduceLROnPlateau, EarlyStopping\n",
        "from tensorflow.keras.optimizers import Adam\n",
        "import time"
      ],
      "execution_count": null,
      "outputs": []
    },
    {
      "cell_type": "code",
      "metadata": {
        "id": "3yriRpDT8k59"
      },
      "source": [
        "model = Sequential()\n",
        "\n",
        "model.add(InputLayer(input_shape=[150,150,3]))\n",
        "model.add(Conv2D(filters=32, kernel_size=3, strides=1, padding='same', activation='relu'))\n",
        "model.add(MaxPool2D(pool_size=2, padding='same'))\n",
        "model.add(Conv2D(filters=64, kernel_size=3, strides=1, padding='same', activation='relu'))\n",
        "model.add(MaxPool2D(pool_size=2, padding='same'))\n",
        "model.add(Conv2D(filters=128, kernel_size=3, strides=1, padding='same', activation='relu'))\n",
        "model.add(MaxPool2D(pool_size=2, padding='same'))\n",
        "model.add(Dropout(0.25))\n",
        "model.add(BatchNormalization())\n",
        "model.add(Flatten())\n",
        "\n",
        "# Fully Connected Layer\n",
        "model.add(Dense(512, activation='relu'))\n",
        "model.add(Dropout(0.3))\n",
        "model.add(Dense(3, activation='softmax'))"
      ],
      "execution_count": null,
      "outputs": []
    },
    {
      "cell_type": "code",
      "metadata": {
        "colab": {
          "base_uri": "https://localhost:8080/"
        },
        "id": "f7f-oRwy8pVo",
        "outputId": "e0544be9-6e08-408b-f1d6-06b347e4f9ea"
      },
      "source": [
        "print(model.summary())"
      ],
      "execution_count": null,
      "outputs": [
        {
          "output_type": "stream",
          "name": "stdout",
          "text": [
            "Model: \"sequential\"\n",
            "_________________________________________________________________\n",
            " Layer (type)                Output Shape              Param #   \n",
            "=================================================================\n",
            " conv2d (Conv2D)             (None, 150, 150, 32)      896       \n",
            "                                                                 \n",
            " max_pooling2d (MaxPooling2D  (None, 75, 75, 32)       0         \n",
            " )                                                               \n",
            "                                                                 \n",
            " conv2d_1 (Conv2D)           (None, 75, 75, 64)        18496     \n",
            "                                                                 \n",
            " max_pooling2d_1 (MaxPooling  (None, 38, 38, 64)       0         \n",
            " 2D)                                                             \n",
            "                                                                 \n",
            " conv2d_2 (Conv2D)           (None, 38, 38, 128)       73856     \n",
            "                                                                 \n",
            " max_pooling2d_2 (MaxPooling  (None, 19, 19, 128)      0         \n",
            " 2D)                                                             \n",
            "                                                                 \n",
            " dropout (Dropout)           (None, 19, 19, 128)       0         \n",
            "                                                                 \n",
            " batch_normalization (BatchN  (None, 19, 19, 128)      512       \n",
            " ormalization)                                                   \n",
            "                                                                 \n",
            " flatten (Flatten)           (None, 46208)             0         \n",
            "                                                                 \n",
            " dense (Dense)               (None, 512)               23659008  \n",
            "                                                                 \n",
            " dropout_1 (Dropout)         (None, 512)               0         \n",
            "                                                                 \n",
            " dense_1 (Dense)             (None, 3)                 1539      \n",
            "                                                                 \n",
            "=================================================================\n",
            "Total params: 23,754,307\n",
            "Trainable params: 23,754,051\n",
            "Non-trainable params: 256\n",
            "_________________________________________________________________\n",
            "None\n"
          ]
        }
      ]
    },
    {
      "cell_type": "code",
      "metadata": {
        "id": "Ev42Raqo8tVo"
      },
      "source": [
        "best_model1_path = 'best1_model.h5'\n",
        "checkpoint_callback = ModelCheckpoint(best_model1_path,\n",
        "                                     monitor='val_accuracy',\n",
        "                                     save_best_only=True,\n",
        "                                     verbose=1)\n",
        "reduce_callback = ReduceLROnPlateau(monitor='val_accuracy', patience=3, factor=0.5, min_lr=0.000003, verbose=1)\n",
        "callbacks_list = [checkpoint_callback, reduce_callback]"
      ],
      "execution_count": null,
      "outputs": []
    },
    {
      "cell_type": "code",
      "metadata": {
        "colab": {
          "base_uri": "https://localhost:8080/"
        },
        "id": "IQQwO-TV8zYp",
        "outputId": "52f01216-2d53-4f9b-f529-df0049dbada0"
      },
      "source": [
        "model.compile(loss='categorical_crossentropy',\n",
        "             optimizer=Adam(lr=0.00015),\n",
        "             metrics='accuracy')"
      ],
      "execution_count": null,
      "outputs": [
        {
          "output_type": "stream",
          "name": "stderr",
          "text": [
            "/usr/local/lib/python3.7/dist-packages/keras/optimizer_v2/adam.py:105: UserWarning: The `lr` argument is deprecated, use `learning_rate` instead.\n",
            "  super(Adam, self).__init__(name, **kwargs)\n"
          ]
        }
      ]
    },
    {
      "cell_type": "code",
      "metadata": {
        "colab": {
          "base_uri": "https://localhost:8080/"
        },
        "id": "nxq5Ddza82Rj",
        "outputId": "8c31fc28-a96c-4a5f-f259-cb80d13efa50"
      },
      "source": [
        "start = time.time()\n",
        "model_1 = model.fit_generator(train_gen, epochs=20, validation_data=val_gen, validation_steps = 4, verbose=1, callbacks=[callbacks_list])\n",
        "\n",
        "End = time.time()\n",
        "print (\"training time: \", End-start,\"s\")"
      ],
      "execution_count": null,
      "outputs": [
        {
          "name": "stderr",
          "output_type": "stream",
          "text": [
            "/usr/local/lib/python3.7/dist-packages/ipykernel_launcher.py:2: UserWarning: `Model.fit_generator` is deprecated and will be removed in a future version. Please use `Model.fit`, which supports generators.\n",
            "  \n"
          ]
        },
        {
          "name": "stdout",
          "output_type": "stream",
          "text": [
            "Epoch 1/20\n",
            "141/141 [==============================] - ETA: 0s - loss: 1.1954 - accuracy: 0.6428 \n",
            "Epoch 00001: val_accuracy improved from -inf to 0.64062, saving model to best1_model.h5\n",
            "141/141 [==============================] - 3466s 25s/step - loss: 1.1954 - accuracy: 0.6428 - val_loss: 0.9086 - val_accuracy: 0.6406 - lr: 1.5000e-04\n",
            "Epoch 2/20\n",
            "141/141 [==============================] - ETA: 0s - loss: 0.5184 - accuracy: 0.8012\n",
            "Epoch 00002: val_accuracy improved from 0.64062 to 0.71875, saving model to best1_model.h5\n",
            "141/141 [==============================] - 155s 1s/step - loss: 0.5184 - accuracy: 0.8012 - val_loss: 0.6994 - val_accuracy: 0.7188 - lr: 1.5000e-04\n",
            "Epoch 3/20\n",
            "141/141 [==============================] - ETA: 0s - loss: 0.3763 - accuracy: 0.8558\n",
            "Epoch 00003: val_accuracy did not improve from 0.71875\n",
            "141/141 [==============================] - 152s 1s/step - loss: 0.3763 - accuracy: 0.8558 - val_loss: 0.9278 - val_accuracy: 0.5547 - lr: 1.5000e-04\n",
            "Epoch 4/20\n",
            "141/141 [==============================] - ETA: 0s - loss: 0.2798 - accuracy: 0.9063\n",
            "Epoch 00004: val_accuracy did not improve from 0.71875\n",
            "141/141 [==============================] - 150s 1s/step - loss: 0.2798 - accuracy: 0.9063 - val_loss: 2.0133 - val_accuracy: 0.1641 - lr: 1.5000e-04\n",
            "Epoch 5/20\n",
            "141/141 [==============================] - ETA: 0s - loss: 0.2421 - accuracy: 0.9183\n",
            "Epoch 00005: val_accuracy did not improve from 0.71875\n",
            "\n",
            "Epoch 00005: ReduceLROnPlateau reducing learning rate to 7.500000356230885e-05.\n",
            "141/141 [==============================] - 150s 1s/step - loss: 0.2421 - accuracy: 0.9183 - val_loss: 1.1314 - val_accuracy: 0.5859 - lr: 1.5000e-04\n",
            "Epoch 6/20\n",
            "141/141 [==============================] - ETA: 0s - loss: 0.2088 - accuracy: 0.9331\n",
            "Epoch 00006: val_accuracy did not improve from 0.71875\n",
            "141/141 [==============================] - 152s 1s/step - loss: 0.2088 - accuracy: 0.9331 - val_loss: 1.0465 - val_accuracy: 0.5234 - lr: 7.5000e-05\n",
            "Epoch 7/20\n",
            "141/141 [==============================] - ETA: 0s - loss: 0.1828 - accuracy: 0.9329\n",
            "Epoch 00007: val_accuracy did not improve from 0.71875\n",
            "141/141 [==============================] - 153s 1s/step - loss: 0.1828 - accuracy: 0.9329 - val_loss: 2.6944 - val_accuracy: 0.2500 - lr: 7.5000e-05\n",
            "Epoch 8/20\n",
            "141/141 [==============================] - ETA: 0s - loss: 0.1609 - accuracy: 0.9436\n",
            "Epoch 00008: val_accuracy improved from 0.71875 to 0.79688, saving model to best1_model.h5\n",
            "141/141 [==============================] - 154s 1s/step - loss: 0.1609 - accuracy: 0.9436 - val_loss: 0.5508 - val_accuracy: 0.7969 - lr: 7.5000e-05\n",
            "Epoch 9/20\n",
            "141/141 [==============================] - ETA: 0s - loss: 0.1523 - accuracy: 0.9522\n",
            "Epoch 00009: val_accuracy did not improve from 0.79688\n",
            "141/141 [==============================] - 153s 1s/step - loss: 0.1523 - accuracy: 0.9522 - val_loss: 0.8923 - val_accuracy: 0.6016 - lr: 7.5000e-05\n",
            "Epoch 10/20\n",
            "141/141 [==============================] - ETA: 0s - loss: 0.1387 - accuracy: 0.9487\n",
            "Epoch 00010: val_accuracy did not improve from 0.79688\n",
            "141/141 [==============================] - 153s 1s/step - loss: 0.1387 - accuracy: 0.9487 - val_loss: 0.9696 - val_accuracy: 0.7031 - lr: 7.5000e-05\n",
            "Epoch 11/20\n",
            "141/141 [==============================] - ETA: 0s - loss: 0.1649 - accuracy: 0.9478\n",
            "Epoch 00011: val_accuracy did not improve from 0.79688\n",
            "\n",
            "Epoch 00011: ReduceLROnPlateau reducing learning rate to 3.7500001781154424e-05.\n",
            "141/141 [==============================] - 154s 1s/step - loss: 0.1649 - accuracy: 0.9478 - val_loss: 1.8694 - val_accuracy: 0.3750 - lr: 7.5000e-05\n",
            "Epoch 12/20\n",
            "141/141 [==============================] - ETA: 0s - loss: 0.1259 - accuracy: 0.9554\n",
            "Epoch 00012: val_accuracy did not improve from 0.79688\n",
            "141/141 [==============================] - 151s 1s/step - loss: 0.1259 - accuracy: 0.9554 - val_loss: 0.4633 - val_accuracy: 0.7891 - lr: 3.7500e-05\n",
            "Epoch 13/20\n",
            "141/141 [==============================] - ETA: 0s - loss: 0.0955 - accuracy: 0.9718\n",
            "Epoch 00013: val_accuracy did not improve from 0.79688\n",
            "141/141 [==============================] - 149s 1s/step - loss: 0.0955 - accuracy: 0.9718 - val_loss: 1.7650 - val_accuracy: 0.4531 - lr: 3.7500e-05\n",
            "Epoch 14/20\n",
            "141/141 [==============================] - ETA: 0s - loss: 0.1349 - accuracy: 0.9520\n",
            "Epoch 00014: val_accuracy did not improve from 0.79688\n",
            "\n",
            "Epoch 00014: ReduceLROnPlateau reducing learning rate to 1.8750000890577212e-05.\n",
            "141/141 [==============================] - 149s 1s/step - loss: 0.1349 - accuracy: 0.9520 - val_loss: 0.7535 - val_accuracy: 0.6172 - lr: 3.7500e-05\n",
            "Epoch 15/20\n",
            "141/141 [==============================] - ETA: 0s - loss: 0.0845 - accuracy: 0.9709\n",
            "Epoch 00015: val_accuracy did not improve from 0.79688\n",
            "141/141 [==============================] - 151s 1s/step - loss: 0.0845 - accuracy: 0.9709 - val_loss: 1.1419 - val_accuracy: 0.5391 - lr: 1.8750e-05\n",
            "Epoch 16/20\n",
            "141/141 [==============================] - ETA: 0s - loss: 0.0760 - accuracy: 0.9767\n",
            "Epoch 00016: val_accuracy did not improve from 0.79688\n",
            "141/141 [==============================] - 147s 1s/step - loss: 0.0760 - accuracy: 0.9767 - val_loss: 1.7204 - val_accuracy: 0.4297 - lr: 1.8750e-05\n",
            "Epoch 17/20\n",
            "141/141 [==============================] - ETA: 0s - loss: 0.0839 - accuracy: 0.9705\n",
            "Epoch 00017: val_accuracy did not improve from 0.79688\n",
            "\n",
            "Epoch 00017: ReduceLROnPlateau reducing learning rate to 9.375000445288606e-06.\n",
            "141/141 [==============================] - 147s 1s/step - loss: 0.0839 - accuracy: 0.9705 - val_loss: 1.4071 - val_accuracy: 0.4609 - lr: 1.8750e-05\n",
            "Epoch 18/20\n",
            "141/141 [==============================] - ETA: 0s - loss: 0.0845 - accuracy: 0.9713\n",
            "Epoch 00018: val_accuracy did not improve from 0.79688\n",
            "141/141 [==============================] - 146s 1s/step - loss: 0.0845 - accuracy: 0.9713 - val_loss: 1.3280 - val_accuracy: 0.4766 - lr: 9.3750e-06\n",
            "Epoch 19/20\n",
            "141/141 [==============================] - ETA: 0s - loss: 0.0770 - accuracy: 0.9731\n",
            "Epoch 00019: val_accuracy did not improve from 0.79688\n",
            "141/141 [==============================] - 147s 1s/step - loss: 0.0770 - accuracy: 0.9731 - val_loss: 1.5679 - val_accuracy: 0.4219 - lr: 9.3750e-06\n",
            "Epoch 20/20\n",
            "141/141 [==============================] - ETA: 0s - loss: 0.0793 - accuracy: 0.9758\n",
            "Epoch 00020: val_accuracy did not improve from 0.79688\n",
            "\n",
            "Epoch 00020: ReduceLROnPlateau reducing learning rate to 4.687500222644303e-06.\n",
            "141/141 [==============================] - 147s 1s/step - loss: 0.0793 - accuracy: 0.9758 - val_loss: 1.6680 - val_accuracy: 0.3672 - lr: 9.3750e-06\n",
            "training time:  6404.26530790329 s\n"
          ]
        }
      ]
    },
    {
      "cell_type": "code",
      "metadata": {
        "colab": {
          "base_uri": "https://localhost:8080/",
          "height": 581
        },
        "id": "-AhwbNmasNfn",
        "outputId": "22a9e7bf-2da9-4393-f36e-514c81d900df"
      },
      "source": [
        "import matplotlib.pyplot as plt\n",
        "import numpy as np\n",
        "\n",
        "plt.style.use(\"ggplot\")\n",
        "\n",
        "plt.plot(np.arange(0, 20), model_1.history[\"loss\"], label=\"train_loss\")\n",
        "plt.plot(np.arange(0, 20), model_1.history[\"val_loss\"], label=\"val_loss\")\n",
        "plt.title(\"Loss Plot\")\n",
        "plt.xlabel(\"Epoch #\")\n",
        "plt.ylabel(\"Loss\")\n",
        "plt.show()\n",
        "\n",
        "plt.plot(np.arange(0, 20), model_1.history[\"accuracy\"], label=\"train_acc\")\n",
        "plt.plot(np.arange(0, 20), model_1.history[\"val_accuracy\"], label=\"val_acc\")\n",
        "plt.title(\"Accuracy Plot\")\n",
        "plt.xlabel(\"Epoch #\")\n",
        "plt.ylabel(\"Accuracy\")\n",
        "plt.legend()\n",
        "plt.show()"
      ],
      "execution_count": null,
      "outputs": [
        {
          "data": {
            "image/png": "[encoded data removed]",
            "text/plain": [
              "<Figure size 432x288 with 1 Axes>"
            ]
          },
          "metadata": {},
          "output_type": "display_data"
        },
        {
          "data": {
            "image/png": "[encoded data removed]",
            "text/plain": [
              "<Figure size 432x288 with 1 Axes>"
            ]
          },
          "metadata": {},
          "output_type": "display_data"
        }
      ]
    },
    {
      "cell_type": "code",
      "metadata": {
        "colab": {
          "base_uri": "https://localhost:8080/"
        },
        "id": "LjE4L1pHxPwV",
        "outputId": "1568cb92-82ed-4abf-ece5-0236a8d1adf8"
      },
      "source": [
        "from sklearn.metrics import classification_report\n",
        "\n",
        "model.load_weights(best_model1_path)\n",
        "pred = model.predict(test_gen)\n",
        "predictions = np.argmax(pred, axis = 1)\n",
        "#labels = (pred > 0.5).astype(np.int)\n",
        "print(classification_report(test_gen.classes,predictions))"
      ],
      "execution_count": null,
      "outputs": [
        {
          "name": "stdout",
          "output_type": "stream",
          "text": [
            "              precision    recall  f1-score   support\n",
            "\n",
            "           0       0.70      0.90      0.79        58\n",
            "           1       0.85      0.11      0.19       159\n",
            "           2       0.75      0.96      0.84       428\n",
            "\n",
            "    accuracy                           0.75       645\n",
            "   macro avg       0.77      0.66      0.61       645\n",
            "weighted avg       0.77      0.75      0.68       645\n",
            "\n"
          ]
        }
      ]
    },
    {
      "cell_type": "markdown",
      "metadata": {
        "id": "hvrfHekSDf03"
      },
      "source": [
        "# Modelling & Plotting (Skenario 4)"
      ]
    },
    {
      "cell_type": "code",
      "metadata": {
        "id": "kO6kE2bD3UaB"
      },
      "source": [
        "model2 = Sequential()\n",
        "\n",
        "model2.add(InputLayer(input_shape=[150,150,3]))\n",
        "model2.add(Conv2D(filters=32, kernel_size=3, strides=1, padding='same', activation='relu'))\n",
        "model2.add(BatchNormalization())\n",
        "model2.add(MaxPool2D(pool_size=2, padding='same'))\n",
        "model2.add(Conv2D(filters=64, kernel_size=3, strides=1, padding='same', activation='relu'))\n",
        "model2.add(BatchNormalization())\n",
        "model2.add(MaxPool2D(pool_size=2, padding='same'))\n",
        "model2.add(Conv2D(filters=128, kernel_size=3, strides=1, padding='same', activation='relu'))\n",
        "model2.add(BatchNormalization())\n",
        "model2.add(MaxPool2D(pool_size=2, padding='same'))\n",
        "model2.add(Dropout(0.25))\n",
        "model2.add(Flatten())\n",
        "\n",
        "# Fully Connected Layer\n",
        "model2.add(Dense(512, activation='relu'))\n",
        "model2.add(Dropout(0.3))\n",
        "model2.add(Dense(3, activation='softmax'))"
      ],
      "execution_count": null,
      "outputs": []
    },
    {
      "cell_type": "code",
      "metadata": {
        "colab": {
          "base_uri": "https://localhost:8080/"
        },
        "id": "EuPUhYzB3VUw",
        "outputId": "399fd1fa-ea99-40f5-da41-6a26cbfc2cb4"
      },
      "source": [
        "print(model2.summary())"
      ],
      "execution_count": null,
      "outputs": [
        {
          "output_type": "stream",
          "name": "stdout",
          "text": [
            "Model: \"sequential_3\"\n",
            "_________________________________________________________________\n",
            " Layer (type)                Output Shape              Param #   \n",
            "=================================================================\n",
            " conv2d_9 (Conv2D)           (None, 150, 150, 32)      896       \n",
            "                                                                 \n",
            " batch_normalization_5 (Batc  (None, 150, 150, 32)     128       \n",
            " hNormalization)                                                 \n",
            "                                                                 \n",
            " max_pooling2d_6 (MaxPooling  (None, 75, 75, 32)       0         \n",
            " 2D)                                                             \n",
            "                                                                 \n",
            " conv2d_10 (Conv2D)          (None, 75, 75, 64)        18496     \n",
            "                                                                 \n",
            " batch_normalization_6 (Batc  (None, 75, 75, 64)       256       \n",
            " hNormalization)                                                 \n",
            "                                                                 \n",
            " max_pooling2d_7 (MaxPooling  (None, 38, 38, 64)       0         \n",
            " 2D)                                                             \n",
            "                                                                 \n",
            " conv2d_11 (Conv2D)          (None, 38, 38, 128)       73856     \n",
            "                                                                 \n",
            " batch_normalization_7 (Batc  (None, 38, 38, 128)      512       \n",
            " hNormalization)                                                 \n",
            "                                                                 \n",
            " max_pooling2d_8 (MaxPooling  (None, 19, 19, 128)      0         \n",
            " 2D)                                                             \n",
            "                                                                 \n",
            " dropout_8 (Dropout)         (None, 19, 19, 128)       0         \n",
            "                                                                 \n",
            " flatten_3 (Flatten)         (None, 46208)             0         \n",
            "                                                                 \n",
            " dense_7 (Dense)             (None, 512)               23659008  \n",
            "                                                                 \n",
            " dropout_9 (Dropout)         (None, 512)               0         \n",
            "                                                                 \n",
            " dense_8 (Dense)             (None, 3)                 1539      \n",
            "                                                                 \n",
            "=================================================================\n",
            "Total params: 23,754,691\n",
            "Trainable params: 23,754,243\n",
            "Non-trainable params: 448\n",
            "_________________________________________________________________\n",
            "None\n"
          ]
        }
      ]
    },
    {
      "cell_type": "code",
      "metadata": {
        "colab": {
          "base_uri": "https://localhost:8080/"
        },
        "id": "ZAHous6M2hJK",
        "outputId": "58c9b4fd-c58e-4d37-acac-9da39efc3dbb"
      },
      "source": [
        "model2.compile(loss='categorical_crossentropy',\n",
        "             optimizer=Adam(lr=0.000015),\n",
        "             metrics='accuracy')"
      ],
      "execution_count": null,
      "outputs": [
        {
          "output_type": "stream",
          "name": "stderr",
          "text": [
            "/usr/local/lib/python3.7/dist-packages/keras/optimizer_v2/adam.py:105: UserWarning: The `lr` argument is deprecated, use `learning_rate` instead.\n",
            "  super(Adam, self).__init__(name, **kwargs)\n"
          ]
        }
      ]
    },
    {
      "cell_type": "code",
      "metadata": {
        "colab": {
          "base_uri": "https://localhost:8080/"
        },
        "id": "wEuLOzJG2qZ4",
        "outputId": "5ac1fda8-11c8-4933-a7b4-b681f5cb9562"
      },
      "source": [
        "model_2 = model2.fit_generator(train_gen, epochs=50, validation_data=val_gen, validation_steps = 4, verbose=1)"
      ],
      "execution_count": null,
      "outputs": [
        {
          "output_type": "stream",
          "name": "stderr",
          "text": [
            "/usr/local/lib/python3.7/dist-packages/ipykernel_launcher.py:1: UserWarning: `Model.fit_generator` is deprecated and will be removed in a future version. Please use `Model.fit`, which supports generators.\n",
            "  \"\"\"Entry point for launching an IPython kernel.\n"
          ]
        },
        {
          "output_type": "stream",
          "name": "stdout",
          "text": [
            "Epoch 1/50\n",
            "141/141 [==============================] - 149s 1s/step - loss: 1.3595 - accuracy: 0.6368 - val_loss: 1.1128 - val_accuracy: 0.0859\n",
            "Epoch 2/50\n",
            "141/141 [==============================] - 147s 1s/step - loss: 0.5278 - accuracy: 0.8008 - val_loss: 2.8140 - val_accuracy: 0.1172\n",
            "Epoch 3/50\n",
            "141/141 [==============================] - 146s 1s/step - loss: 0.3926 - accuracy: 0.8543 - val_loss: 4.2744 - val_accuracy: 0.1172\n",
            "Epoch 4/50\n",
            "141/141 [==============================] - 146s 1s/step - loss: 0.3126 - accuracy: 0.8787 - val_loss: 2.4633 - val_accuracy: 0.3516\n",
            "Epoch 5/50\n",
            "141/141 [==============================] - 147s 1s/step - loss: 0.3006 - accuracy: 0.8829 - val_loss: 2.7104 - val_accuracy: 0.2188\n",
            "Epoch 6/50\n",
            "141/141 [==============================] - 144s 1s/step - loss: 0.2167 - accuracy: 0.9227 - val_loss: 1.7982 - val_accuracy: 0.4297\n",
            "Epoch 7/50\n",
            "141/141 [==============================] - 146s 1s/step - loss: 0.2120 - accuracy: 0.9249 - val_loss: 1.0681 - val_accuracy: 0.6484\n",
            "Epoch 8/50\n",
            "141/141 [==============================] - 147s 1s/step - loss: 0.1726 - accuracy: 0.9429 - val_loss: 0.8864 - val_accuracy: 0.7109\n",
            "Epoch 9/50\n",
            "141/141 [==============================] - 146s 1s/step - loss: 0.1703 - accuracy: 0.9418 - val_loss: 1.1080 - val_accuracy: 0.5703\n",
            "Epoch 10/50\n",
            "141/141 [==============================] - 146s 1s/step - loss: 0.1407 - accuracy: 0.9534 - val_loss: 1.9786 - val_accuracy: 0.3516\n",
            "Epoch 11/50\n",
            "141/141 [==============================] - 145s 1s/step - loss: 0.1367 - accuracy: 0.9518 - val_loss: 2.1437 - val_accuracy: 0.3750\n",
            "Epoch 12/50\n",
            "141/141 [==============================] - 144s 1s/step - loss: 0.1187 - accuracy: 0.9631 - val_loss: 1.5375 - val_accuracy: 0.5547\n",
            "Epoch 13/50\n",
            "141/141 [==============================] - 148s 1s/step - loss: 0.1303 - accuracy: 0.9605 - val_loss: 1.5951 - val_accuracy: 0.4922\n",
            "Epoch 14/50\n",
            "141/141 [==============================] - 147s 1s/step - loss: 0.1151 - accuracy: 0.9629 - val_loss: 1.5930 - val_accuracy: 0.5234\n",
            "Epoch 15/50\n",
            "141/141 [==============================] - 145s 1s/step - loss: 0.0975 - accuracy: 0.9689 - val_loss: 2.0643 - val_accuracy: 0.4062\n",
            "Epoch 16/50\n",
            "141/141 [==============================] - 146s 1s/step - loss: 0.1158 - accuracy: 0.9622 - val_loss: 1.6286 - val_accuracy: 0.5000\n",
            "Epoch 17/50\n",
            "141/141 [==============================] - 149s 1s/step - loss: 0.1056 - accuracy: 0.9667 - val_loss: 4.0857 - val_accuracy: 0.1875\n",
            "Epoch 18/50\n",
            "141/141 [==============================] - 147s 1s/step - loss: 0.0998 - accuracy: 0.9665 - val_loss: 1.5767 - val_accuracy: 0.5156\n",
            "Epoch 19/50\n",
            "141/141 [==============================] - 146s 1s/step - loss: 0.1324 - accuracy: 0.9531 - val_loss: 2.3946 - val_accuracy: 0.4141\n",
            "Epoch 20/50\n",
            "141/141 [==============================] - 146s 1s/step - loss: 0.0937 - accuracy: 0.9671 - val_loss: 2.7596 - val_accuracy: 0.3438\n",
            "Epoch 21/50\n",
            "141/141 [==============================] - 145s 1s/step - loss: 0.0941 - accuracy: 0.9685 - val_loss: 2.4063 - val_accuracy: 0.4609\n",
            "Epoch 22/50\n",
            "141/141 [==============================] - 145s 1s/step - loss: 0.0797 - accuracy: 0.9716 - val_loss: 2.5337 - val_accuracy: 0.5156\n",
            "Epoch 23/50\n",
            "141/141 [==============================] - 146s 1s/step - loss: 0.1073 - accuracy: 0.9707 - val_loss: 2.2801 - val_accuracy: 0.3906\n",
            "Epoch 24/50\n",
            "141/141 [==============================] - 145s 1s/step - loss: 0.1203 - accuracy: 0.9627 - val_loss: 4.6946 - val_accuracy: 0.0781\n",
            "Epoch 25/50\n",
            "141/141 [==============================] - 144s 1s/step - loss: 0.0628 - accuracy: 0.9791 - val_loss: 3.5504 - val_accuracy: 0.2969\n",
            "Epoch 26/50\n",
            "141/141 [==============================] - 144s 1s/step - loss: 0.0797 - accuracy: 0.9751 - val_loss: 2.0973 - val_accuracy: 0.4922\n",
            "Epoch 27/50\n",
            "141/141 [==============================] - 147s 1s/step - loss: 0.0887 - accuracy: 0.9696 - val_loss: 4.0837 - val_accuracy: 0.2422\n",
            "Epoch 28/50\n",
            "141/141 [==============================] - 150s 1s/step - loss: 0.0694 - accuracy: 0.9745 - val_loss: 3.0731 - val_accuracy: 0.3359\n",
            "Epoch 29/50\n",
            "141/141 [==============================] - 147s 1s/step - loss: 0.0547 - accuracy: 0.9836 - val_loss: 5.6338 - val_accuracy: 0.0625\n",
            "Epoch 30/50\n",
            "141/141 [==============================] - 147s 1s/step - loss: 0.0765 - accuracy: 0.9745 - val_loss: 2.2755 - val_accuracy: 0.4219\n",
            "Epoch 31/50\n",
            "141/141 [==============================] - 145s 1s/step - loss: 0.0792 - accuracy: 0.9749 - val_loss: 1.4830 - val_accuracy: 0.5312\n",
            "Epoch 32/50\n",
            "141/141 [==============================] - 144s 1s/step - loss: 0.0906 - accuracy: 0.9709 - val_loss: 2.2371 - val_accuracy: 0.4375\n",
            "Epoch 33/50\n",
            "141/141 [==============================] - 144s 1s/step - loss: 0.0628 - accuracy: 0.9798 - val_loss: 2.5881 - val_accuracy: 0.4141\n",
            "Epoch 34/50\n",
            "141/141 [==============================] - 144s 1s/step - loss: 0.0727 - accuracy: 0.9771 - val_loss: 2.0456 - val_accuracy: 0.5078\n",
            "Epoch 35/50\n",
            "141/141 [==============================] - 146s 1s/step - loss: 0.0511 - accuracy: 0.9862 - val_loss: 1.9162 - val_accuracy: 0.5547\n",
            "Epoch 36/50\n",
            "141/141 [==============================] - 147s 1s/step - loss: 0.0567 - accuracy: 0.9816 - val_loss: 1.9128 - val_accuracy: 0.4922\n",
            "Epoch 37/50\n",
            "141/141 [==============================] - 146s 1s/step - loss: 0.0456 - accuracy: 0.9876 - val_loss: 3.3143 - val_accuracy: 0.2422\n",
            "Epoch 38/50\n",
            "141/141 [==============================] - 144s 1s/step - loss: 0.0562 - accuracy: 0.9836 - val_loss: 5.8760 - val_accuracy: 0.0625\n",
            "Epoch 39/50\n",
            "141/141 [==============================] - 145s 1s/step - loss: 0.0572 - accuracy: 0.9813 - val_loss: 2.3243 - val_accuracy: 0.4766\n",
            "Epoch 40/50\n",
            "141/141 [==============================] - 145s 1s/step - loss: 0.0332 - accuracy: 0.9884 - val_loss: 4.5275 - val_accuracy: 0.2266\n",
            "Epoch 41/50\n",
            "141/141 [==============================] - 147s 1s/step - loss: 0.0631 - accuracy: 0.9809 - val_loss: 4.1489 - val_accuracy: 0.2578\n",
            "Epoch 42/50\n",
            "141/141 [==============================] - 148s 1s/step - loss: 0.0592 - accuracy: 0.9807 - val_loss: 4.8682 - val_accuracy: 0.1484\n",
            "Epoch 43/50\n",
            "141/141 [==============================] - 151s 1s/step - loss: 0.0768 - accuracy: 0.9738 - val_loss: 1.9144 - val_accuracy: 0.4844\n",
            "Epoch 44/50\n",
            "141/141 [==============================] - 151s 1s/step - loss: 0.0561 - accuracy: 0.9833 - val_loss: 2.3754 - val_accuracy: 0.3047\n",
            "Epoch 45/50\n",
            "141/141 [==============================] - 152s 1s/step - loss: 0.0693 - accuracy: 0.9776 - val_loss: 1.7810 - val_accuracy: 0.5469\n",
            "Epoch 46/50\n",
            "141/141 [==============================] - 148s 1s/step - loss: 0.0384 - accuracy: 0.9884 - val_loss: 4.9039 - val_accuracy: 0.2266\n",
            "Epoch 47/50\n",
            "141/141 [==============================] - 147s 1s/step - loss: 0.0603 - accuracy: 0.9809 - val_loss: 4.7000 - val_accuracy: 0.2266\n",
            "Epoch 48/50\n",
            "141/141 [==============================] - 144s 1s/step - loss: 0.0783 - accuracy: 0.9747 - val_loss: 4.8261 - val_accuracy: 0.2031\n",
            "Epoch 49/50\n",
            "141/141 [==============================] - 147s 1s/step - loss: 0.0736 - accuracy: 0.9789 - val_loss: 3.1919 - val_accuracy: 0.2969\n",
            "Epoch 50/50\n",
            "141/141 [==============================] - 145s 1s/step - loss: 0.0512 - accuracy: 0.9836 - val_loss: 3.5983 - val_accuracy: 0.3047\n"
          ]
        }
      ]
    },
    {
      "cell_type": "code",
      "metadata": {
        "id": "bFPCul3Od0i7",
        "colab": {
          "base_uri": "https://localhost:8080/",
          "height": 581
        },
        "outputId": "a32df194-7597-40fa-8570-4942748f07aa"
      },
      "source": [
        "import matplotlib.pyplot as plt\n",
        "import numpy as np\n",
        "\n",
        "plt.style.use(\"ggplot\")\n",
        "\n",
        "plt.plot(np.arange(0, 50), model_2.history[\"loss\"], label=\"train_loss\")\n",
        "plt.plot(np.arange(0, 50), model_2.history[\"val_loss\"], label=\"val_loss\")\n",
        "plt.title(\"Loss Plot\")\n",
        "plt.xlabel(\"Epoch #\")\n",
        "plt.ylabel(\"Loss\")\n",
        "plt.show()\n",
        "\n",
        "plt.plot(np.arange(0, 50), model_2.history[\"accuracy\"], label=\"train_acc\")\n",
        "plt.plot(np.arange(0, 50), model_2.history[\"val_accuracy\"], label=\"val_acc\")\n",
        "plt.title(\"Accuracy Plot\")\n",
        "plt.xlabel(\"Epoch #\")\n",
        "plt.ylabel(\"Accuracy\")\n",
        "plt.legend()\n",
        "plt.show()"
      ],
      "execution_count": null,
      "outputs": [
        {
          "output_type": "display_data",
          "data": {
            "image/png": "[encoded data removed]",
            "text/plain": [
              "<Figure size 432x288 with 1 Axes>"
            ]
          },
          "metadata": {}
        },
        {
          "output_type": "display_data",
          "data": {
            "image/png": "[encoded data removed]",
            "text/plain": [
              "<Figure size 432x288 with 1 Axes>"
            ]
          },
          "metadata": {}
        }
      ]
    },
    {
      "cell_type": "code",
      "metadata": {
        "id": "XETRzTc2eBSK",
        "colab": {
          "base_uri": "https://localhost:8080/"
        },
        "outputId": "dc77d45c-685b-436f-cbff-ceec01ddd3aa"
      },
      "source": [
        "from sklearn.metrics import classification_report\n",
        "\n",
        "pred = model2.predict(test_gen)\n",
        "predictions = np.argmax(pred, axis = 1)\n",
        "# labels = (pred > 0.5).astype(np.int)\n",
        "print(classification_report(test_gen.classes,predictions))"
      ],
      "execution_count": null,
      "outputs": [
        {
          "output_type": "stream",
          "name": "stdout",
          "text": [
            "              precision    recall  f1-score   support\n",
            "\n",
            "           0       1.00      0.41      0.59        58\n",
            "           1       0.70      0.10      0.18       159\n",
            "           2       0.71      1.00      0.83       428\n",
            "\n",
            "    accuracy                           0.72       645\n",
            "   macro avg       0.80      0.50      0.53       645\n",
            "weighted avg       0.74      0.72      0.65       645\n",
            "\n"
          ]
        }
      ]
    }
  ]
}