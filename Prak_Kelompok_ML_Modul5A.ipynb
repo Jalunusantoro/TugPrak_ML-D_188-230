{
  "nbformat": 4,
  "nbformat_minor": 0,
  "metadata": {
    "colab": {
      "name": "Prak_Kelompok_ML_Modul5_Skenario8.ipynb",
      "provenance": [],
      "collapsed_sections": [
        "DSR4ZzFzdpay",
        "o9l9qYnGdvFU",
        "lLuzp4qdeh2n",
        "rqzEHnUsemXY",
        "wRCgoJg3ewra",
        "lwIIGTRme4a5",
        "pu8yX5defEHv"
      ]
    },
    "kernelspec": {
      "name": "python3",
      "display_name": "Python 3"
    },
    "language_info": {
      "name": "python"
    }
  },
  "cells": [
    {
      "cell_type": "markdown",
      "source": [
        "# Klasifikasi Citra Penyakit Radang Paru-Paru dan Paru Paru Terindikasi COVID19 Menggunakan Metode CNN"
      ],
      "metadata": {
        "id": "DSR4ZzFzdpay"
      }
    },
    {
      "cell_type": "markdown",
      "source": [
        "Link Kaggle : https://www.kaggle.com/prashant268/chest-xray-covid19-pneumonia"
      ],
      "metadata": {
        "id": "ECzwU4nFdsr2"
      }
    },
    {
      "cell_type": "markdown",
      "source": [
        "# Import"
      ],
      "metadata": {
        "id": "o9l9qYnGdvFU"
      }
    },
    {
      "cell_type": "code",
      "execution_count": null,
      "metadata": {
        "id": "gYdad9BCThEz"
      },
      "outputs": [],
      "source": [
        "import numpy as np # linear algebra\n",
        "import pandas as pd # data processing, CSV file I/O (e.g. pd.read_csv)\n",
        "\n",
        "import os\n",
        "for dirname, _, filenames in os.walk('/kaggle/input'):\n",
        "    for filename in filenames:\n",
        "        print(os.path.join(dirname, filename))\n",
        "\n",
        "import pandas as pd\n",
        "import numpy as np \n",
        "import seaborn as sns\n",
        "import matplotlib.pyplot as plt \n",
        "import warnings\n",
        "warnings.filterwarnings('ignore')\n",
        "\n",
        "from tensorflow.keras.preprocessing.image import ImageDataGenerator\n",
        "from tensorflow.keras.models import Sequential\n",
        "from tensorflow.keras.layers import Activation, Dropout, Flatten, Dense, Conv2D, MaxPooling2D\n",
        "from tensorflow.keras.callbacks import EarlyStopping, ModelCheckpoint, ReduceLROnPlateau\n",
        "\n",
        "%matplotlib inline"
      ]
    },
    {
      "cell_type": "markdown",
      "source": [
        "# Drive"
      ],
      "metadata": {
        "id": "lLuzp4qdeh2n"
      }
    },
    {
      "cell_type": "code",
      "source": [
        "from google.colab import drive\n",
        "drive.mount('/content/drive')"
      ],
      "metadata": {
        "colab": {
          "base_uri": "https://localhost:8080/"
        },
        "id": "Kh3q9n-EVxu8",
        "outputId": "577957e4-5044-48c2-8ab5-801e385e9ea6"
      },
      "execution_count": null,
      "outputs": [
        {
          "output_type": "stream",
          "name": "stdout",
          "text": [
            "Mounted at /content/drive\n"
          ]
        }
      ]
    },
    {
      "cell_type": "code",
      "source": [
        "import os\n",
        "os.environ['KAGGLE_CONFIG_DIR'] = \"/content/drive/MyDrive/Colab Notebooks/Kuliah/Semester 7/ML/Tugas_Besar/Modul\""
      ],
      "metadata": {
        "id": "SIdO3vtzWX0k"
      },
      "execution_count": null,
      "outputs": []
    },
    {
      "cell_type": "code",
      "source": [
        "%cd /content/drive/MyDrive/Colab Notebooks/Kuliah/Semester 7/ML/Tugas_Besar/Modul/Datasplit"
      ],
      "metadata": {
        "colab": {
          "base_uri": "https://localhost:8080/"
        },
        "id": "89y4Rv0UXBJ8",
        "outputId": "f67f91a4-febd-46e1-ff04-119968c5e47a"
      },
      "execution_count": null,
      "outputs": [
        {
          "output_type": "stream",
          "name": "stdout",
          "text": [
            "/content/drive/MyDrive/Colab Notebooks/Kuliah/Semester 7/ML/Tugas_Besar/Modul/Datasplit\n"
          ]
        }
      ]
    },
    {
      "cell_type": "code",
      "source": [
        "!ls"
      ],
      "metadata": {
        "colab": {
          "base_uri": "https://localhost:8080/"
        },
        "id": "Dm34Z8M_WgWt",
        "outputId": "264bdc6b-8ba9-485f-dc26-65fa12013369"
      },
      "execution_count": null,
      "outputs": [
        {
          "output_type": "stream",
          "name": "stdout",
          "text": [
            "Model_tubes5.h5  test  train  val\n"
          ]
        }
      ]
    },
    {
      "cell_type": "markdown",
      "source": [
        "# Load Data"
      ],
      "metadata": {
        "id": "rqzEHnUsemXY"
      }
    },
    {
      "cell_type": "code",
      "source": [
        "data_dir = r'/content/drive/MyDrive/Colab Notebooks/Kuliah/Semester 7/ML/Tugas_Besar/Modul/Datasplit'\n",
        "test_path = data_dir+'/test/'\n",
        "train_path = data_dir+'/train/'"
      ],
      "metadata": {
        "id": "KZUVHCeeWvyY"
      },
      "execution_count": null,
      "outputs": []
    },
    {
      "cell_type": "markdown",
      "source": [
        "# Preprocessing (Skenario 2)"
      ],
      "metadata": {
        "id": "wRCgoJg3ewra"
      }
    },
    {
      "cell_type": "code",
      "source": [
        "image_shape = (100,100,1)\n",
        "image_gen = ImageDataGenerator(rotation_range=20,\n",
        "                               width_shift_range=0.10,\n",
        "                               height_shift_range=0.10,\n",
        "                               rescale=1/255,\n",
        "                               shear_range=0.1,\n",
        "                               zoom_range=0.1,\n",
        "                               horizontal_flip=True,\n",
        "                               fill_mode='nearest')"
      ],
      "metadata": {
        "id": "TzJOnTSnXNCh"
      },
      "execution_count": null,
      "outputs": []
    },
    {
      "cell_type": "code",
      "source": [
        "train_image_gen = image_gen.flow_from_directory(train_path,\n",
        "                                               target_size=(100,100),\n",
        "                                                color_mode='grayscale',\n",
        "                                               batch_size=batch_size,\n",
        "                                               class_mode='categorical')"
      ],
      "metadata": {
        "colab": {
          "base_uri": "https://localhost:8080/"
        },
        "id": "Ptlvfg8zXW7N",
        "outputId": "37f8bad1-76e7-42ac-b42d-0c53198e44a5"
      },
      "execution_count": null,
      "outputs": [
        {
          "output_type": "stream",
          "name": "stdout",
          "text": [
            "Found 5144 images belonging to 3 classes.\n"
          ]
        }
      ]
    },
    {
      "cell_type": "code",
      "source": [
        "test_image_gen = image_gen.flow_from_directory(test_path,\n",
        "                                               target_size=(100,100),\n",
        "                                               color_mode='grayscale',\n",
        "                                               batch_size=batch_size,\n",
        "                                               class_mode='categorical',shuffle=False)"
      ],
      "metadata": {
        "id": "PxyLTlgtXe1R",
        "colab": {
          "base_uri": "https://localhost:8080/"
        },
        "outputId": "0de2f95e-894d-4b97-b017-abebd2151945"
      },
      "execution_count": null,
      "outputs": [
        {
          "output_type": "stream",
          "name": "stdout",
          "text": [
            "Found 68 images belonging to 3 classes.\n"
          ]
        }
      ]
    },
    {
      "cell_type": "markdown",
      "source": [
        "# Modelling & Plotting (Skenario 8)"
      ],
      "metadata": {
        "id": "lwIIGTRme4a5"
      }
    },
    {
      "cell_type": "code",
      "source": [
        "model = Sequential()\n",
        "\n",
        "model.add(Conv2D(filters=128, kernel_size=(3,3),input_shape=image_shape, activation='relu',))\n",
        "model.add(MaxPooling2D(pool_size=(2, 2)))\n",
        "\n",
        "model.add(Conv2D(filters=64, kernel_size=(3,3),input_shape=image_shape, activation='relu',))\n",
        "model.add(MaxPooling2D(pool_size=(2, 2)))\n",
        "\n",
        "model.add(Conv2D(filters=32, kernel_size=(3,3),input_shape=image_shape, activation='relu',))\n",
        "model.add(MaxPooling2D(pool_size=(2, 2)))\n",
        "\n",
        "\n",
        "model.add(Flatten())\n",
        "\n",
        "\n",
        "model.add(Dense(64, activation = 'relu'))\n",
        "model.add(Dropout(0.5))\n",
        "\n",
        "model.add(Dense(3, activation = 'softmax'))\n",
        "model.compile(loss='categorical_crossentropy',\n",
        "              optimizer='adam',\n",
        "              metrics=['accuracy'])\n",
        "model.summary()"
      ],
      "metadata": {
        "colab": {
          "base_uri": "https://localhost:8080/"
        },
        "id": "pmU0UlkTXPJF",
        "outputId": "b5464b97-8237-4c0d-8b71-390f47e06516"
      },
      "execution_count": null,
      "outputs": [
        {
          "output_type": "stream",
          "name": "stdout",
          "text": [
            "Model: \"sequential\"\n",
            "_________________________________________________________________\n",
            " Layer (type)                Output Shape              Param #   \n",
            "=================================================================\n",
            " conv2d (Conv2D)             (None, 98, 98, 128)       1280      \n",
            "                                                                 \n",
            " max_pooling2d (MaxPooling2D  (None, 49, 49, 128)      0         \n",
            " )                                                               \n",
            "                                                                 \n",
            " conv2d_1 (Conv2D)           (None, 47, 47, 64)        73792     \n",
            "                                                                 \n",
            " max_pooling2d_1 (MaxPooling  (None, 23, 23, 64)       0         \n",
            " 2D)                                                             \n",
            "                                                                 \n",
            " conv2d_2 (Conv2D)           (None, 21, 21, 32)        18464     \n",
            "                                                                 \n",
            " max_pooling2d_2 (MaxPooling  (None, 10, 10, 32)       0         \n",
            " 2D)                                                             \n",
            "                                                                 \n",
            " flatten (Flatten)           (None, 3200)              0         \n",
            "                                                                 \n",
            " dense (Dense)               (None, 64)                204864    \n",
            "                                                                 \n",
            " dropout (Dropout)           (None, 64)                0         \n",
            "                                                                 \n",
            " dense_1 (Dense)             (None, 3)                 195       \n",
            "                                                                 \n",
            "=================================================================\n",
            "Total params: 298,595\n",
            "Trainable params: 298,595\n",
            "Non-trainable params: 0\n",
            "_________________________________________________________________\n"
          ]
        }
      ]
    },
    {
      "cell_type": "code",
      "source": [
        "#early_stop = EarlyStopping(monitor='val_loss',patience=2, verbose = 1)\n",
        "\n",
        "best_model_path = 'Model2_tubes5.h5'\n",
        "checkpoint_callback = ModelCheckpoint(best_model_path, monitor='val_accuracy', save_best_only=True, verbose=1)\n",
        "batch_size = 64"
      ],
      "metadata": {
        "id": "gXWwn0muC_vz"
      },
      "execution_count": null,
      "outputs": []
    },
    {
      "cell_type": "code",
      "source": [
        "print(train_image_gen.class_indices)\n",
        "print(test_image_gen.class_indices)"
      ],
      "metadata": {
        "id": "p2fMSTjBXkQt",
        "colab": {
          "base_uri": "https://localhost:8080/"
        },
        "outputId": "027fa289-df14-498a-f2ee-e28585098a8f"
      },
      "execution_count": null,
      "outputs": [
        {
          "output_type": "stream",
          "name": "stdout",
          "text": [
            "{'COVID 19': 0, 'NORMAL': 1, 'PNEUMONIA': 2}\n",
            "{'COVID 19': 0, 'NORMAL': 1, 'PNEUMONIA': 2}\n"
          ]
        }
      ]
    },
    {
      "cell_type": "code",
      "source": [
        "results = model.fit(train_image_gen,epochs=50,\n",
        "                              validation_data=test_image_gen,\n",
        "                             callbacks=[checkpoint_callback])"
      ],
      "metadata": {
        "id": "aqJ515ytXwrN",
        "colab": {
          "base_uri": "https://localhost:8080/"
        },
        "outputId": "f87f6e87-a5d0-4c2b-b709-e7bee81c0dc4"
      },
      "execution_count": null,
      "outputs": [
        {
          "output_type": "stream",
          "name": "stdout",
          "text": [
            "Epoch 1/50\n",
            "81/81 [==============================] - ETA: 0s - loss: 0.7578 - accuracy: 0.6800 \n",
            "Epoch 00001: val_accuracy improved from -inf to 0.73529, saving model to Model2_tubes5.h5\n",
            "81/81 [==============================] - 3298s 41s/step - loss: 0.7578 - accuracy: 0.6800 - val_loss: 0.5454 - val_accuracy: 0.7353\n",
            "Epoch 2/50\n",
            "81/81 [==============================] - ETA: 0s - loss: 0.4957 - accuracy: 0.7910\n",
            "Epoch 00002: val_accuracy improved from 0.73529 to 0.86765, saving model to Model2_tubes5.h5\n",
            "81/81 [==============================] - 160s 2s/step - loss: 0.4957 - accuracy: 0.7910 - val_loss: 0.3427 - val_accuracy: 0.8676\n",
            "Epoch 3/50\n",
            "81/81 [==============================] - ETA: 0s - loss: 0.4244 - accuracy: 0.8320\n",
            "Epoch 00003: val_accuracy improved from 0.86765 to 0.89706, saving model to Model2_tubes5.h5\n",
            "81/81 [==============================] - 159s 2s/step - loss: 0.4244 - accuracy: 0.8320 - val_loss: 0.3116 - val_accuracy: 0.8971\n",
            "Epoch 4/50\n",
            "81/81 [==============================] - ETA: 0s - loss: 0.4108 - accuracy: 0.8371\n",
            "Epoch 00004: val_accuracy did not improve from 0.89706\n",
            "81/81 [==============================] - 157s 2s/step - loss: 0.4108 - accuracy: 0.8371 - val_loss: 0.3152 - val_accuracy: 0.8824\n",
            "Epoch 5/50\n",
            "81/81 [==============================] - ETA: 0s - loss: 0.3835 - accuracy: 0.8503\n",
            "Epoch 00005: val_accuracy did not improve from 0.89706\n",
            "81/81 [==============================] - 157s 2s/step - loss: 0.3835 - accuracy: 0.8503 - val_loss: 0.2925 - val_accuracy: 0.8971\n",
            "Epoch 6/50\n",
            "81/81 [==============================] - ETA: 0s - loss: 0.3707 - accuracy: 0.8536\n",
            "Epoch 00006: val_accuracy did not improve from 0.89706\n",
            "81/81 [==============================] - 157s 2s/step - loss: 0.3707 - accuracy: 0.8536 - val_loss: 0.3330 - val_accuracy: 0.8971\n",
            "Epoch 7/50\n",
            "81/81 [==============================] - ETA: 0s - loss: 0.3451 - accuracy: 0.8666\n",
            "Epoch 00007: val_accuracy did not improve from 0.89706\n",
            "81/81 [==============================] - 157s 2s/step - loss: 0.3451 - accuracy: 0.8666 - val_loss: 0.2843 - val_accuracy: 0.8971\n",
            "Epoch 8/50\n",
            "81/81 [==============================] - ETA: 0s - loss: 0.3312 - accuracy: 0.8754\n",
            "Epoch 00008: val_accuracy improved from 0.89706 to 0.91176, saving model to Model2_tubes5.h5\n",
            "81/81 [==============================] - 158s 2s/step - loss: 0.3312 - accuracy: 0.8754 - val_loss: 0.2444 - val_accuracy: 0.9118\n",
            "Epoch 9/50\n",
            "81/81 [==============================] - ETA: 0s - loss: 0.3295 - accuracy: 0.8727\n",
            "Epoch 00009: val_accuracy did not improve from 0.91176\n",
            "81/81 [==============================] - 158s 2s/step - loss: 0.3295 - accuracy: 0.8727 - val_loss: 0.2572 - val_accuracy: 0.8824\n",
            "Epoch 10/50\n",
            "81/81 [==============================] - ETA: 0s - loss: 0.3327 - accuracy: 0.8762\n",
            "Epoch 00010: val_accuracy did not improve from 0.91176\n",
            "81/81 [==============================] - 158s 2s/step - loss: 0.3327 - accuracy: 0.8762 - val_loss: 0.2983 - val_accuracy: 0.8824\n",
            "Epoch 11/50\n",
            "81/81 [==============================] - ETA: 0s - loss: 0.3169 - accuracy: 0.8802\n",
            "Epoch 00011: val_accuracy did not improve from 0.91176\n",
            "81/81 [==============================] - 158s 2s/step - loss: 0.3169 - accuracy: 0.8802 - val_loss: 0.3220 - val_accuracy: 0.8971\n",
            "Epoch 12/50\n",
            "81/81 [==============================] - ETA: 0s - loss: 0.3073 - accuracy: 0.8890\n",
            "Epoch 00012: val_accuracy improved from 0.91176 to 0.97059, saving model to Model2_tubes5.h5\n",
            "81/81 [==============================] - 158s 2s/step - loss: 0.3073 - accuracy: 0.8890 - val_loss: 0.1724 - val_accuracy: 0.9706\n",
            "Epoch 13/50\n",
            "81/81 [==============================] - ETA: 0s - loss: 0.2866 - accuracy: 0.8929\n",
            "Epoch 00013: val_accuracy did not improve from 0.97059\n",
            "81/81 [==============================] - 157s 2s/step - loss: 0.2866 - accuracy: 0.8929 - val_loss: 0.2926 - val_accuracy: 0.8824\n",
            "Epoch 14/50\n",
            "81/81 [==============================] - ETA: 0s - loss: 0.2841 - accuracy: 0.8989\n",
            "Epoch 00014: val_accuracy did not improve from 0.97059\n",
            "81/81 [==============================] - 157s 2s/step - loss: 0.2841 - accuracy: 0.8989 - val_loss: 0.2128 - val_accuracy: 0.9265\n",
            "Epoch 15/50\n",
            "81/81 [==============================] - ETA: 0s - loss: 0.2763 - accuracy: 0.9018\n",
            "Epoch 00015: val_accuracy did not improve from 0.97059\n",
            "81/81 [==============================] - 155s 2s/step - loss: 0.2763 - accuracy: 0.9018 - val_loss: 0.2287 - val_accuracy: 0.9412\n",
            "Epoch 16/50\n",
            "81/81 [==============================] - ETA: 0s - loss: 0.2861 - accuracy: 0.8977\n",
            "Epoch 00016: val_accuracy did not improve from 0.97059\n",
            "81/81 [==============================] - 154s 2s/step - loss: 0.2861 - accuracy: 0.8977 - val_loss: 0.2208 - val_accuracy: 0.8971\n",
            "Epoch 17/50\n",
            "81/81 [==============================] - ETA: 0s - loss: 0.2676 - accuracy: 0.9036\n",
            "Epoch 00017: val_accuracy did not improve from 0.97059\n",
            "81/81 [==============================] - 155s 2s/step - loss: 0.2676 - accuracy: 0.9036 - val_loss: 0.2402 - val_accuracy: 0.9559\n",
            "Epoch 18/50\n",
            "81/81 [==============================] - ETA: 0s - loss: 0.2682 - accuracy: 0.9020\n",
            "Epoch 00018: val_accuracy did not improve from 0.97059\n",
            "81/81 [==============================] - 156s 2s/step - loss: 0.2682 - accuracy: 0.9020 - val_loss: 0.2855 - val_accuracy: 0.8971\n",
            "Epoch 19/50\n",
            "81/81 [==============================] - ETA: 0s - loss: 0.2458 - accuracy: 0.9143\n",
            "Epoch 00019: val_accuracy did not improve from 0.97059\n",
            "81/81 [==============================] - 160s 2s/step - loss: 0.2458 - accuracy: 0.9143 - val_loss: 0.2080 - val_accuracy: 0.9265\n",
            "Epoch 20/50\n",
            "81/81 [==============================] - ETA: 0s - loss: 0.2562 - accuracy: 0.9106\n",
            "Epoch 00020: val_accuracy did not improve from 0.97059\n",
            "81/81 [==============================] - 163s 2s/step - loss: 0.2562 - accuracy: 0.9106 - val_loss: 0.2603 - val_accuracy: 0.9118\n",
            "Epoch 21/50\n",
            "81/81 [==============================] - ETA: 0s - loss: 0.2462 - accuracy: 0.9104\n",
            "Epoch 00021: val_accuracy did not improve from 0.97059\n",
            "81/81 [==============================] - 161s 2s/step - loss: 0.2462 - accuracy: 0.9104 - val_loss: 0.1362 - val_accuracy: 0.9559\n",
            "Epoch 22/50\n",
            "81/81 [==============================] - ETA: 0s - loss: 0.2426 - accuracy: 0.9156\n",
            "Epoch 00022: val_accuracy did not improve from 0.97059\n",
            "81/81 [==============================] - 163s 2s/step - loss: 0.2426 - accuracy: 0.9156 - val_loss: 0.2059 - val_accuracy: 0.9118\n",
            "Epoch 23/50\n",
            "81/81 [==============================] - ETA: 0s - loss: 0.2473 - accuracy: 0.9149\n",
            "Epoch 00023: val_accuracy did not improve from 0.97059\n",
            "81/81 [==============================] - 163s 2s/step - loss: 0.2473 - accuracy: 0.9149 - val_loss: 0.2105 - val_accuracy: 0.9118\n",
            "Epoch 24/50\n",
            "81/81 [==============================] - ETA: 0s - loss: 0.2312 - accuracy: 0.9160\n",
            "Epoch 00024: val_accuracy did not improve from 0.97059\n",
            "81/81 [==============================] - 163s 2s/step - loss: 0.2312 - accuracy: 0.9160 - val_loss: 0.1662 - val_accuracy: 0.9412\n",
            "Epoch 25/50\n",
            "81/81 [==============================] - ETA: 0s - loss: 0.2289 - accuracy: 0.9149\n",
            "Epoch 00025: val_accuracy did not improve from 0.97059\n",
            "81/81 [==============================] - 164s 2s/step - loss: 0.2289 - accuracy: 0.9149 - val_loss: 0.2103 - val_accuracy: 0.9265\n",
            "Epoch 26/50\n",
            "81/81 [==============================] - ETA: 0s - loss: 0.2278 - accuracy: 0.9215\n",
            "Epoch 00026: val_accuracy did not improve from 0.97059\n",
            "81/81 [==============================] - 163s 2s/step - loss: 0.2278 - accuracy: 0.9215 - val_loss: 0.2758 - val_accuracy: 0.9118\n",
            "Epoch 27/50\n",
            "81/81 [==============================] - ETA: 0s - loss: 0.2392 - accuracy: 0.9201\n",
            "Epoch 00027: val_accuracy did not improve from 0.97059\n",
            "81/81 [==============================] - 163s 2s/step - loss: 0.2392 - accuracy: 0.9201 - val_loss: 0.2459 - val_accuracy: 0.9118\n",
            "Epoch 28/50\n",
            "81/81 [==============================] - ETA: 0s - loss: 0.2279 - accuracy: 0.9197\n",
            "Epoch 00028: val_accuracy did not improve from 0.97059\n",
            "81/81 [==============================] - 163s 2s/step - loss: 0.2279 - accuracy: 0.9197 - val_loss: 0.2163 - val_accuracy: 0.9118\n",
            "Epoch 29/50\n",
            "81/81 [==============================] - ETA: 0s - loss: 0.2091 - accuracy: 0.9261\n",
            "Epoch 00029: val_accuracy did not improve from 0.97059\n",
            "81/81 [==============================] - 165s 2s/step - loss: 0.2091 - accuracy: 0.9261 - val_loss: 0.1904 - val_accuracy: 0.9412\n",
            "Epoch 30/50\n",
            "81/81 [==============================] - ETA: 0s - loss: 0.2187 - accuracy: 0.9244\n",
            "Epoch 00030: val_accuracy did not improve from 0.97059\n",
            "81/81 [==============================] - 163s 2s/step - loss: 0.2187 - accuracy: 0.9244 - val_loss: 0.2649 - val_accuracy: 0.9118\n",
            "Epoch 31/50\n",
            "81/81 [==============================] - ETA: 0s - loss: 0.2211 - accuracy: 0.9193\n",
            "Epoch 00031: val_accuracy did not improve from 0.97059\n",
            "81/81 [==============================] - 163s 2s/step - loss: 0.2211 - accuracy: 0.9193 - val_loss: 0.2103 - val_accuracy: 0.9265\n",
            "Epoch 32/50\n",
            "81/81 [==============================] - ETA: 0s - loss: 0.2124 - accuracy: 0.9277\n",
            "Epoch 00032: val_accuracy did not improve from 0.97059\n",
            "81/81 [==============================] - 163s 2s/step - loss: 0.2124 - accuracy: 0.9277 - val_loss: 0.2313 - val_accuracy: 0.9118\n",
            "Epoch 33/50\n",
            "81/81 [==============================] - ETA: 0s - loss: 0.1989 - accuracy: 0.9327\n",
            "Epoch 00033: val_accuracy did not improve from 0.97059\n",
            "81/81 [==============================] - 164s 2s/step - loss: 0.1989 - accuracy: 0.9327 - val_loss: 0.1788 - val_accuracy: 0.9265\n",
            "Epoch 34/50\n",
            "81/81 [==============================] - ETA: 0s - loss: 0.2136 - accuracy: 0.9238\n",
            "Epoch 00034: val_accuracy did not improve from 0.97059\n",
            "81/81 [==============================] - 166s 2s/step - loss: 0.2136 - accuracy: 0.9238 - val_loss: 0.2060 - val_accuracy: 0.9265\n",
            "Epoch 35/50\n",
            "81/81 [==============================] - ETA: 0s - loss: 0.2153 - accuracy: 0.9236\n",
            "Epoch 00035: val_accuracy did not improve from 0.97059\n",
            "81/81 [==============================] - 165s 2s/step - loss: 0.2153 - accuracy: 0.9236 - val_loss: 0.1529 - val_accuracy: 0.9265\n",
            "Epoch 36/50\n",
            "81/81 [==============================] - ETA: 0s - loss: 0.2085 - accuracy: 0.9261\n",
            "Epoch 00036: val_accuracy did not improve from 0.97059\n",
            "81/81 [==============================] - 166s 2s/step - loss: 0.2085 - accuracy: 0.9261 - val_loss: 0.2232 - val_accuracy: 0.9265\n",
            "Epoch 37/50\n",
            "81/81 [==============================] - ETA: 0s - loss: 0.2040 - accuracy: 0.9285\n",
            "Epoch 00037: val_accuracy did not improve from 0.97059\n",
            "81/81 [==============================] - 164s 2s/step - loss: 0.2040 - accuracy: 0.9285 - val_loss: 0.1852 - val_accuracy: 0.9265\n",
            "Epoch 38/50\n",
            "81/81 [==============================] - ETA: 0s - loss: 0.2064 - accuracy: 0.9279\n",
            "Epoch 00038: val_accuracy did not improve from 0.97059\n",
            "81/81 [==============================] - 163s 2s/step - loss: 0.2064 - accuracy: 0.9279 - val_loss: 0.1771 - val_accuracy: 0.9265\n",
            "Epoch 39/50\n",
            "81/81 [==============================] - ETA: 0s - loss: 0.2023 - accuracy: 0.9281\n",
            "Epoch 00039: val_accuracy did not improve from 0.97059\n",
            "81/81 [==============================] - 165s 2s/step - loss: 0.2023 - accuracy: 0.9281 - val_loss: 0.1955 - val_accuracy: 0.9118\n",
            "Epoch 40/50\n",
            "81/81 [==============================] - ETA: 0s - loss: 0.2038 - accuracy: 0.9271\n",
            "Epoch 00040: val_accuracy did not improve from 0.97059\n",
            "81/81 [==============================] - 166s 2s/step - loss: 0.2038 - accuracy: 0.9271 - val_loss: 0.2369 - val_accuracy: 0.9118\n",
            "Epoch 41/50\n",
            "81/81 [==============================] - ETA: 0s - loss: 0.2102 - accuracy: 0.9250\n",
            "Epoch 00041: val_accuracy did not improve from 0.97059\n",
            "81/81 [==============================] - 166s 2s/step - loss: 0.2102 - accuracy: 0.9250 - val_loss: 0.1212 - val_accuracy: 0.9412\n",
            "Epoch 42/50\n",
            "81/81 [==============================] - ETA: 0s - loss: 0.1948 - accuracy: 0.9310\n",
            "Epoch 00042: val_accuracy did not improve from 0.97059\n",
            "81/81 [==============================] - 166s 2s/step - loss: 0.1948 - accuracy: 0.9310 - val_loss: 0.1956 - val_accuracy: 0.9265\n",
            "Epoch 43/50\n",
            "81/81 [==============================] - ETA: 0s - loss: 0.1920 - accuracy: 0.9327\n",
            "Epoch 00043: val_accuracy did not improve from 0.97059\n",
            "81/81 [==============================] - 165s 2s/step - loss: 0.1920 - accuracy: 0.9327 - val_loss: 0.2426 - val_accuracy: 0.8971\n",
            "Epoch 44/50\n",
            "81/81 [==============================] - ETA: 0s - loss: 0.1956 - accuracy: 0.9380\n",
            "Epoch 00044: val_accuracy did not improve from 0.97059\n",
            "81/81 [==============================] - 165s 2s/step - loss: 0.1956 - accuracy: 0.9380 - val_loss: 0.1799 - val_accuracy: 0.9118\n",
            "Epoch 45/50\n",
            "81/81 [==============================] - ETA: 0s - loss: 0.1993 - accuracy: 0.9316\n",
            "Epoch 00045: val_accuracy did not improve from 0.97059\n",
            "81/81 [==============================] - 167s 2s/step - loss: 0.1993 - accuracy: 0.9316 - val_loss: 0.2198 - val_accuracy: 0.9265\n",
            "Epoch 46/50\n",
            "81/81 [==============================] - ETA: 0s - loss: 0.1937 - accuracy: 0.9343\n",
            "Epoch 00046: val_accuracy did not improve from 0.97059\n",
            "81/81 [==============================] - 167s 2s/step - loss: 0.1937 - accuracy: 0.9343 - val_loss: 0.2356 - val_accuracy: 0.9265\n",
            "Epoch 47/50\n",
            "81/81 [==============================] - ETA: 0s - loss: 0.1920 - accuracy: 0.9353\n",
            "Epoch 00047: val_accuracy did not improve from 0.97059\n",
            "81/81 [==============================] - 167s 2s/step - loss: 0.1920 - accuracy: 0.9353 - val_loss: 0.1886 - val_accuracy: 0.9118\n",
            "Epoch 48/50\n",
            "81/81 [==============================] - ETA: 0s - loss: 0.1921 - accuracy: 0.9331\n",
            "Epoch 00048: val_accuracy did not improve from 0.97059\n",
            "81/81 [==============================] - 168s 2s/step - loss: 0.1921 - accuracy: 0.9331 - val_loss: 0.1583 - val_accuracy: 0.9412\n",
            "Epoch 49/50\n",
            "81/81 [==============================] - ETA: 0s - loss: 0.1834 - accuracy: 0.9360\n",
            "Epoch 00049: val_accuracy did not improve from 0.97059\n",
            "81/81 [==============================] - 169s 2s/step - loss: 0.1834 - accuracy: 0.9360 - val_loss: 0.2272 - val_accuracy: 0.9118\n",
            "Epoch 50/50\n",
            "81/81 [==============================] - ETA: 0s - loss: 0.1957 - accuracy: 0.9314\n",
            "Epoch 00050: val_accuracy did not improve from 0.97059\n",
            "81/81 [==============================] - 185s 2s/step - loss: 0.1957 - accuracy: 0.9314 - val_loss: 0.2243 - val_accuracy: 0.9118\n"
          ]
        }
      ]
    },
    {
      "cell_type": "code",
      "source": [
        "loss_df = pd.DataFrame(model.history.history)\n",
        "loss_df"
      ],
      "metadata": {
        "id": "yD1btYI8FGRE",
        "colab": {
          "base_uri": "https://localhost:8080/",
          "height": 1000
        },
        "outputId": "cb81e392-81f4-4c18-e280-e7f82babd8cb"
      },
      "execution_count": null,
      "outputs": [
        {
          "output_type": "execute_result",
          "data": {
            "text/html": [
              "\n",
              "  <div id=\"df-99b195fa-033b-4c3d-959c-e7632ed07bed\">\n",
              "    <div class=\"colab-df-container\">\n",
              "      <div>\n",
              "<style scoped>\n",
              "    .dataframe tbody tr th:only-of-type {\n",
              "        vertical-align: middle;\n",
              "    }\n",
              "\n",
              "    .dataframe tbody tr th {\n",
              "        vertical-align: top;\n",
              "    }\n",
              "\n",
              "    .dataframe thead th {\n",
              "        text-align: right;\n",
              "    }\n",
              "</style>\n",
              "<table border=\"1\" class=\"dataframe\">\n",
              "  <thead>\n",
              "    <tr style=\"text-align: right;\">\n",
              "      <th></th>\n",
              "      <th>loss</th>\n",
              "      <th>accuracy</th>\n",
              "      <th>val_loss</th>\n",
              "      <th>val_accuracy</th>\n",
              "    </tr>\n",
              "  </thead>\n",
              "  <tbody>\n",
              "    <tr>\n",
              "      <th>0</th>\n",
              "      <td>0.757789</td>\n",
              "      <td>0.680016</td>\n",
              "      <td>0.545412</td>\n",
              "      <td>0.735294</td>\n",
              "    </tr>\n",
              "    <tr>\n",
              "      <th>1</th>\n",
              "      <td>0.495666</td>\n",
              "      <td>0.791019</td>\n",
              "      <td>0.342669</td>\n",
              "      <td>0.867647</td>\n",
              "    </tr>\n",
              "    <tr>\n",
              "      <th>2</th>\n",
              "      <td>0.424407</td>\n",
              "      <td>0.832037</td>\n",
              "      <td>0.311563</td>\n",
              "      <td>0.897059</td>\n",
              "    </tr>\n",
              "    <tr>\n",
              "      <th>3</th>\n",
              "      <td>0.410848</td>\n",
              "      <td>0.837092</td>\n",
              "      <td>0.315198</td>\n",
              "      <td>0.882353</td>\n",
              "    </tr>\n",
              "    <tr>\n",
              "      <th>4</th>\n",
              "      <td>0.383509</td>\n",
              "      <td>0.850311</td>\n",
              "      <td>0.292538</td>\n",
              "      <td>0.897059</td>\n",
              "    </tr>\n",
              "    <tr>\n",
              "      <th>5</th>\n",
              "      <td>0.370664</td>\n",
              "      <td>0.853616</td>\n",
              "      <td>0.332986</td>\n",
              "      <td>0.897059</td>\n",
              "    </tr>\n",
              "    <tr>\n",
              "      <th>6</th>\n",
              "      <td>0.345076</td>\n",
              "      <td>0.866641</td>\n",
              "      <td>0.284300</td>\n",
              "      <td>0.897059</td>\n",
              "    </tr>\n",
              "    <tr>\n",
              "      <th>7</th>\n",
              "      <td>0.331194</td>\n",
              "      <td>0.875389</td>\n",
              "      <td>0.244420</td>\n",
              "      <td>0.911765</td>\n",
              "    </tr>\n",
              "    <tr>\n",
              "      <th>8</th>\n",
              "      <td>0.329548</td>\n",
              "      <td>0.872667</td>\n",
              "      <td>0.257224</td>\n",
              "      <td>0.882353</td>\n",
              "    </tr>\n",
              "    <tr>\n",
              "      <th>9</th>\n",
              "      <td>0.332660</td>\n",
              "      <td>0.876166</td>\n",
              "      <td>0.298255</td>\n",
              "      <td>0.882353</td>\n",
              "    </tr>\n",
              "    <tr>\n",
              "      <th>10</th>\n",
              "      <td>0.316869</td>\n",
              "      <td>0.880249</td>\n",
              "      <td>0.321969</td>\n",
              "      <td>0.897059</td>\n",
              "    </tr>\n",
              "    <tr>\n",
              "      <th>11</th>\n",
              "      <td>0.307264</td>\n",
              "      <td>0.888997</td>\n",
              "      <td>0.172443</td>\n",
              "      <td>0.970588</td>\n",
              "    </tr>\n",
              "    <tr>\n",
              "      <th>12</th>\n",
              "      <td>0.286599</td>\n",
              "      <td>0.892885</td>\n",
              "      <td>0.292574</td>\n",
              "      <td>0.882353</td>\n",
              "    </tr>\n",
              "    <tr>\n",
              "      <th>13</th>\n",
              "      <td>0.284136</td>\n",
              "      <td>0.898911</td>\n",
              "      <td>0.212813</td>\n",
              "      <td>0.926471</td>\n",
              "    </tr>\n",
              "    <tr>\n",
              "      <th>14</th>\n",
              "      <td>0.276343</td>\n",
              "      <td>0.901827</td>\n",
              "      <td>0.228740</td>\n",
              "      <td>0.941176</td>\n",
              "    </tr>\n",
              "    <tr>\n",
              "      <th>15</th>\n",
              "      <td>0.286121</td>\n",
              "      <td>0.897745</td>\n",
              "      <td>0.220796</td>\n",
              "      <td>0.897059</td>\n",
              "    </tr>\n",
              "    <tr>\n",
              "      <th>16</th>\n",
              "      <td>0.267611</td>\n",
              "      <td>0.903577</td>\n",
              "      <td>0.240175</td>\n",
              "      <td>0.955882</td>\n",
              "    </tr>\n",
              "    <tr>\n",
              "      <th>17</th>\n",
              "      <td>0.268202</td>\n",
              "      <td>0.902022</td>\n",
              "      <td>0.285486</td>\n",
              "      <td>0.897059</td>\n",
              "    </tr>\n",
              "    <tr>\n",
              "      <th>18</th>\n",
              "      <td>0.245836</td>\n",
              "      <td>0.914269</td>\n",
              "      <td>0.207995</td>\n",
              "      <td>0.926471</td>\n",
              "    </tr>\n",
              "    <tr>\n",
              "      <th>19</th>\n",
              "      <td>0.256154</td>\n",
              "      <td>0.910575</td>\n",
              "      <td>0.260335</td>\n",
              "      <td>0.911765</td>\n",
              "    </tr>\n",
              "    <tr>\n",
              "      <th>20</th>\n",
              "      <td>0.246207</td>\n",
              "      <td>0.910381</td>\n",
              "      <td>0.136173</td>\n",
              "      <td>0.955882</td>\n",
              "    </tr>\n",
              "    <tr>\n",
              "      <th>21</th>\n",
              "      <td>0.242599</td>\n",
              "      <td>0.915630</td>\n",
              "      <td>0.205943</td>\n",
              "      <td>0.911765</td>\n",
              "    </tr>\n",
              "    <tr>\n",
              "      <th>22</th>\n",
              "      <td>0.247277</td>\n",
              "      <td>0.914852</td>\n",
              "      <td>0.210458</td>\n",
              "      <td>0.911765</td>\n",
              "    </tr>\n",
              "    <tr>\n",
              "      <th>23</th>\n",
              "      <td>0.231208</td>\n",
              "      <td>0.916019</td>\n",
              "      <td>0.166190</td>\n",
              "      <td>0.941176</td>\n",
              "    </tr>\n",
              "    <tr>\n",
              "      <th>24</th>\n",
              "      <td>0.228938</td>\n",
              "      <td>0.914852</td>\n",
              "      <td>0.210338</td>\n",
              "      <td>0.926471</td>\n",
              "    </tr>\n",
              "    <tr>\n",
              "      <th>25</th>\n",
              "      <td>0.227837</td>\n",
              "      <td>0.921462</td>\n",
              "      <td>0.275783</td>\n",
              "      <td>0.911765</td>\n",
              "    </tr>\n",
              "    <tr>\n",
              "      <th>26</th>\n",
              "      <td>0.239220</td>\n",
              "      <td>0.920101</td>\n",
              "      <td>0.245851</td>\n",
              "      <td>0.911765</td>\n",
              "    </tr>\n",
              "    <tr>\n",
              "      <th>27</th>\n",
              "      <td>0.227877</td>\n",
              "      <td>0.919712</td>\n",
              "      <td>0.216318</td>\n",
              "      <td>0.911765</td>\n",
              "    </tr>\n",
              "    <tr>\n",
              "      <th>28</th>\n",
              "      <td>0.209149</td>\n",
              "      <td>0.926128</td>\n",
              "      <td>0.190403</td>\n",
              "      <td>0.941176</td>\n",
              "    </tr>\n",
              "    <tr>\n",
              "      <th>29</th>\n",
              "      <td>0.218683</td>\n",
              "      <td>0.924378</td>\n",
              "      <td>0.264945</td>\n",
              "      <td>0.911765</td>\n",
              "    </tr>\n",
              "    <tr>\n",
              "      <th>30</th>\n",
              "      <td>0.221077</td>\n",
              "      <td>0.919324</td>\n",
              "      <td>0.210349</td>\n",
              "      <td>0.926471</td>\n",
              "    </tr>\n",
              "    <tr>\n",
              "      <th>31</th>\n",
              "      <td>0.212358</td>\n",
              "      <td>0.927683</td>\n",
              "      <td>0.231310</td>\n",
              "      <td>0.911765</td>\n",
              "    </tr>\n",
              "    <tr>\n",
              "      <th>32</th>\n",
              "      <td>0.198913</td>\n",
              "      <td>0.932737</td>\n",
              "      <td>0.178802</td>\n",
              "      <td>0.926471</td>\n",
              "    </tr>\n",
              "    <tr>\n",
              "      <th>33</th>\n",
              "      <td>0.213553</td>\n",
              "      <td>0.923795</td>\n",
              "      <td>0.205969</td>\n",
              "      <td>0.926471</td>\n",
              "    </tr>\n",
              "    <tr>\n",
              "      <th>34</th>\n",
              "      <td>0.215316</td>\n",
              "      <td>0.923600</td>\n",
              "      <td>0.152892</td>\n",
              "      <td>0.926471</td>\n",
              "    </tr>\n",
              "    <tr>\n",
              "      <th>35</th>\n",
              "      <td>0.208542</td>\n",
              "      <td>0.926128</td>\n",
              "      <td>0.223154</td>\n",
              "      <td>0.926471</td>\n",
              "    </tr>\n",
              "    <tr>\n",
              "      <th>36</th>\n",
              "      <td>0.203966</td>\n",
              "      <td>0.928460</td>\n",
              "      <td>0.185199</td>\n",
              "      <td>0.926471</td>\n",
              "    </tr>\n",
              "    <tr>\n",
              "      <th>37</th>\n",
              "      <td>0.206448</td>\n",
              "      <td>0.927877</td>\n",
              "      <td>0.177130</td>\n",
              "      <td>0.926471</td>\n",
              "    </tr>\n",
              "    <tr>\n",
              "      <th>38</th>\n",
              "      <td>0.202276</td>\n",
              "      <td>0.928072</td>\n",
              "      <td>0.195545</td>\n",
              "      <td>0.911765</td>\n",
              "    </tr>\n",
              "    <tr>\n",
              "      <th>39</th>\n",
              "      <td>0.203800</td>\n",
              "      <td>0.927100</td>\n",
              "      <td>0.236930</td>\n",
              "      <td>0.911765</td>\n",
              "    </tr>\n",
              "    <tr>\n",
              "      <th>40</th>\n",
              "      <td>0.210189</td>\n",
              "      <td>0.924961</td>\n",
              "      <td>0.121242</td>\n",
              "      <td>0.941176</td>\n",
              "    </tr>\n",
              "    <tr>\n",
              "      <th>41</th>\n",
              "      <td>0.194766</td>\n",
              "      <td>0.930988</td>\n",
              "      <td>0.195639</td>\n",
              "      <td>0.926471</td>\n",
              "    </tr>\n",
              "    <tr>\n",
              "      <th>42</th>\n",
              "      <td>0.191957</td>\n",
              "      <td>0.932737</td>\n",
              "      <td>0.242643</td>\n",
              "      <td>0.897059</td>\n",
              "    </tr>\n",
              "    <tr>\n",
              "      <th>43</th>\n",
              "      <td>0.195559</td>\n",
              "      <td>0.937986</td>\n",
              "      <td>0.179935</td>\n",
              "      <td>0.911765</td>\n",
              "    </tr>\n",
              "    <tr>\n",
              "      <th>44</th>\n",
              "      <td>0.199252</td>\n",
              "      <td>0.931571</td>\n",
              "      <td>0.219775</td>\n",
              "      <td>0.926471</td>\n",
              "    </tr>\n",
              "    <tr>\n",
              "      <th>45</th>\n",
              "      <td>0.193722</td>\n",
              "      <td>0.934292</td>\n",
              "      <td>0.235568</td>\n",
              "      <td>0.926471</td>\n",
              "    </tr>\n",
              "    <tr>\n",
              "      <th>46</th>\n",
              "      <td>0.191952</td>\n",
              "      <td>0.935264</td>\n",
              "      <td>0.188618</td>\n",
              "      <td>0.911765</td>\n",
              "    </tr>\n",
              "    <tr>\n",
              "      <th>47</th>\n",
              "      <td>0.192064</td>\n",
              "      <td>0.933126</td>\n",
              "      <td>0.158326</td>\n",
              "      <td>0.941176</td>\n",
              "    </tr>\n",
              "    <tr>\n",
              "      <th>48</th>\n",
              "      <td>0.183376</td>\n",
              "      <td>0.936042</td>\n",
              "      <td>0.227162</td>\n",
              "      <td>0.911765</td>\n",
              "    </tr>\n",
              "    <tr>\n",
              "      <th>49</th>\n",
              "      <td>0.195682</td>\n",
              "      <td>0.931376</td>\n",
              "      <td>0.224301</td>\n",
              "      <td>0.911765</td>\n",
              "    </tr>\n",
              "  </tbody>\n",
              "</table>\n",
              "</div>\n",
              "      <button class=\"colab-df-convert\" onclick=\"convertToInteractive('df-99b195fa-033b-4c3d-959c-e7632ed07bed')\"\n",
              "              title=\"Convert this dataframe to an interactive table.\"\n",
              "              style=\"display:none;\">\n",
              "        \n",
              "  <svg xmlns=\"http://www.w3.org/2000/svg\" height=\"24px\"viewBox=\"0 0 24 24\"\n",
              "       width=\"24px\">\n",
              "    <path d=\"M0 0h24v24H0V0z\" fill=\"none\"/>\n",
              "    <path d=\"M18.56 5.44l.94 2.06.94-2.06 2.06-.94-2.06-.94-.94-2.06-.94 2.06-2.06.94zm-11 1L8.5 8.5l.94-2.06 2.06-.94-2.06-.94L8.5 2.5l-.94 2.06-2.06.94zm10 10l.94 2.06.94-2.06 2.06-.94-2.06-.94-.94-2.06-.94 2.06-2.06.94z\"/><path d=\"M17.41 7.96l-1.37-1.37c-.4-.4-.92-.59-1.43-.59-.52 0-1.04.2-1.43.59L10.3 9.45l-7.72 7.72c-.78.78-.78 2.05 0 2.83L4 21.41c.39.39.9.59 1.41.59.51 0 1.02-.2 1.41-.59l7.78-7.78 2.81-2.81c.8-.78.8-2.07 0-2.86zM5.41 20L4 18.59l7.72-7.72 1.47 1.35L5.41 20z\"/>\n",
              "  </svg>\n",
              "      </button>\n",
              "      \n",
              "  <style>\n",
              "    .colab-df-container {\n",
              "      display:flex;\n",
              "      flex-wrap:wrap;\n",
              "      gap: 12px;\n",
              "    }\n",
              "\n",
              "    .colab-df-convert {\n",
              "      background-color: #E8F0FE;\n",
              "      border: none;\n",
              "      border-radius: 50%;\n",
              "      cursor: pointer;\n",
              "      display: none;\n",
              "      fill: #1967D2;\n",
              "      height: 32px;\n",
              "      padding: 0 0 0 0;\n",
              "      width: 32px;\n",
              "    }\n",
              "\n",
              "    .colab-df-convert:hover {\n",
              "      background-color: #E2EBFA;\n",
              "      box-shadow: 0px 1px 2px rgba(60, 64, 67, 0.3), 0px 1px 3px 1px rgba(60, 64, 67, 0.15);\n",
              "      fill: #174EA6;\n",
              "    }\n",
              "\n",
              "    [theme=dark] .colab-df-convert {\n",
              "      background-color: #3B4455;\n",
              "      fill: #D2E3FC;\n",
              "    }\n",
              "\n",
              "    [theme=dark] .colab-df-convert:hover {\n",
              "      background-color: #434B5C;\n",
              "      box-shadow: 0px 1px 3px 1px rgba(0, 0, 0, 0.15);\n",
              "      filter: drop-shadow(0px 1px 2px rgba(0, 0, 0, 0.3));\n",
              "      fill: #FFFFFF;\n",
              "    }\n",
              "  </style>\n",
              "\n",
              "      <script>\n",
              "        const buttonEl =\n",
              "          document.querySelector('#df-99b195fa-033b-4c3d-959c-e7632ed07bed button.colab-df-convert');\n",
              "        buttonEl.style.display =\n",
              "          google.colab.kernel.accessAllowed ? 'block' : 'none';\n",
              "\n",
              "        async function convertToInteractive(key) {\n",
              "          const element = document.querySelector('#df-99b195fa-033b-4c3d-959c-e7632ed07bed');\n",
              "          const dataTable =\n",
              "            await google.colab.kernel.invokeFunction('convertToInteractive',\n",
              "                                                     [key], {});\n",
              "          if (!dataTable) return;\n",
              "\n",
              "          const docLinkHtml = 'Like what you see? Visit the ' +\n",
              "            '<a target=\"_blank\" href=https://colab.research.google.com/notebooks/data_table.ipynb>data table notebook</a>'\n",
              "            + ' to learn more about interactive tables.';\n",
              "          element.innerHTML = '';\n",
              "          dataTable['output_type'] = 'display_data';\n",
              "          await google.colab.output.renderOutput(dataTable, element);\n",
              "          const docLink = document.createElement('div');\n",
              "          docLink.innerHTML = docLinkHtml;\n",
              "          element.appendChild(docLink);\n",
              "        }\n",
              "      </script>\n",
              "    </div>\n",
              "  </div>\n",
              "  "
            ],
            "text/plain": [
              "        loss  accuracy  val_loss  val_accuracy\n",
              "0   0.757789  0.680016  0.545412      0.735294\n",
              "1   0.495666  0.791019  0.342669      0.867647\n",
              "2   0.424407  0.832037  0.311563      0.897059\n",
              "3   0.410848  0.837092  0.315198      0.882353\n",
              "4   0.383509  0.850311  0.292538      0.897059\n",
              "5   0.370664  0.853616  0.332986      0.897059\n",
              "6   0.345076  0.866641  0.284300      0.897059\n",
              "7   0.331194  0.875389  0.244420      0.911765\n",
              "8   0.329548  0.872667  0.257224      0.882353\n",
              "9   0.332660  0.876166  0.298255      0.882353\n",
              "10  0.316869  0.880249  0.321969      0.897059\n",
              "11  0.307264  0.888997  0.172443      0.970588\n",
              "12  0.286599  0.892885  0.292574      0.882353\n",
              "13  0.284136  0.898911  0.212813      0.926471\n",
              "14  0.276343  0.901827  0.228740      0.941176\n",
              "15  0.286121  0.897745  0.220796      0.897059\n",
              "16  0.267611  0.903577  0.240175      0.955882\n",
              "17  0.268202  0.902022  0.285486      0.897059\n",
              "18  0.245836  0.914269  0.207995      0.926471\n",
              "19  0.256154  0.910575  0.260335      0.911765\n",
              "20  0.246207  0.910381  0.136173      0.955882\n",
              "21  0.242599  0.915630  0.205943      0.911765\n",
              "22  0.247277  0.914852  0.210458      0.911765\n",
              "23  0.231208  0.916019  0.166190      0.941176\n",
              "24  0.228938  0.914852  0.210338      0.926471\n",
              "25  0.227837  0.921462  0.275783      0.911765\n",
              "26  0.239220  0.920101  0.245851      0.911765\n",
              "27  0.227877  0.919712  0.216318      0.911765\n",
              "28  0.209149  0.926128  0.190403      0.941176\n",
              "29  0.218683  0.924378  0.264945      0.911765\n",
              "30  0.221077  0.919324  0.210349      0.926471\n",
              "31  0.212358  0.927683  0.231310      0.911765\n",
              "32  0.198913  0.932737  0.178802      0.926471\n",
              "33  0.213553  0.923795  0.205969      0.926471\n",
              "34  0.215316  0.923600  0.152892      0.926471\n",
              "35  0.208542  0.926128  0.223154      0.926471\n",
              "36  0.203966  0.928460  0.185199      0.926471\n",
              "37  0.206448  0.927877  0.177130      0.926471\n",
              "38  0.202276  0.928072  0.195545      0.911765\n",
              "39  0.203800  0.927100  0.236930      0.911765\n",
              "40  0.210189  0.924961  0.121242      0.941176\n",
              "41  0.194766  0.930988  0.195639      0.926471\n",
              "42  0.191957  0.932737  0.242643      0.897059\n",
              "43  0.195559  0.937986  0.179935      0.911765\n",
              "44  0.199252  0.931571  0.219775      0.926471\n",
              "45  0.193722  0.934292  0.235568      0.926471\n",
              "46  0.191952  0.935264  0.188618      0.911765\n",
              "47  0.192064  0.933126  0.158326      0.941176\n",
              "48  0.183376  0.936042  0.227162      0.911765\n",
              "49  0.195682  0.931376  0.224301      0.911765"
            ]
          },
          "metadata": {},
          "execution_count": 14
        }
      ]
    },
    {
      "cell_type": "code",
      "source": [
        "loss_df[['accuracy', 'val_accuracy']].plot()"
      ],
      "metadata": {
        "id": "Yeeje05zXkiK",
        "colab": {
          "base_uri": "https://localhost:8080/",
          "height": 282
        },
        "outputId": "3ae08e2e-de76-4f06-a081-8d35728b0379"
      },
      "execution_count": null,
      "outputs": [
        {
          "output_type": "execute_result",
          "data": {
            "text/plain": [
              "<matplotlib.axes._subplots.AxesSubplot at 0x7f0ccbe54950>"
            ]
          },
          "metadata": {},
          "execution_count": 15
        },
        {
          "output_type": "display_data",
          "data": {
            "image/png": "[encoded data removed]",
            "text/plain": [
              "<Figure size 432x288 with 1 Axes>"
            ]
          },
          "metadata": {
            "needs_background": "light"
          }
        }
      ]
    },
    {
      "cell_type": "code",
      "source": [
        "loss_df[['loss', 'val_loss']].plot()"
      ],
      "metadata": {
        "id": "j4f7dGzHXlWN",
        "colab": {
          "base_uri": "https://localhost:8080/",
          "height": 282
        },
        "outputId": "48a08291-a0c0-4c46-b77b-94f7fc50398e"
      },
      "execution_count": null,
      "outputs": [
        {
          "output_type": "execute_result",
          "data": {
            "text/plain": [
              "<matplotlib.axes._subplots.AxesSubplot at 0x7f0ccbd70750>"
            ]
          },
          "metadata": {},
          "execution_count": 16
        },
        {
          "output_type": "display_data",
          "data": {
            "image/png": "[encoded data removed]",
            "text/plain": [
              "<Figure size 432x288 with 1 Axes>"
            ]
          },
          "metadata": {
            "needs_background": "light"
          }
        }
      ]
    },
    {
      "cell_type": "code",
      "source": [
        "model.evaluate(test_image_gen)"
      ],
      "metadata": {
        "id": "fandfEXXBltT",
        "colab": {
          "base_uri": "https://localhost:8080/"
        },
        "outputId": "80e1a70f-bc82-4447-c203-5bca7dd7bbec"
      },
      "execution_count": null,
      "outputs": [
        {
          "output_type": "stream",
          "name": "stdout",
          "text": [
            "2/2 [==============================] - 2s 80ms/step - loss: 0.2269 - accuracy: 0.9412\n"
          ]
        },
        {
          "output_type": "execute_result",
          "data": {
            "text/plain": [
              "[0.2268873155117035, 0.9411764740943909]"
            ]
          },
          "metadata": {},
          "execution_count": 17
        }
      ]
    },
    {
      "cell_type": "code",
      "source": [
        "predictions = np.argmax(model.predict(test_image_gen), axis = -1)\n",
        "predictions"
      ],
      "metadata": {
        "id": "e4VBIEhjBmUC",
        "colab": {
          "base_uri": "https://localhost:8080/"
        },
        "outputId": "895da381-ebd3-4aef-ddea-ab1b5ed4fb95"
      },
      "execution_count": null,
      "outputs": [
        {
          "output_type": "execute_result",
          "data": {
            "text/plain": [
              "array([0, 0, 0, 0, 0, 0, 0, 1, 1, 2, 1, 1, 1, 1, 1, 2, 1, 1, 2, 2, 1, 1,\n",
              "       1, 1, 2, 2, 2, 2, 2, 2, 2, 2, 2, 2, 2, 2, 2, 2, 2, 2, 2, 2, 2, 2,\n",
              "       2, 2, 2, 2, 2, 2, 2, 2, 2, 2, 2, 2, 2, 2, 2, 2, 2, 2, 2, 2, 2, 2,\n",
              "       2, 2])"
            ]
          },
          "metadata": {},
          "execution_count": 18
        }
      ]
    },
    {
      "cell_type": "code",
      "source": [
        "from sklearn.metrics import classification_report, confusion_matrix\n",
        "print(classification_report(test_image_gen.classes,predictions))"
      ],
      "metadata": {
        "id": "G0jD0Qb4BmYg",
        "colab": {
          "base_uri": "https://localhost:8080/"
        },
        "outputId": "f0c7abce-4d0e-4742-e143-77aa62d788bd"
      },
      "execution_count": null,
      "outputs": [
        {
          "output_type": "stream",
          "name": "stdout",
          "text": [
            "              precision    recall  f1-score   support\n",
            "\n",
            "           0       1.00      1.00      1.00         7\n",
            "           1       1.00      0.76      0.87        17\n",
            "           2       0.92      1.00      0.96        44\n",
            "\n",
            "    accuracy                           0.94        68\n",
            "   macro avg       0.97      0.92      0.94        68\n",
            "weighted avg       0.95      0.94      0.94        68\n",
            "\n"
          ]
        }
      ]
    },
    {
      "cell_type": "code",
      "source": [
        "print(confusion_matrix(test_image_gen.classes,predictions))\n",
        "sns.heatmap(confusion_matrix(test_image_gen.classes,predictions), annot = True)"
      ],
      "metadata": {
        "id": "KTyVqtCbNg-f",
        "colab": {
          "base_uri": "https://localhost:8080/",
          "height": 334
        },
        "outputId": "ea28afcf-bfe1-455a-f091-c65332493130"
      },
      "execution_count": null,
      "outputs": [
        {
          "output_type": "stream",
          "name": "stdout",
          "text": [
            "[[ 7  0  0]\n",
            " [ 0 13  4]\n",
            " [ 0  0 44]]\n"
          ]
        },
        {
          "output_type": "execute_result",
          "data": {
            "text/plain": [
              "<matplotlib.axes._subplots.AxesSubplot at 0x7f0c556faad0>"
            ]
          },
          "metadata": {},
          "execution_count": 20
        },
        {
          "output_type": "display_data",
          "data": {
            "image/png": "[encoded data removed]",
            "text/plain": [
              "<Figure size 432x288 with 2 Axes>"
            ]
          },
          "metadata": {
            "needs_background": "light"
          }
        }
      ]
    },
    {
      "cell_type": "markdown",
      "source": [
        "# Prediksi Gambar"
      ],
      "metadata": {
        "id": "pu8yX5defEHv"
      }
    },
    {
      "cell_type": "code",
      "source": [
        "from tensorflow.keras.preprocessing.image import load_img"
      ],
      "metadata": {
        "id": "Tb2EFGjAOWFV"
      },
      "execution_count": null,
      "outputs": []
    },
    {
      "cell_type": "code",
      "source": [
        "from keras.preprocessing import image"
      ],
      "metadata": {
        "id": "RdDhnn0z_6kO"
      },
      "execution_count": null,
      "outputs": []
    },
    {
      "cell_type": "code",
      "source": [
        "from google.colab import files"
      ],
      "metadata": {
        "id": "de7AwpzG_85d"
      },
      "execution_count": null,
      "outputs": []
    },
    {
      "cell_type": "code",
      "source": [
        "uploaded2 = files.upload()\n",
        "\n",
        "for fn in uploaded2.keys():\n",
        " \n",
        "  # Prediksi Gambar\n",
        "  path = fn\n",
        "  img = image.load_img(path, target_size=(100, 100))\n",
        "  imgplot = plt.imshow(img)\n",
        "  x = image.img_to_array(img)\n",
        "  x = np.expand_dims(x, axis=0)\n",
        "\n",
        "  images = np.vstack([x])\n",
        "\n",
        "  classes = model.predict(images, batch_size=64)\n",
        "\n",
        "  print('Prediksi = ',classes[0][0])\n",
        "  \n",
        "  # Prediksi Gambar \n",
        "  # Benign 0 - <1 / Malignant >1\n",
        "  if classes[0][0] >= 0 and classes[0][0] < 1:\n",
        "    print('\\nModel 1, Prediksi Gambar adalah Covid 19')\n",
        "  else:\n",
        "    print('Model 1, Prediksi Gambar adalah Normal')"
      ],
      "metadata": {
        "id": "oTvv8quPceMh"
      },
      "execution_count": null,
      "outputs": []
    }
  ]
}