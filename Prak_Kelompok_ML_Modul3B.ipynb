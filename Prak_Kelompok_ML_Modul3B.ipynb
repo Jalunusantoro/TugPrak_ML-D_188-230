{
  "nbformat": 4,
  "nbformat_minor": 0,
  "metadata": {
    "colab": {
      "name": "Prak_Kelompok_ML_Modul3(acc 93).ipynb",
      "provenance": [],
      "collapsed_sections": [
        "2YUR9FHEEIiF",
        "NPDluKuoEPmO",
        "_nG-YpQQEUkx",
        "mcXpumVhEc9i",
        "HAUNSNWQElcG"
      ]
    },
    "kernelspec": {
      "name": "python3",
      "display_name": "Python 3"
    },
    "language_info": {
      "name": "python"
    }
  },
  "cells": [
    {
      "cell_type": "markdown",
      "metadata": {
        "id": "2YUR9FHEEIiF"
      },
      "source": [
        "# Klasifikasi Citra Penyakit Radang Paru-Paru dan Paru Paru Terindikasi COVID19 Menggunakan Metode CNN"
      ]
    },
    {
      "cell_type": "markdown",
      "metadata": {
        "id": "6w8XmscNEKn_"
      },
      "source": [
        "Link Kaggle : https://www.kaggle.com/prashant268/chest-xray-covid19-pneumonia"
      ]
    },
    {
      "cell_type": "markdown",
      "metadata": {
        "id": "NPDluKuoEPmO"
      },
      "source": [
        "# Load Data"
      ]
    },
    {
      "cell_type": "code",
      "metadata": {
        "colab": {
          "base_uri": "https://localhost:8080/"
        },
        "id": "Ep9QFKMXcyyR",
        "outputId": "3a6b2862-f91b-4643-9dfa-377b183e2611"
      },
      "source": [
        "from google.colab import drive\n",
        "drive.mount('/content/drive')"
      ],
      "execution_count": null,
      "outputs": [
        {
          "output_type": "stream",
          "name": "stdout",
          "text": [
            "Mounted at /content/drive\n"
          ]
        }
      ]
    },
    {
      "cell_type": "code",
      "metadata": {
        "id": "PNx0YCKPdvy1"
      },
      "source": [
        "import os\n",
        "os.environ['KAGGLE_CONFIG_DIR'] = \"/content/drive/MyDrive/Colab Notebooks/tubes\""
      ],
      "execution_count": null,
      "outputs": []
    },
    {
      "cell_type": "code",
      "metadata": {
        "id": "0ZEn01TGdy6A",
        "colab": {
          "base_uri": "https://localhost:8080/"
        },
        "outputId": "3dde6183-d4e9-46fa-e006-725238e4a020"
      },
      "source": [
        "%cd \"/content/drive/MyDrive/Colab Notebooks/tubes\""
      ],
      "execution_count": null,
      "outputs": [
        {
          "output_type": "stream",
          "name": "stdout",
          "text": [
            "/content/drive/MyDrive/Colab Notebooks/tubes\n"
          ]
        }
      ]
    },
    {
      "cell_type": "code",
      "metadata": {
        "colab": {
          "base_uri": "https://localhost:8080/"
        },
        "id": "Jq6ddy7men0M",
        "outputId": "a4f4c4ec-aa32-4402-9b38-897c91d073b1"
      },
      "source": [
        "!ls"
      ],
      "execution_count": null,
      "outputs": [
        {
          "output_type": "stream",
          "name": "stdout",
          "text": [
            "best_model2.h5\tbest_model.h5  Data  dataset  datasplit  kaggle.json\n"
          ]
        }
      ]
    },
    {
      "cell_type": "code",
      "metadata": {
        "colab": {
          "base_uri": "https://localhost:8080/"
        },
        "id": "MUAxVepmepHu",
        "outputId": "ba5596d9-9e7d-42a7-9153-660a4e03e95a"
      },
      "source": [
        "#!kaggle datasets download -d prashant268/chest-xray-covid19-pneumonia"
      ],
      "execution_count": null,
      "outputs": [
        {
          "output_type": "stream",
          "name": "stdout",
          "text": [
            "Downloading chest-xray-covid19-pneumonia.zip to /content/drive/MyDrive/Colab Notebooks/tubes\n",
            "100% 2.05G/2.06G [00:21<00:00, 28.9MB/s]\n",
            "100% 2.06G/2.06G [00:28<00:00, 76.5MB/s]\n"
          ]
        }
      ]
    },
    {
      "cell_type": "code",
      "metadata": {
        "id": "wxl2kJ3ge8Px"
      },
      "source": [
        "#!unzip \\*.zip &> /dev/null && rm *.zip"
      ],
      "execution_count": null,
      "outputs": []
    },
    {
      "cell_type": "code",
      "metadata": {
        "id": "laP4iqUvfoyg"
      },
      "source": [
        "#!mkdir covid"
      ],
      "execution_count": null,
      "outputs": []
    },
    {
      "cell_type": "code",
      "metadata": {
        "id": "RS9TwV3if743"
      },
      "source": [
        "#!mkdir normal"
      ],
      "execution_count": null,
      "outputs": []
    },
    {
      "cell_type": "code",
      "metadata": {
        "id": "RAv403C8gAM9"
      },
      "source": [
        "#!mkdir pneumonia"
      ],
      "execution_count": null,
      "outputs": []
    },
    {
      "cell_type": "code",
      "metadata": {
        "colab": {
          "base_uri": "https://localhost:8080/"
        },
        "id": "DSHopzSLgTOW",
        "outputId": "2be89102-d57f-4e47-cfca-51dfe26490cb"
      },
      "source": [
        "#!ls Data/"
      ],
      "execution_count": null,
      "outputs": [
        {
          "output_type": "stream",
          "name": "stdout",
          "text": [
            "test  train\n"
          ]
        }
      ]
    },
    {
      "cell_type": "code",
      "metadata": {
        "id": "1wc8Q4hwvJ-r"
      },
      "source": [
        "#!mv Data/test/COVID19/*.jpg covid/"
      ],
      "execution_count": null,
      "outputs": []
    },
    {
      "cell_type": "code",
      "metadata": {
        "id": "1dY-WQLwv6c3"
      },
      "source": [
        "#!mv Data/test/PNEUMONIA/*.jpg pneumonia/"
      ],
      "execution_count": null,
      "outputs": []
    },
    {
      "cell_type": "code",
      "metadata": {
        "id": "VXM1CnScwGTl"
      },
      "source": [
        "#!mv Data/test/NORMAL/*.jpg normal/"
      ],
      "execution_count": null,
      "outputs": []
    },
    {
      "cell_type": "code",
      "metadata": {
        "id": "lzyM_pF6w6CR"
      },
      "source": [
        "#!mv Data/train/COVID19/*.jpg covid/"
      ],
      "execution_count": null,
      "outputs": []
    },
    {
      "cell_type": "code",
      "metadata": {
        "id": "zYMrmenCxJsl"
      },
      "source": [
        "#!mv Data/train/PNEUMONIA/*.jpg pneumonia/"
      ],
      "execution_count": null,
      "outputs": []
    },
    {
      "cell_type": "code",
      "metadata": {
        "id": "L1TXdb2jxj3r"
      },
      "source": [
        "#!mv Data/train/NORMAL/*.jpg normal/"
      ],
      "execution_count": null,
      "outputs": []
    },
    {
      "cell_type": "code",
      "metadata": {
        "colab": {
          "base_uri": "https://localhost:8080/"
        },
        "id": "41eERwupxtE5",
        "outputId": "3b3b58fc-c3eb-40bc-c300-cc92cf36b01a"
      },
      "source": [
        "#!ls"
      ],
      "execution_count": null,
      "outputs": [
        {
          "output_type": "stream",
          "name": "stdout",
          "text": [
            "covid  Data  kaggle.json  normal  pneumonia\n"
          ]
        }
      ]
    },
    {
      "cell_type": "code",
      "metadata": {
        "id": "LKY3XZtvx-Tw"
      },
      "source": [
        "#!mkdir dataset"
      ],
      "execution_count": null,
      "outputs": []
    },
    {
      "cell_type": "code",
      "metadata": {
        "id": "YyFmwonWyEWJ"
      },
      "source": [
        "#!mv pneumonia covid normal dataset"
      ],
      "execution_count": null,
      "outputs": []
    },
    {
      "cell_type": "code",
      "metadata": {
        "colab": {
          "base_uri": "https://localhost:8080/"
        },
        "id": "-DzzC_mFybOl",
        "outputId": "f400cc29-a818-4487-be2e-b6389831412d"
      },
      "source": [
        "#!ls dataset"
      ],
      "execution_count": null,
      "outputs": [
        {
          "output_type": "stream",
          "name": "stdout",
          "text": [
            "covid  normal  pneumonia\n"
          ]
        }
      ]
    },
    {
      "cell_type": "code",
      "metadata": {
        "id": "7T90aYCqyeZG"
      },
      "source": [
        "#!mkdir datasplit"
      ],
      "execution_count": null,
      "outputs": []
    },
    {
      "cell_type": "markdown",
      "metadata": {
        "id": "_nG-YpQQEUkx"
      },
      "source": [
        "# Splitting Data 1 (Skenario = 0.7, 0.2, 0.1)"
      ]
    },
    {
      "cell_type": "code",
      "metadata": {
        "colab": {
          "base_uri": "https://localhost:8080/"
        },
        "id": "K1OAn7iWykWt",
        "outputId": "7679d106-a784-458f-9375-d6f34d83e51c"
      },
      "source": [
        "#pip install split-folders"
      ],
      "execution_count": null,
      "outputs": [
        {
          "output_type": "stream",
          "name": "stdout",
          "text": [
            "Collecting split-folders\n",
            "  Downloading split_folders-0.4.3-py3-none-any.whl (7.4 kB)\n",
            "Installing collected packages: split-folders\n",
            "Successfully installed split-folders-0.4.3\n"
          ]
        }
      ]
    },
    {
      "cell_type": "code",
      "metadata": {
        "id": "wvlT-mStypuV"
      },
      "source": [
        "data = \"/content/drive/MyDrive/Colab Notebooks/tubes/dataset\"\n",
        "split = \"/content/drive/MyDrive/Colab Notebooks/tubes/datasplit\""
      ],
      "execution_count": null,
      "outputs": []
    },
    {
      "cell_type": "code",
      "metadata": {
        "id": "l_Iqc8wQzCUI"
      },
      "source": [
        "#import splitfolders\n",
        "#splitfolders.ratio(data, output=split, seed=1337, ratio=(.7,.2,.1),group_prefix=None)"
      ],
      "execution_count": null,
      "outputs": []
    },
    {
      "cell_type": "code",
      "metadata": {
        "colab": {
          "base_uri": "https://localhost:8080/"
        },
        "id": "aYMcJn6S7VJP",
        "outputId": "7ed561e0-ee42-4804-84d5-05affaa01491"
      },
      "source": [
        "!ls datasplit"
      ],
      "execution_count": null,
      "outputs": [
        {
          "output_type": "stream",
          "name": "stdout",
          "text": [
            "test  train  val\n"
          ]
        }
      ]
    },
    {
      "cell_type": "code",
      "metadata": {
        "id": "9dIwQTER7Zew"
      },
      "source": [
        "train_path = \"/content/drive/MyDrive/Colab Notebooks/tubes/datasplit/train\"\n",
        "val_path = \"/content/drive/MyDrive/Colab Notebooks/tubes/datasplit/val\"\n",
        "test_path = \"/content/drive/MyDrive/Colab Notebooks/tubes/datasplit/test\""
      ],
      "execution_count": null,
      "outputs": []
    },
    {
      "cell_type": "markdown",
      "metadata": {
        "id": "mcXpumVhEc9i"
      },
      "source": [
        "# Preprocessing (Skenario 1)"
      ]
    },
    {
      "cell_type": "code",
      "metadata": {
        "colab": {
          "base_uri": "https://localhost:8080/"
        },
        "id": "qKlE3wEN8XBW",
        "outputId": "c74edc1a-038d-4fc5-e297-2fa142cb9ddb"
      },
      "source": [
        "from keras.preprocessing.image import ImageDataGenerator\n",
        "from sklearn.utils import shuffle\n",
        "Batch_size=32\n",
        "augmen_gen = ImageDataGenerator(rescale=1. / 255,\n",
        "                            rotation_range=40,\n",
        "                            width_shift_range=0.2,\n",
        "                            height_shift_range=0.2,\n",
        "                            zoom_range=0.2,\n",
        "                            horizontal_flip=True,\n",
        "                            fill_mode='nearest')\n",
        "\n",
        "train_gen = augmen_gen.flow_from_directory(\n",
        "    train_path,\n",
        "    class_mode = 'categorical',\n",
        "    shuffle=False,\n",
        "    target_size = (224,224),\n",
        "    batch_size=Batch_size,\n",
        "    color_mode ='rgb'\n",
        ")\n",
        "\n",
        "val_gen = augmen_gen.flow_from_directory(\n",
        "    val_path,\n",
        "    class_mode = 'categorical',\n",
        "    shuffle=False,\n",
        "    target_size = (224,224),\n",
        "    batch_size=Batch_size,\n",
        "    color_mode ='rgb'\n",
        ")\n",
        "\n",
        "test_gen = augmen_gen.flow_from_directory(\n",
        "    test_path,\n",
        "    class_mode = 'categorical',\n",
        "    shuffle=False,\n",
        "    target_size = (224,224),\n",
        "    batch_size=Batch_size,\n",
        "    color_mode ='rgb',\n",
        ")"
      ],
      "execution_count": null,
      "outputs": [
        {
          "output_type": "stream",
          "name": "stdout",
          "text": [
            "Found 4502 images belonging to 3 classes.\n",
            "Found 1285 images belonging to 3 classes.\n",
            "Found 645 images belonging to 3 classes.\n"
          ]
        }
      ]
    },
    {
      "cell_type": "markdown",
      "metadata": {
        "id": "HAUNSNWQElcG"
      },
      "source": [
        "# Modelling & Plotting (Skenario 5)"
      ]
    },
    {
      "cell_type": "code",
      "metadata": {
        "id": "m90pL4cl8h7s"
      },
      "source": [
        "from tensorflow.keras.models import Sequential\n",
        "from tensorflow.keras.layers import InputLayer, Dense, Conv2D, MaxPool2D, Flatten, AveragePooling2D, BatchNormalization, Dropout\n",
        "from tensorflow.keras.callbacks import ModelCheckpoint, ReduceLROnPlateau, EarlyStopping\n",
        "from tensorflow.keras.optimizers import Adam\n",
        "import time"
      ],
      "execution_count": null,
      "outputs": []
    },
    {
      "cell_type": "code",
      "metadata": {
        "id": "3yriRpDT8k59"
      },
      "source": [
        "model = Sequential()\n",
        "\n",
        "model.add(InputLayer(input_shape=[224,224,3]))\n",
        "model.add(Conv2D(filters=32, kernel_size=3, strides=1, padding='same', activation='relu'))\n",
        "model.add(MaxPool2D(pool_size=2, padding='same'))\n",
        "model.add(Conv2D(filters=64, kernel_size=3, strides=1, padding='same', activation='relu'))\n",
        "model.add(MaxPool2D(pool_size=2, padding='same'))\n",
        "model.add(Conv2D(filters=128, kernel_size=3, strides=1, padding='same', activation='relu'))\n",
        "model.add(MaxPool2D(pool_size=2, padding='same'))\n",
        "model.add(Dropout(0.25))\n",
        "model.add(BatchNormalization())\n",
        "model.add(Flatten())\n",
        "\n",
        "# Fully Connected Layer\n",
        "model.add(Dense(512, activation='relu'))\n",
        "model.add(Dropout(0.3))\n",
        "model.add(Dense(3, activation='softmax'))"
      ],
      "execution_count": null,
      "outputs": []
    },
    {
      "cell_type": "code",
      "metadata": {
        "colab": {
          "base_uri": "https://localhost:8080/"
        },
        "id": "f7f-oRwy8pVo",
        "outputId": "63843375-cc03-4d8b-802c-fd6d70891132"
      },
      "source": [
        "print(model.summary())"
      ],
      "execution_count": null,
      "outputs": [
        {
          "output_type": "stream",
          "name": "stdout",
          "text": [
            "Model: \"sequential\"\n",
            "_________________________________________________________________\n",
            " Layer (type)                Output Shape              Param #   \n",
            "=================================================================\n",
            " conv2d (Conv2D)             (None, 224, 224, 32)      896       \n",
            "                                                                 \n",
            " max_pooling2d (MaxPooling2D  (None, 112, 112, 32)     0         \n",
            " )                                                               \n",
            "                                                                 \n",
            " conv2d_1 (Conv2D)           (None, 112, 112, 64)      18496     \n",
            "                                                                 \n",
            " max_pooling2d_1 (MaxPooling  (None, 56, 56, 64)       0         \n",
            " 2D)                                                             \n",
            "                                                                 \n",
            " conv2d_2 (Conv2D)           (None, 56, 56, 128)       73856     \n",
            "                                                                 \n",
            " max_pooling2d_2 (MaxPooling  (None, 28, 28, 128)      0         \n",
            " 2D)                                                             \n",
            "                                                                 \n",
            " dropout (Dropout)           (None, 28, 28, 128)       0         \n",
            "                                                                 \n",
            " batch_normalization (BatchN  (None, 28, 28, 128)      512       \n",
            " ormalization)                                                   \n",
            "                                                                 \n",
            " flatten (Flatten)           (None, 100352)            0         \n",
            "                                                                 \n",
            " dense (Dense)               (None, 512)               51380736  \n",
            "                                                                 \n",
            " dropout_1 (Dropout)         (None, 512)               0         \n",
            "                                                                 \n",
            " dense_1 (Dense)             (None, 3)                 1539      \n",
            "                                                                 \n",
            "=================================================================\n",
            "Total params: 51,476,035\n",
            "Trainable params: 51,475,779\n",
            "Non-trainable params: 256\n",
            "_________________________________________________________________\n",
            "None\n"
          ]
        }
      ]
    },
    {
      "cell_type": "code",
      "metadata": {
        "id": "Ev42Raqo8tVo"
      },
      "source": [
        "best_model_path = 'best_model.h5'\n",
        "checkpoint_callback = ModelCheckpoint(best_model_path,\n",
        "                                     monitor='val_accuracy',\n",
        "                                     save_best_only=True,\n",
        "                                     verbose=1)\n",
        "reduce_callback = ReduceLROnPlateau(monitor='val_accuracy', patience=3, factor=0.5, min_lr=0.000003, verbose=1)\n",
        "callbacks_list = [checkpoint_callback, reduce_callback]"
      ],
      "execution_count": null,
      "outputs": []
    },
    {
      "cell_type": "code",
      "metadata": {
        "colab": {
          "base_uri": "https://localhost:8080/"
        },
        "id": "IQQwO-TV8zYp",
        "outputId": "cfcbf651-a7ac-43bf-b89a-0f885de874c8"
      },
      "source": [
        "model.compile(loss='categorical_crossentropy',\n",
        "             optimizer=Adam(lr=0.00015),\n",
        "             metrics='accuracy')"
      ],
      "execution_count": null,
      "outputs": [
        {
          "output_type": "stream",
          "name": "stderr",
          "text": [
            "/usr/local/lib/python3.7/dist-packages/keras/optimizer_v2/adam.py:105: UserWarning: The `lr` argument is deprecated, use `learning_rate` instead.\n",
            "  super(Adam, self).__init__(name, **kwargs)\n"
          ]
        }
      ]
    },
    {
      "cell_type": "code",
      "metadata": {
        "colab": {
          "base_uri": "https://localhost:8080/"
        },
        "id": "nxq5Ddza82Rj",
        "outputId": "cc0a43f2-b6e4-4077-cb36-741d313d5a17"
      },
      "source": [
        "start = time.time()\n",
        "H = model.fit_generator(train_gen, epochs=100,validation_data=val_gen, validation_steps = 4, verbose=1, callbacks=[callbacks_list])\n",
        "\n",
        "End = time.time()\n",
        "print (\"training time: \", End-start,\"s\")"
      ],
      "execution_count": null,
      "outputs": [
        {
          "output_type": "stream",
          "name": "stderr",
          "text": [
            "/usr/local/lib/python3.7/dist-packages/ipykernel_launcher.py:2: UserWarning: `Model.fit_generator` is deprecated and will be removed in a future version. Please use `Model.fit`, which supports generators.\n",
            "  \n"
          ]
        },
        {
          "output_type": "stream",
          "name": "stdout",
          "text": [
            "Epoch 1/100\n",
            "141/141 [==============================] - ETA: 0s - loss: 0.6832 - accuracy: 0.7568\n",
            "Epoch 00001: val_accuracy improved from -inf to 0.87500, saving model to best_model.h5\n",
            "141/141 [==============================] - 1169s 8s/step - loss: 0.6832 - accuracy: 0.7568 - val_loss: 0.8814 - val_accuracy: 0.8750 - lr: 1.5000e-04\n",
            "Epoch 2/100\n",
            "141/141 [==============================] - ETA: 0s - loss: 0.4096 - accuracy: 0.8287\n",
            "Epoch 00002: val_accuracy did not improve from 0.87500\n",
            "141/141 [==============================] - 223s 2s/step - loss: 0.4096 - accuracy: 0.8287 - val_loss: 0.8405 - val_accuracy: 0.6562 - lr: 1.5000e-04\n",
            "Epoch 3/100\n",
            "141/141 [==============================] - ETA: 0s - loss: 0.3719 - accuracy: 0.8474\n",
            "Epoch 00003: val_accuracy did not improve from 0.87500\n",
            "141/141 [==============================] - 207s 1s/step - loss: 0.3719 - accuracy: 0.8474 - val_loss: 0.6426 - val_accuracy: 0.7266 - lr: 1.5000e-04\n",
            "Epoch 4/100\n",
            "141/141 [==============================] - ETA: 0s - loss: 0.3560 - accuracy: 0.8558\n",
            "Epoch 00004: val_accuracy did not improve from 0.87500\n",
            "\n",
            "Epoch 00004: ReduceLROnPlateau reducing learning rate to 7.500000356230885e-05.\n",
            "141/141 [==============================] - 205s 1s/step - loss: 0.3560 - accuracy: 0.8558 - val_loss: 0.6925 - val_accuracy: 0.6797 - lr: 1.5000e-04\n",
            "Epoch 5/100\n",
            "141/141 [==============================] - ETA: 0s - loss: 0.3127 - accuracy: 0.8767\n",
            "Epoch 00005: val_accuracy improved from 0.87500 to 0.89062, saving model to best_model.h5\n",
            "141/141 [==============================] - 209s 1s/step - loss: 0.3127 - accuracy: 0.8767 - val_loss: 0.2467 - val_accuracy: 0.8906 - lr: 7.5000e-05\n",
            "Epoch 6/100\n",
            "141/141 [==============================] - ETA: 0s - loss: 0.3021 - accuracy: 0.8821\n",
            "Epoch 00006: val_accuracy improved from 0.89062 to 0.91406, saving model to best_model.h5\n",
            "141/141 [==============================] - 210s 1s/step - loss: 0.3021 - accuracy: 0.8821 - val_loss: 0.2548 - val_accuracy: 0.9141 - lr: 7.5000e-05\n",
            "Epoch 7/100\n",
            "141/141 [==============================] - ETA: 0s - loss: 0.2717 - accuracy: 0.8905\n",
            "Epoch 00007: val_accuracy improved from 0.91406 to 0.92188, saving model to best_model.h5\n",
            "141/141 [==============================] - 205s 1s/step - loss: 0.2717 - accuracy: 0.8905 - val_loss: 0.2762 - val_accuracy: 0.9219 - lr: 7.5000e-05\n",
            "Epoch 8/100\n",
            "141/141 [==============================] - ETA: 0s - loss: 0.2607 - accuracy: 0.8998\n",
            "Epoch 00008: val_accuracy did not improve from 0.92188\n",
            "141/141 [==============================] - 201s 1s/step - loss: 0.2607 - accuracy: 0.8998 - val_loss: 0.3028 - val_accuracy: 0.8984 - lr: 7.5000e-05\n",
            "Epoch 9/100\n",
            "141/141 [==============================] - ETA: 0s - loss: 0.2662 - accuracy: 0.8992\n",
            "Epoch 00009: val_accuracy did not improve from 0.92188\n",
            "141/141 [==============================] - 196s 1s/step - loss: 0.2662 - accuracy: 0.8992 - val_loss: 0.5250 - val_accuracy: 0.7891 - lr: 7.5000e-05\n",
            "Epoch 10/100\n",
            "141/141 [==============================] - ETA: 0s - loss: 0.2530 - accuracy: 0.8998\n",
            "Epoch 00010: val_accuracy did not improve from 0.92188\n",
            "\n",
            "Epoch 00010: ReduceLROnPlateau reducing learning rate to 3.7500001781154424e-05.\n",
            "141/141 [==============================] - 194s 1s/step - loss: 0.2530 - accuracy: 0.8998 - val_loss: 0.2268 - val_accuracy: 0.9219 - lr: 7.5000e-05\n",
            "Epoch 11/100\n",
            "141/141 [==============================] - ETA: 0s - loss: 0.2529 - accuracy: 0.9045\n",
            "Epoch 00011: val_accuracy did not improve from 0.92188\n",
            "141/141 [==============================] - 194s 1s/step - loss: 0.2529 - accuracy: 0.9045 - val_loss: 0.3605 - val_accuracy: 0.8672 - lr: 3.7500e-05\n",
            "Epoch 12/100\n",
            "141/141 [==============================] - ETA: 0s - loss: 0.2313 - accuracy: 0.9112\n",
            "Epoch 00012: val_accuracy did not improve from 0.92188\n",
            "141/141 [==============================] - 191s 1s/step - loss: 0.2313 - accuracy: 0.9112 - val_loss: 0.3289 - val_accuracy: 0.8516 - lr: 3.7500e-05\n",
            "Epoch 13/100\n",
            "141/141 [==============================] - ETA: 0s - loss: 0.2383 - accuracy: 0.9085\n",
            "Epoch 00013: val_accuracy did not improve from 0.92188\n",
            "\n",
            "Epoch 00013: ReduceLROnPlateau reducing learning rate to 1.8750000890577212e-05.\n",
            "141/141 [==============================] - 192s 1s/step - loss: 0.2383 - accuracy: 0.9085 - val_loss: 0.5242 - val_accuracy: 0.8594 - lr: 3.7500e-05\n",
            "Epoch 14/100\n",
            "141/141 [==============================] - ETA: 0s - loss: 0.2200 - accuracy: 0.9165\n",
            "Epoch 00014: val_accuracy improved from 0.92188 to 0.95312, saving model to best_model.h5\n",
            "141/141 [==============================] - 197s 1s/step - loss: 0.2200 - accuracy: 0.9165 - val_loss: 0.1557 - val_accuracy: 0.9531 - lr: 1.8750e-05\n",
            "Epoch 15/100\n",
            "141/141 [==============================] - ETA: 0s - loss: 0.2192 - accuracy: 0.9180\n",
            "Epoch 00015: val_accuracy did not improve from 0.95312\n",
            "141/141 [==============================] - 192s 1s/step - loss: 0.2192 - accuracy: 0.9180 - val_loss: 0.1564 - val_accuracy: 0.9531 - lr: 1.8750e-05\n",
            "Epoch 16/100\n",
            "141/141 [==============================] - ETA: 0s - loss: 0.2159 - accuracy: 0.9167\n",
            "Epoch 00016: val_accuracy did not improve from 0.95312\n",
            "141/141 [==============================] - 189s 1s/step - loss: 0.2159 - accuracy: 0.9167 - val_loss: 0.3922 - val_accuracy: 0.8516 - lr: 1.8750e-05\n",
            "Epoch 17/100\n",
            "141/141 [==============================] - ETA: 0s - loss: 0.2147 - accuracy: 0.9214\n",
            "Epoch 00017: val_accuracy did not improve from 0.95312\n",
            "\n",
            "Epoch 00017: ReduceLROnPlateau reducing learning rate to 9.375000445288606e-06.\n",
            "141/141 [==============================] - 187s 1s/step - loss: 0.2147 - accuracy: 0.9214 - val_loss: 0.2648 - val_accuracy: 0.8750 - lr: 1.8750e-05\n",
            "Epoch 18/100\n",
            "141/141 [==============================] - ETA: 0s - loss: 0.2001 - accuracy: 0.9245\n",
            "Epoch 00018: val_accuracy did not improve from 0.95312\n",
            "141/141 [==============================] - 188s 1s/step - loss: 0.2001 - accuracy: 0.9245 - val_loss: 0.1677 - val_accuracy: 0.9453 - lr: 9.3750e-06\n",
            "Epoch 19/100\n",
            "141/141 [==============================] - ETA: 0s - loss: 0.2102 - accuracy: 0.9229\n",
            "Epoch 00019: val_accuracy did not improve from 0.95312\n",
            "141/141 [==============================] - 187s 1s/step - loss: 0.2102 - accuracy: 0.9229 - val_loss: 0.2386 - val_accuracy: 0.8750 - lr: 9.3750e-06\n",
            "Epoch 20/100\n",
            "141/141 [==============================] - ETA: 0s - loss: 0.2073 - accuracy: 0.9194\n",
            "Epoch 00020: val_accuracy did not improve from 0.95312\n",
            "\n",
            "Epoch 00020: ReduceLROnPlateau reducing learning rate to 4.687500222644303e-06.\n",
            "141/141 [==============================] - 185s 1s/step - loss: 0.2073 - accuracy: 0.9194 - val_loss: 0.2480 - val_accuracy: 0.9219 - lr: 9.3750e-06\n",
            "Epoch 21/100\n",
            "141/141 [==============================] - ETA: 0s - loss: 0.2050 - accuracy: 0.9254\n",
            "Epoch 00021: val_accuracy did not improve from 0.95312\n",
            "141/141 [==============================] - 180s 1s/step - loss: 0.2050 - accuracy: 0.9254 - val_loss: 0.2017 - val_accuracy: 0.9141 - lr: 4.6875e-06\n",
            "Epoch 22/100\n",
            "141/141 [==============================] - ETA: 0s - loss: 0.2049 - accuracy: 0.9218\n",
            "Epoch 00022: val_accuracy did not improve from 0.95312\n",
            "141/141 [==============================] - 183s 1s/step - loss: 0.2049 - accuracy: 0.9218 - val_loss: 0.1606 - val_accuracy: 0.9375 - lr: 4.6875e-06\n",
            "Epoch 23/100\n",
            "141/141 [==============================] - ETA: 0s - loss: 0.2062 - accuracy: 0.9214\n",
            "Epoch 00023: val_accuracy did not improve from 0.95312\n",
            "\n",
            "Epoch 00023: ReduceLROnPlateau reducing learning rate to 3e-06.\n",
            "141/141 [==============================] - 183s 1s/step - loss: 0.2062 - accuracy: 0.9214 - val_loss: 0.2132 - val_accuracy: 0.8984 - lr: 4.6875e-06\n",
            "Epoch 24/100\n",
            "141/141 [==============================] - ETA: 0s - loss: 0.1957 - accuracy: 0.9263\n",
            "Epoch 00024: val_accuracy did not improve from 0.95312\n",
            "141/141 [==============================] - 183s 1s/step - loss: 0.1957 - accuracy: 0.9263 - val_loss: 0.2262 - val_accuracy: 0.8984 - lr: 3.0000e-06\n",
            "Epoch 25/100\n",
            "141/141 [==============================] - ETA: 0s - loss: 0.1914 - accuracy: 0.9329\n",
            "Epoch 00025: val_accuracy did not improve from 0.95312\n",
            "141/141 [==============================] - 183s 1s/step - loss: 0.1914 - accuracy: 0.9329 - val_loss: 0.3269 - val_accuracy: 0.9062 - lr: 3.0000e-06\n",
            "Epoch 26/100\n",
            "141/141 [==============================] - ETA: 0s - loss: 0.1936 - accuracy: 0.9291\n",
            "Epoch 00026: val_accuracy did not improve from 0.95312\n",
            "141/141 [==============================] - 184s 1s/step - loss: 0.1936 - accuracy: 0.9291 - val_loss: 0.2275 - val_accuracy: 0.9141 - lr: 3.0000e-06\n",
            "Epoch 27/100\n",
            "141/141 [==============================] - ETA: 0s - loss: 0.1943 - accuracy: 0.9336\n",
            "Epoch 00027: val_accuracy did not improve from 0.95312\n",
            "141/141 [==============================] - 181s 1s/step - loss: 0.1943 - accuracy: 0.9336 - val_loss: 0.1630 - val_accuracy: 0.9375 - lr: 3.0000e-06\n",
            "Epoch 28/100\n",
            "141/141 [==============================] - ETA: 0s - loss: 0.1974 - accuracy: 0.9269\n",
            "Epoch 00028: val_accuracy did not improve from 0.95312\n",
            "141/141 [==============================] - 183s 1s/step - loss: 0.1974 - accuracy: 0.9269 - val_loss: 0.1778 - val_accuracy: 0.9219 - lr: 3.0000e-06\n",
            "Epoch 29/100\n",
            "141/141 [==============================] - ETA: 0s - loss: 0.1975 - accuracy: 0.9296\n",
            "Epoch 00029: val_accuracy did not improve from 0.95312\n",
            "141/141 [==============================] - 182s 1s/step - loss: 0.1975 - accuracy: 0.9296 - val_loss: 0.2396 - val_accuracy: 0.8984 - lr: 3.0000e-06\n",
            "Epoch 30/100\n",
            "141/141 [==============================] - ETA: 0s - loss: 0.2053 - accuracy: 0.9234\n",
            "Epoch 00030: val_accuracy did not improve from 0.95312\n",
            "141/141 [==============================] - 182s 1s/step - loss: 0.2053 - accuracy: 0.9234 - val_loss: 0.2599 - val_accuracy: 0.9141 - lr: 3.0000e-06\n",
            "Epoch 31/100\n",
            "141/141 [==============================] - ETA: 0s - loss: 0.1921 - accuracy: 0.9354\n",
            "Epoch 00031: val_accuracy improved from 0.95312 to 0.96094, saving model to best_model.h5\n",
            "141/141 [==============================] - 188s 1s/step - loss: 0.1921 - accuracy: 0.9354 - val_loss: 0.1046 - val_accuracy: 0.9609 - lr: 3.0000e-06\n",
            "Epoch 32/100\n",
            "141/141 [==============================] - ETA: 0s - loss: 0.1992 - accuracy: 0.9238\n",
            "Epoch 00032: val_accuracy did not improve from 0.96094\n",
            "141/141 [==============================] - 184s 1s/step - loss: 0.1992 - accuracy: 0.9238 - val_loss: 0.2123 - val_accuracy: 0.9141 - lr: 3.0000e-06\n",
            "Epoch 33/100\n",
            "141/141 [==============================] - ETA: 0s - loss: 0.1924 - accuracy: 0.9334\n",
            "Epoch 00033: val_accuracy did not improve from 0.96094\n",
            "141/141 [==============================] - 182s 1s/step - loss: 0.1924 - accuracy: 0.9334 - val_loss: 0.2727 - val_accuracy: 0.9141 - lr: 3.0000e-06\n",
            "Epoch 34/100\n",
            "141/141 [==============================] - ETA: 0s - loss: 0.1973 - accuracy: 0.9214\n",
            "Epoch 00034: val_accuracy did not improve from 0.96094\n",
            "141/141 [==============================] - 182s 1s/step - loss: 0.1973 - accuracy: 0.9214 - val_loss: 0.2005 - val_accuracy: 0.9219 - lr: 3.0000e-06\n",
            "Epoch 35/100\n",
            "141/141 [==============================] - ETA: 0s - loss: 0.1934 - accuracy: 0.9303\n",
            "Epoch 00035: val_accuracy did not improve from 0.96094\n",
            "141/141 [==============================] - 181s 1s/step - loss: 0.1934 - accuracy: 0.9303 - val_loss: 0.2159 - val_accuracy: 0.9141 - lr: 3.0000e-06\n",
            "Epoch 36/100\n",
            "141/141 [==============================] - ETA: 0s - loss: 0.1970 - accuracy: 0.9296\n",
            "Epoch 00036: val_accuracy did not improve from 0.96094\n",
            "141/141 [==============================] - 181s 1s/step - loss: 0.1970 - accuracy: 0.9296 - val_loss: 0.1529 - val_accuracy: 0.9453 - lr: 3.0000e-06\n",
            "Epoch 37/100\n",
            "141/141 [==============================] - ETA: 0s - loss: 0.1965 - accuracy: 0.9276\n",
            "Epoch 00037: val_accuracy did not improve from 0.96094\n",
            "141/141 [==============================] - 180s 1s/step - loss: 0.1965 - accuracy: 0.9276 - val_loss: 0.1608 - val_accuracy: 0.9375 - lr: 3.0000e-06\n",
            "Epoch 38/100\n",
            "141/141 [==============================] - ETA: 0s - loss: 0.1892 - accuracy: 0.9303\n",
            "Epoch 00038: val_accuracy did not improve from 0.96094\n",
            "141/141 [==============================] - 179s 1s/step - loss: 0.1892 - accuracy: 0.9303 - val_loss: 0.2076 - val_accuracy: 0.9219 - lr: 3.0000e-06\n",
            "Epoch 39/100\n",
            "141/141 [==============================] - ETA: 0s - loss: 0.1835 - accuracy: 0.9349\n",
            "Epoch 00039: val_accuracy did not improve from 0.96094\n",
            "141/141 [==============================] - 177s 1s/step - loss: 0.1835 - accuracy: 0.9349 - val_loss: 0.2517 - val_accuracy: 0.8984 - lr: 3.0000e-06\n",
            "Epoch 40/100\n",
            "141/141 [==============================] - ETA: 0s - loss: 0.1991 - accuracy: 0.9269\n",
            "Epoch 00040: val_accuracy did not improve from 0.96094\n",
            "141/141 [==============================] - 177s 1s/step - loss: 0.1991 - accuracy: 0.9269 - val_loss: 0.2930 - val_accuracy: 0.8594 - lr: 3.0000e-06\n",
            "Epoch 41/100\n",
            "141/141 [==============================] - ETA: 0s - loss: 0.1959 - accuracy: 0.9283\n",
            "Epoch 00041: val_accuracy did not improve from 0.96094\n",
            "141/141 [==============================] - 177s 1s/step - loss: 0.1959 - accuracy: 0.9283 - val_loss: 0.1178 - val_accuracy: 0.9609 - lr: 3.0000e-06\n",
            "Epoch 42/100\n",
            "141/141 [==============================] - ETA: 0s - loss: 0.1843 - accuracy: 0.9336\n",
            "Epoch 00042: val_accuracy did not improve from 0.96094\n",
            "141/141 [==============================] - 177s 1s/step - loss: 0.1843 - accuracy: 0.9336 - val_loss: 0.1843 - val_accuracy: 0.9297 - lr: 3.0000e-06\n",
            "Epoch 43/100\n",
            "141/141 [==============================] - ETA: 0s - loss: 0.1914 - accuracy: 0.9305\n",
            "Epoch 00043: val_accuracy did not improve from 0.96094\n",
            "141/141 [==============================] - 176s 1s/step - loss: 0.1914 - accuracy: 0.9305 - val_loss: 0.2068 - val_accuracy: 0.9062 - lr: 3.0000e-06\n",
            "Epoch 44/100\n",
            "141/141 [==============================] - ETA: 0s - loss: 0.1880 - accuracy: 0.9329\n",
            "Epoch 00044: val_accuracy did not improve from 0.96094\n",
            "141/141 [==============================] - 178s 1s/step - loss: 0.1880 - accuracy: 0.9329 - val_loss: 0.3028 - val_accuracy: 0.9062 - lr: 3.0000e-06\n",
            "Epoch 45/100\n",
            "141/141 [==============================] - ETA: 0s - loss: 0.1854 - accuracy: 0.9331\n",
            "Epoch 00045: val_accuracy improved from 0.96094 to 0.97656, saving model to best_model.h5\n",
            "141/141 [==============================] - 185s 1s/step - loss: 0.1854 - accuracy: 0.9331 - val_loss: 0.0986 - val_accuracy: 0.9766 - lr: 3.0000e-06\n",
            "Epoch 46/100\n",
            "141/141 [==============================] - ETA: 0s - loss: 0.1897 - accuracy: 0.9291\n",
            "Epoch 00046: val_accuracy did not improve from 0.97656\n",
            "141/141 [==============================] - 184s 1s/step - loss: 0.1897 - accuracy: 0.9291 - val_loss: 0.1645 - val_accuracy: 0.9219 - lr: 3.0000e-06\n",
            "Epoch 47/100\n",
            "141/141 [==============================] - ETA: 0s - loss: 0.1927 - accuracy: 0.9309\n",
            "Epoch 00047: val_accuracy did not improve from 0.97656\n",
            "141/141 [==============================] - 181s 1s/step - loss: 0.1927 - accuracy: 0.9309 - val_loss: 0.1590 - val_accuracy: 0.9453 - lr: 3.0000e-06\n",
            "Epoch 48/100\n",
            "141/141 [==============================] - ETA: 0s - loss: 0.1916 - accuracy: 0.9303\n",
            "Epoch 00048: val_accuracy did not improve from 0.97656\n",
            "141/141 [==============================] - 181s 1s/step - loss: 0.1916 - accuracy: 0.9303 - val_loss: 0.1986 - val_accuracy: 0.9219 - lr: 3.0000e-06\n",
            "Epoch 49/100\n",
            "141/141 [==============================] - ETA: 0s - loss: 0.1936 - accuracy: 0.9276\n",
            "Epoch 00049: val_accuracy did not improve from 0.97656\n",
            "141/141 [==============================] - 180s 1s/step - loss: 0.1936 - accuracy: 0.9276 - val_loss: 0.3099 - val_accuracy: 0.8828 - lr: 3.0000e-06\n",
            "Epoch 50/100\n",
            "141/141 [==============================] - ETA: 0s - loss: 0.1824 - accuracy: 0.9300\n",
            "Epoch 00050: val_accuracy did not improve from 0.97656\n",
            "141/141 [==============================] - 179s 1s/step - loss: 0.1824 - accuracy: 0.9300 - val_loss: 0.3346 - val_accuracy: 0.8672 - lr: 3.0000e-06\n",
            "Epoch 51/100\n",
            "141/141 [==============================] - ETA: 0s - loss: 0.1897 - accuracy: 0.9334\n",
            "Epoch 00051: val_accuracy did not improve from 0.97656\n",
            "141/141 [==============================] - 180s 1s/step - loss: 0.1897 - accuracy: 0.9334 - val_loss: 0.2611 - val_accuracy: 0.9141 - lr: 3.0000e-06\n",
            "Epoch 52/100\n",
            "141/141 [==============================] - ETA: 0s - loss: 0.1930 - accuracy: 0.9287\n",
            "Epoch 00052: val_accuracy did not improve from 0.97656\n",
            "141/141 [==============================] - 175s 1s/step - loss: 0.1930 - accuracy: 0.9287 - val_loss: 0.1762 - val_accuracy: 0.9297 - lr: 3.0000e-06\n",
            "Epoch 53/100\n",
            "141/141 [==============================] - ETA: 0s - loss: 0.1885 - accuracy: 0.9343\n",
            "Epoch 00053: val_accuracy did not improve from 0.97656\n",
            "141/141 [==============================] - 174s 1s/step - loss: 0.1885 - accuracy: 0.9343 - val_loss: 0.1924 - val_accuracy: 0.9297 - lr: 3.0000e-06\n",
            "Epoch 54/100\n",
            "141/141 [==============================] - ETA: 0s - loss: 0.1851 - accuracy: 0.9311\n",
            "Epoch 00054: val_accuracy did not improve from 0.97656\n",
            "141/141 [==============================] - 172s 1s/step - loss: 0.1851 - accuracy: 0.9311 - val_loss: 0.1772 - val_accuracy: 0.9219 - lr: 3.0000e-06\n",
            "Epoch 55/100\n",
            "141/141 [==============================] - ETA: 0s - loss: 0.1866 - accuracy: 0.9349\n",
            "Epoch 00055: val_accuracy did not improve from 0.97656\n",
            "141/141 [==============================] - 172s 1s/step - loss: 0.1866 - accuracy: 0.9349 - val_loss: 0.1736 - val_accuracy: 0.9141 - lr: 3.0000e-06\n",
            "Epoch 56/100\n",
            "141/141 [==============================] - ETA: 0s - loss: 0.1924 - accuracy: 0.9274\n",
            "Epoch 00056: val_accuracy did not improve from 0.97656\n",
            "141/141 [==============================] - 177s 1s/step - loss: 0.1924 - accuracy: 0.9274 - val_loss: 0.2008 - val_accuracy: 0.9453 - lr: 3.0000e-06\n",
            "Epoch 57/100\n",
            "141/141 [==============================] - ETA: 0s - loss: 0.1894 - accuracy: 0.9280\n",
            "Epoch 00057: val_accuracy did not improve from 0.97656\n",
            "141/141 [==============================] - 171s 1s/step - loss: 0.1894 - accuracy: 0.9280 - val_loss: 0.2344 - val_accuracy: 0.9219 - lr: 3.0000e-06\n",
            "Epoch 58/100\n",
            "141/141 [==============================] - ETA: 0s - loss: 0.1885 - accuracy: 0.9291\n",
            "Epoch 00058: val_accuracy did not improve from 0.97656\n",
            "141/141 [==============================] - 173s 1s/step - loss: 0.1885 - accuracy: 0.9291 - val_loss: 0.1352 - val_accuracy: 0.9531 - lr: 3.0000e-06\n",
            "Epoch 59/100\n",
            "141/141 [==============================] - ETA: 0s - loss: 0.1906 - accuracy: 0.9271\n",
            "Epoch 00059: val_accuracy did not improve from 0.97656\n",
            "141/141 [==============================] - 172s 1s/step - loss: 0.1906 - accuracy: 0.9271 - val_loss: 0.2586 - val_accuracy: 0.9141 - lr: 3.0000e-06\n",
            "Epoch 60/100\n",
            "141/141 [==============================] - ETA: 0s - loss: 0.1866 - accuracy: 0.9329\n",
            "Epoch 00060: val_accuracy did not improve from 0.97656\n",
            "141/141 [==============================] - 173s 1s/step - loss: 0.1866 - accuracy: 0.9329 - val_loss: 0.1352 - val_accuracy: 0.9453 - lr: 3.0000e-06\n",
            "Epoch 61/100\n",
            "141/141 [==============================] - ETA: 0s - loss: 0.1852 - accuracy: 0.9311\n",
            "Epoch 00061: val_accuracy did not improve from 0.97656\n",
            "141/141 [==============================] - 170s 1s/step - loss: 0.1852 - accuracy: 0.9311 - val_loss: 0.1732 - val_accuracy: 0.9297 - lr: 3.0000e-06\n",
            "Epoch 62/100\n",
            "141/141 [==============================] - ETA: 0s - loss: 0.1920 - accuracy: 0.9294\n",
            "Epoch 00062: val_accuracy did not improve from 0.97656\n",
            "141/141 [==============================] - 169s 1s/step - loss: 0.1920 - accuracy: 0.9294 - val_loss: 0.1496 - val_accuracy: 0.9297 - lr: 3.0000e-06\n",
            "Epoch 63/100\n",
            "141/141 [==============================] - ETA: 0s - loss: 0.1834 - accuracy: 0.9345\n",
            "Epoch 00063: val_accuracy did not improve from 0.97656\n",
            "141/141 [==============================] - 171s 1s/step - loss: 0.1834 - accuracy: 0.9345 - val_loss: 0.2514 - val_accuracy: 0.8750 - lr: 3.0000e-06\n",
            "Epoch 64/100\n",
            "141/141 [==============================] - ETA: 0s - loss: 0.1872 - accuracy: 0.9300\n",
            "Epoch 00064: val_accuracy did not improve from 0.97656\n",
            "141/141 [==============================] - 173s 1s/step - loss: 0.1872 - accuracy: 0.9300 - val_loss: 0.2138 - val_accuracy: 0.9219 - lr: 3.0000e-06\n",
            "Epoch 65/100\n",
            "141/141 [==============================] - ETA: 0s - loss: 0.1859 - accuracy: 0.9349\n",
            "Epoch 00065: val_accuracy did not improve from 0.97656\n",
            "141/141 [==============================] - 175s 1s/step - loss: 0.1859 - accuracy: 0.9349 - val_loss: 0.2388 - val_accuracy: 0.8984 - lr: 3.0000e-06\n",
            "Epoch 66/100\n",
            "141/141 [==============================] - ETA: 0s - loss: 0.1851 - accuracy: 0.9309\n",
            "Epoch 00066: val_accuracy did not improve from 0.97656\n",
            "141/141 [==============================] - 173s 1s/step - loss: 0.1851 - accuracy: 0.9309 - val_loss: 0.2362 - val_accuracy: 0.9141 - lr: 3.0000e-06\n",
            "Epoch 67/100\n",
            "141/141 [==============================] - ETA: 0s - loss: 0.1755 - accuracy: 0.9380\n",
            "Epoch 00067: val_accuracy did not improve from 0.97656\n",
            "141/141 [==============================] - 173s 1s/step - loss: 0.1755 - accuracy: 0.9380 - val_loss: 0.2065 - val_accuracy: 0.8828 - lr: 3.0000e-06\n",
            "Epoch 68/100\n",
            "141/141 [==============================] - ETA: 0s - loss: 0.1792 - accuracy: 0.9347\n",
            "Epoch 00068: val_accuracy did not improve from 0.97656\n",
            "141/141 [==============================] - 176s 1s/step - loss: 0.1792 - accuracy: 0.9347 - val_loss: 0.2105 - val_accuracy: 0.9375 - lr: 3.0000e-06\n",
            "Epoch 69/100\n",
            "141/141 [==============================] - ETA: 0s - loss: 0.1850 - accuracy: 0.9363\n",
            "Epoch 00069: val_accuracy did not improve from 0.97656\n",
            "141/141 [==============================] - 179s 1s/step - loss: 0.1850 - accuracy: 0.9363 - val_loss: 0.2305 - val_accuracy: 0.9219 - lr: 3.0000e-06\n",
            "Epoch 70/100\n",
            "141/141 [==============================] - ETA: 0s - loss: 0.1842 - accuracy: 0.9318\n",
            "Epoch 00070: val_accuracy did not improve from 0.97656\n",
            "141/141 [==============================] - 177s 1s/step - loss: 0.1842 - accuracy: 0.9318 - val_loss: 0.1948 - val_accuracy: 0.9062 - lr: 3.0000e-06\n",
            "Epoch 71/100\n",
            "141/141 [==============================] - ETA: 0s - loss: 0.1839 - accuracy: 0.9349\n",
            "Epoch 00071: val_accuracy did not improve from 0.97656\n",
            "141/141 [==============================] - 176s 1s/step - loss: 0.1839 - accuracy: 0.9349 - val_loss: 0.1868 - val_accuracy: 0.9141 - lr: 3.0000e-06\n",
            "Epoch 72/100\n",
            "141/141 [==============================] - ETA: 0s - loss: 0.1905 - accuracy: 0.9307\n",
            "Epoch 00072: val_accuracy did not improve from 0.97656\n",
            "141/141 [==============================] - 173s 1s/step - loss: 0.1905 - accuracy: 0.9307 - val_loss: 0.2062 - val_accuracy: 0.9062 - lr: 3.0000e-06\n",
            "Epoch 73/100\n",
            "141/141 [==============================] - ETA: 0s - loss: 0.1736 - accuracy: 0.9358\n",
            "Epoch 00073: val_accuracy did not improve from 0.97656\n",
            "141/141 [==============================] - 171s 1s/step - loss: 0.1736 - accuracy: 0.9358 - val_loss: 0.1953 - val_accuracy: 0.9141 - lr: 3.0000e-06\n",
            "Epoch 74/100\n",
            "141/141 [==============================] - ETA: 0s - loss: 0.1794 - accuracy: 0.9385\n",
            "Epoch 00074: val_accuracy did not improve from 0.97656\n",
            "141/141 [==============================] - 176s 1s/step - loss: 0.1794 - accuracy: 0.9385 - val_loss: 0.2149 - val_accuracy: 0.9062 - lr: 3.0000e-06\n",
            "Epoch 75/100\n",
            "141/141 [==============================] - ETA: 0s - loss: 0.1890 - accuracy: 0.9331\n",
            "Epoch 00075: val_accuracy did not improve from 0.97656\n",
            "141/141 [==============================] - 173s 1s/step - loss: 0.1890 - accuracy: 0.9331 - val_loss: 0.1603 - val_accuracy: 0.9453 - lr: 3.0000e-06\n",
            "Epoch 76/100\n",
            "141/141 [==============================] - ETA: 0s - loss: 0.1888 - accuracy: 0.9289\n",
            "Epoch 00076: val_accuracy did not improve from 0.97656\n",
            "141/141 [==============================] - 176s 1s/step - loss: 0.1888 - accuracy: 0.9289 - val_loss: 0.2809 - val_accuracy: 0.8984 - lr: 3.0000e-06\n",
            "Epoch 77/100\n",
            "141/141 [==============================] - ETA: 0s - loss: 0.1798 - accuracy: 0.9363\n",
            "Epoch 00077: val_accuracy did not improve from 0.97656\n",
            "141/141 [==============================] - 174s 1s/step - loss: 0.1798 - accuracy: 0.9363 - val_loss: 0.2369 - val_accuracy: 0.9141 - lr: 3.0000e-06\n",
            "Epoch 78/100\n",
            "141/141 [==============================] - ETA: 0s - loss: 0.1831 - accuracy: 0.9334\n",
            "Epoch 00078: val_accuracy did not improve from 0.97656\n",
            "141/141 [==============================] - 176s 1s/step - loss: 0.1831 - accuracy: 0.9334 - val_loss: 0.1592 - val_accuracy: 0.9297 - lr: 3.0000e-06\n",
            "Epoch 79/100\n",
            "141/141 [==============================] - ETA: 0s - loss: 0.1839 - accuracy: 0.9316\n",
            "Epoch 00079: val_accuracy did not improve from 0.97656\n",
            "141/141 [==============================] - 175s 1s/step - loss: 0.1839 - accuracy: 0.9316 - val_loss: 0.1994 - val_accuracy: 0.9375 - lr: 3.0000e-06\n",
            "Epoch 80/100\n",
            "141/141 [==============================] - ETA: 0s - loss: 0.1787 - accuracy: 0.9360\n",
            "Epoch 00080: val_accuracy did not improve from 0.97656\n",
            "141/141 [==============================] - 172s 1s/step - loss: 0.1787 - accuracy: 0.9360 - val_loss: 0.1559 - val_accuracy: 0.9531 - lr: 3.0000e-06\n",
            "Epoch 81/100\n",
            "141/141 [==============================] - ETA: 0s - loss: 0.1832 - accuracy: 0.9327\n",
            "Epoch 00081: val_accuracy did not improve from 0.97656\n",
            "141/141 [==============================] - 177s 1s/step - loss: 0.1832 - accuracy: 0.9327 - val_loss: 0.2665 - val_accuracy: 0.9141 - lr: 3.0000e-06\n",
            "Epoch 82/100\n",
            "141/141 [==============================] - ETA: 0s - loss: 0.1873 - accuracy: 0.9311\n",
            "Epoch 00082: val_accuracy did not improve from 0.97656\n",
            "141/141 [==============================] - 180s 1s/step - loss: 0.1873 - accuracy: 0.9311 - val_loss: 0.1442 - val_accuracy: 0.9453 - lr: 3.0000e-06\n",
            "Epoch 83/100\n",
            "141/141 [==============================] - ETA: 0s - loss: 0.1759 - accuracy: 0.9343\n",
            "Epoch 00083: val_accuracy did not improve from 0.97656\n",
            "141/141 [==============================] - 178s 1s/step - loss: 0.1759 - accuracy: 0.9343 - val_loss: 0.1467 - val_accuracy: 0.9609 - lr: 3.0000e-06\n",
            "Epoch 84/100\n",
            "141/141 [==============================] - ETA: 0s - loss: 0.1833 - accuracy: 0.9305\n",
            "Epoch 00084: val_accuracy did not improve from 0.97656\n",
            "141/141 [==============================] - 181s 1s/step - loss: 0.1833 - accuracy: 0.9305 - val_loss: 0.2177 - val_accuracy: 0.9375 - lr: 3.0000e-06\n",
            "Epoch 85/100\n",
            "141/141 [==============================] - ETA: 0s - loss: 0.1791 - accuracy: 0.9311\n",
            "Epoch 00085: val_accuracy did not improve from 0.97656\n",
            "141/141 [==============================] - 175s 1s/step - loss: 0.1791 - accuracy: 0.9311 - val_loss: 0.1990 - val_accuracy: 0.9297 - lr: 3.0000e-06\n",
            "Epoch 86/100\n",
            "141/141 [==============================] - ETA: 0s - loss: 0.1756 - accuracy: 0.9325\n",
            "Epoch 00086: val_accuracy did not improve from 0.97656\n",
            "141/141 [==============================] - 175s 1s/step - loss: 0.1756 - accuracy: 0.9325 - val_loss: 0.2722 - val_accuracy: 0.8828 - lr: 3.0000e-06\n",
            "Epoch 87/100\n",
            "141/141 [==============================] - ETA: 0s - loss: 0.1802 - accuracy: 0.9325\n",
            "Epoch 00087: val_accuracy did not improve from 0.97656\n",
            "141/141 [==============================] - 183s 1s/step - loss: 0.1802 - accuracy: 0.9325 - val_loss: 0.1720 - val_accuracy: 0.9219 - lr: 3.0000e-06\n",
            "Epoch 88/100\n",
            "141/141 [==============================] - ETA: 0s - loss: 0.1814 - accuracy: 0.9325\n",
            "Epoch 00088: val_accuracy did not improve from 0.97656\n",
            "141/141 [==============================] - 181s 1s/step - loss: 0.1814 - accuracy: 0.9325 - val_loss: 0.2765 - val_accuracy: 0.8984 - lr: 3.0000e-06\n",
            "Epoch 89/100\n",
            "141/141 [==============================] - ETA: 0s - loss: 0.1801 - accuracy: 0.9365\n",
            "Epoch 00089: val_accuracy did not improve from 0.97656\n",
            "141/141 [==============================] - 179s 1s/step - loss: 0.1801 - accuracy: 0.9365 - val_loss: 0.2176 - val_accuracy: 0.9062 - lr: 3.0000e-06\n",
            "Epoch 90/100\n",
            "141/141 [==============================] - ETA: 0s - loss: 0.1779 - accuracy: 0.9360\n",
            "Epoch 00090: val_accuracy did not improve from 0.97656\n",
            "141/141 [==============================] - 179s 1s/step - loss: 0.1779 - accuracy: 0.9360 - val_loss: 0.2168 - val_accuracy: 0.9453 - lr: 3.0000e-06\n",
            "Epoch 91/100\n",
            "141/141 [==============================] - ETA: 0s - loss: 0.1795 - accuracy: 0.9320\n",
            "Epoch 00091: val_accuracy did not improve from 0.97656\n",
            "141/141 [==============================] - 182s 1s/step - loss: 0.1795 - accuracy: 0.9320 - val_loss: 0.2209 - val_accuracy: 0.9375 - lr: 3.0000e-06\n",
            "Epoch 92/100\n",
            "141/141 [==============================] - ETA: 0s - loss: 0.1789 - accuracy: 0.9365\n",
            "Epoch 00092: val_accuracy did not improve from 0.97656\n",
            "141/141 [==============================] - 185s 1s/step - loss: 0.1789 - accuracy: 0.9365 - val_loss: 0.2143 - val_accuracy: 0.9297 - lr: 3.0000e-06\n",
            "Epoch 93/100\n",
            "141/141 [==============================] - ETA: 0s - loss: 0.1718 - accuracy: 0.9378\n",
            "Epoch 00093: val_accuracy did not improve from 0.97656\n",
            "141/141 [==============================] - 183s 1s/step - loss: 0.1718 - accuracy: 0.9378 - val_loss: 0.1771 - val_accuracy: 0.9375 - lr: 3.0000e-06\n",
            "Epoch 94/100\n",
            "141/141 [==============================] - ETA: 0s - loss: 0.1779 - accuracy: 0.9376\n",
            "Epoch 00094: val_accuracy did not improve from 0.97656\n",
            "141/141 [==============================] - 178s 1s/step - loss: 0.1779 - accuracy: 0.9376 - val_loss: 0.1364 - val_accuracy: 0.9453 - lr: 3.0000e-06\n",
            "Epoch 95/100\n",
            "141/141 [==============================] - ETA: 0s - loss: 0.1834 - accuracy: 0.9336\n",
            "Epoch 00095: val_accuracy did not improve from 0.97656\n",
            "141/141 [==============================] - 173s 1s/step - loss: 0.1834 - accuracy: 0.9336 - val_loss: 0.1837 - val_accuracy: 0.9375 - lr: 3.0000e-06\n",
            "Epoch 96/100\n",
            "141/141 [==============================] - ETA: 0s - loss: 0.1787 - accuracy: 0.9320\n",
            "Epoch 00096: val_accuracy did not improve from 0.97656\n",
            "141/141 [==============================] - 174s 1s/step - loss: 0.1787 - accuracy: 0.9320 - val_loss: 0.2244 - val_accuracy: 0.9141 - lr: 3.0000e-06\n",
            "Epoch 97/100\n",
            "141/141 [==============================] - ETA: 0s - loss: 0.1754 - accuracy: 0.9367\n",
            "Epoch 00097: val_accuracy did not improve from 0.97656\n",
            "141/141 [==============================] - 183s 1s/step - loss: 0.1754 - accuracy: 0.9367 - val_loss: 0.2412 - val_accuracy: 0.9141 - lr: 3.0000e-06\n",
            "Epoch 98/100\n",
            "141/141 [==============================] - ETA: 0s - loss: 0.1720 - accuracy: 0.9363\n",
            "Epoch 00098: val_accuracy did not improve from 0.97656\n",
            "141/141 [==============================] - 187s 1s/step - loss: 0.1720 - accuracy: 0.9363 - val_loss: 0.2045 - val_accuracy: 0.9297 - lr: 3.0000e-06\n",
            "Epoch 99/100\n",
            "141/141 [==============================] - ETA: 0s - loss: 0.1732 - accuracy: 0.9351\n",
            "Epoch 00099: val_accuracy did not improve from 0.97656\n",
            "141/141 [==============================] - 182s 1s/step - loss: 0.1732 - accuracy: 0.9351 - val_loss: 0.2233 - val_accuracy: 0.9219 - lr: 3.0000e-06\n",
            "Epoch 100/100\n",
            "141/141 [==============================] - ETA: 0s - loss: 0.1764 - accuracy: 0.9343\n",
            "Epoch 00100: val_accuracy did not improve from 0.97656\n",
            "141/141 [==============================] - 176s 1s/step - loss: 0.1764 - accuracy: 0.9343 - val_loss: 0.2360 - val_accuracy: 0.8906 - lr: 3.0000e-06\n",
            "training time:  19290.16637825966 s\n"
          ]
        }
      ]
    },
    {
      "cell_type": "code",
      "metadata": {
        "colab": {
          "base_uri": "https://localhost:8080/",
          "height": 299
        },
        "id": "-AhwbNmasNfn",
        "outputId": "0632d7e9-15e7-4266-9197-6b85857d8825"
      },
      "source": [
        "import matplotlib.pyplot as plt\n",
        "import numpy as np\n",
        "\n",
        "plt.style.use(\"ggplot\")\n",
        "\n",
        "plt.plot(np.arange(0, 100), H.history[\"loss\"], label=\"train_loss\")\n",
        "plt.plot(np.arange(0, 100), H.history[\"val_loss\"], label=\"val_loss\")\n",
        "plt.title(\"Loss Plot\")\n",
        "plt.xlabel(\"Epoch #\")\n",
        "plt.ylabel(\"Loss\")\n",
        "plt.show()"
      ],
      "execution_count": null,
      "outputs": [
        {
          "output_type": "display_data",
          "data": {
            "image/png": "[encoded data removed]",
            "text/plain": [
              "<Figure size 432x288 with 1 Axes>"
            ]
          },
          "metadata": {}
        }
      ]
    },
    {
      "cell_type": "code",
      "metadata": {
        "colab": {
          "base_uri": "https://localhost:8080/",
          "height": 299
        },
        "id": "GrTDoe46xInt",
        "outputId": "a0a002fd-dbab-49db-c92a-6c8774b35037"
      },
      "source": [
        "plt.plot(np.arange(0, 100), H.history[\"accuracy\"], label=\"train_acc\")\n",
        "plt.plot(np.arange(0, 100), H.history[\"val_accuracy\"], label=\"val_acc\")\n",
        "plt.title(\"Accuracy Plot\")\n",
        "plt.xlabel(\"Epoch #\")\n",
        "plt.ylabel(\"Accuracy\")\n",
        "plt.legend()\n",
        "plt.show()"
      ],
      "execution_count": null,
      "outputs": [
        {
          "output_type": "display_data",
          "data": {
            "image/png": "[encoded data removed]",
            "text/plain": [
              "<Figure size 432x288 with 1 Axes>"
            ]
          },
          "metadata": {}
        }
      ]
    },
    {
      "cell_type": "code",
      "metadata": {
        "colab": {
          "base_uri": "https://localhost:8080/"
        },
        "id": "LjE4L1pHxPwV",
        "outputId": "d1fe5f44-9dba-4412-cd57-f9c8ac7d9a41"
      },
      "source": [
        "from sklearn.metrics import classification_report\n",
        "\n",
        "model.load_weights(best_model_path)\n",
        "pred = model.predict(test_gen)\n",
        "predictions = np.argmax(pred, axis = 1)\n",
        "# labels = (pred > 0.5).astype(np.int)\n",
        "print(classification_report(test_gen.classes,predictions))"
      ],
      "execution_count": null,
      "outputs": [
        {
          "output_type": "stream",
          "name": "stdout",
          "text": [
            "              precision    recall  f1-score   support\n",
            "\n",
            "           0       0.98      0.86      0.92        58\n",
            "           1       0.90      0.84      0.87       159\n",
            "           2       0.93      0.97      0.95       428\n",
            "\n",
            "    accuracy                           0.93       645\n",
            "   macro avg       0.94      0.89      0.91       645\n",
            "weighted avg       0.93      0.93      0.93       645\n",
            "\n"
          ]
        }
      ]
    }
  ]
}