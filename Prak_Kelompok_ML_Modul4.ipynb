{
  "nbformat": 4,
  "nbformat_minor": 0,
  "metadata": {
    "colab": {
      "name": "Prak_Kelompok_ML_Modul4.ipynb",
      "provenance": [],
      "collapsed_sections": [
        "PTXCvCc9b4MU",
        "dxMk4xzwALCl",
        "SGhLgGv_DNay",
        "5fvmKNEW8bPu",
        "aqPZPhs-AYEY",
        "hvrfHekSDf03"
      ]
    },
    "kernelspec": {
      "display_name": "Python 3",
      "name": "python3"
    },
    "language_info": {
      "name": "python"
    }
  },
  "cells": [
    {
      "cell_type": "markdown",
      "metadata": {
        "id": "PTXCvCc9b4MU"
      },
      "source": [
        "# Klasifikasi Citra Penyakit Radang Paru-Paru dan Paru Paru Terindikasi COVID19 Menggunakan Metode CNN"
      ]
    },
    {
      "cell_type": "markdown",
      "metadata": {
        "id": "Bc2iqHqTb-eE"
      },
      "source": [
        "Link Kaggle : https://www.kaggle.com/prashant268/chest-xray-covid19-pneumonia"
      ]
    },
    {
      "cell_type": "markdown",
      "metadata": {
        "id": "dxMk4xzwALCl"
      },
      "source": [
        "# Load Data"
      ]
    },
    {
      "cell_type": "code",
      "metadata": {
        "colab": {
          "base_uri": "https://localhost:8080/"
        },
        "id": "Ep9QFKMXcyyR",
        "outputId": "372d9068-0e5f-488a-9623-1023d15e1af0"
      },
      "source": [
        "from google.colab import drive\n",
        "drive.mount('/content/drive')"
      ],
      "execution_count": null,
      "outputs": [
        {
          "output_type": "stream",
          "name": "stdout",
          "text": [
            "Mounted at /content/drive\n"
          ]
        }
      ]
    },
    {
      "cell_type": "code",
      "metadata": {
        "id": "PNx0YCKPdvy1"
      },
      "source": [
        "import os\n",
        "os.environ['KAGGLE_CONFIG_DIR'] = \"/content/drive/MyDrive/Colab Notebooks/Kuliah/Semester 7/ML/Tugas_Besar/Modul_4\""
      ],
      "execution_count": null,
      "outputs": []
    },
    {
      "cell_type": "code",
      "metadata": {
        "id": "0ZEn01TGdy6A",
        "colab": {
          "base_uri": "https://localhost:8080/"
        },
        "outputId": "8aba3b80-dfb9-4697-cd40-cb4f8b2b71e8"
      },
      "source": [
        "%cd /content/drive/MyDrive/Colab Notebooks/Kuliah/Semester 7/ML/Tugas_Besar/Modul_4"
      ],
      "execution_count": null,
      "outputs": [
        {
          "output_type": "stream",
          "name": "stdout",
          "text": [
            "/content/drive/MyDrive/Colab Notebooks/Kuliah/Semester 7/ML/Tugas_Besar/Modul_4\n"
          ]
        }
      ]
    },
    {
      "cell_type": "code",
      "metadata": {
        "colab": {
          "base_uri": "https://localhost:8080/"
        },
        "id": "Jq6ddy7men0M",
        "outputId": "bef6389a-2f3d-42d7-8baa-0934f0fa4d02"
      },
      "source": [
        "!ls"
      ],
      "execution_count": null,
      "outputs": [
        {
          "output_type": "stream",
          "name": "stdout",
          "text": [
            "Data  datasplit  kaggle.json\n"
          ]
        }
      ]
    },
    {
      "cell_type": "code",
      "metadata": {
        "colab": {
          "base_uri": "https://localhost:8080/"
        },
        "id": "MUAxVepmepHu",
        "outputId": "4b44f966-0dc8-4a8e-d290-552e2c56d090"
      },
      "source": [
        "#! kaggle datasets download -d prashant268/chest-xray-covid19-pneumonia"
      ],
      "execution_count": null,
      "outputs": [
        {
          "output_type": "stream",
          "name": "stdout",
          "text": [
            "Downloading chest-xray-covid19-pneumonia.zip to /content/drive/MyDrive/Colab Notebooks/Kuliah/Semester 7/ML/Tugas_Besar/Modul_4\n",
            "100% 2.04G/2.06G [00:23<00:00, 128MB/s]\n",
            "100% 2.06G/2.06G [00:23<00:00, 94.5MB/s]\n"
          ]
        }
      ]
    },
    {
      "cell_type": "code",
      "metadata": {
        "id": "wxl2kJ3ge8Px"
      },
      "source": [
        "#! unzip \\*.zip &> /dev/null && rm *.zip"
      ],
      "execution_count": null,
      "outputs": []
    },
    {
      "cell_type": "code",
      "metadata": {
        "colab": {
          "base_uri": "https://localhost:8080/"
        },
        "id": "DSHopzSLgTOW",
        "outputId": "9586e002-b178-4aec-e8cf-09dfafc8e537"
      },
      "source": [
        "!ls Data"
      ],
      "execution_count": null,
      "outputs": [
        {
          "output_type": "stream",
          "name": "stdout",
          "text": [
            "test  train\n"
          ]
        }
      ]
    },
    {
      "cell_type": "code",
      "metadata": {
        "id": "1wc8Q4hwvJ-r"
      },
      "source": [
        "#!mv Data/test/COVID19/*.jpg covid/"
      ],
      "execution_count": null,
      "outputs": []
    },
    {
      "cell_type": "code",
      "metadata": {
        "id": "1dY-WQLwv6c3"
      },
      "source": [
        "#!mv Data/test/PNEUMONIA/*.jpg pneumonia/"
      ],
      "execution_count": null,
      "outputs": []
    },
    {
      "cell_type": "code",
      "metadata": {
        "id": "VXM1CnScwGTl"
      },
      "source": [
        "#!mv Data/test/NORMAL/*.jpg normal/"
      ],
      "execution_count": null,
      "outputs": []
    },
    {
      "cell_type": "code",
      "metadata": {
        "id": "lzyM_pF6w6CR"
      },
      "source": [
        "#!mv Data/train/COVID19/*.jpg covid/"
      ],
      "execution_count": null,
      "outputs": []
    },
    {
      "cell_type": "code",
      "metadata": {
        "id": "zYMrmenCxJsl"
      },
      "source": [
        "#!mv Data/train/PNEUMONIA/*.jpg pneumonia/"
      ],
      "execution_count": null,
      "outputs": []
    },
    {
      "cell_type": "code",
      "metadata": {
        "id": "L1TXdb2jxj3r"
      },
      "source": [
        "#!mv Data/train/NORMAL/*.jpg normal/"
      ],
      "execution_count": null,
      "outputs": []
    },
    {
      "cell_type": "code",
      "metadata": {
        "colab": {
          "base_uri": "https://localhost:8080/"
        },
        "id": "41eERwupxtE5",
        "outputId": "3e948d61-7f47-4f8f-bd55-7f823a6913f2"
      },
      "source": [
        "!ls Data"
      ],
      "execution_count": null,
      "outputs": [
        {
          "output_type": "stream",
          "name": "stdout",
          "text": [
            "test  train\n"
          ]
        }
      ]
    },
    {
      "cell_type": "markdown",
      "metadata": {
        "id": "SGhLgGv_DNay"
      },
      "source": [
        "# Splitting Data 2 (Skenario = 0.8, 0.19, 0.1)"
      ]
    },
    {
      "cell_type": "code",
      "metadata": {
        "colab": {
          "base_uri": "https://localhost:8080/"
        },
        "id": "K1OAn7iWykWt",
        "outputId": "1264e757-fa9d-4004-d45e-d5959186af51"
      },
      "source": [
        "pip install split-folders"
      ],
      "execution_count": null,
      "outputs": [
        {
          "output_type": "stream",
          "name": "stdout",
          "text": [
            "Collecting split-folders\n",
            "  Downloading split_folders-0.4.3-py3-none-any.whl (7.4 kB)\n",
            "Installing collected packages: split-folders\n",
            "Successfully installed split-folders-0.4.3\n"
          ]
        }
      ]
    },
    {
      "cell_type": "code",
      "metadata": {
        "id": "7T90aYCqyeZG"
      },
      "source": [
        "#!mkdir datasplit"
      ],
      "execution_count": null,
      "outputs": []
    },
    {
      "cell_type": "code",
      "metadata": {
        "id": "wvlT-mStypuV"
      },
      "source": [
        "data = \"/content/drive/MyDrive/Colab Notebooks/Kuliah/Semester 7/ML/Tugas_Besar/Modul_3/dataset\"\n",
        "split = \"/content/drive/MyDrive/Colab Notebooks/Kuliah/Semester 7/ML/Tugas_Besar/Modul_4/datasplit\""
      ],
      "execution_count": null,
      "outputs": []
    },
    {
      "cell_type": "code",
      "metadata": {
        "colab": {
          "base_uri": "https://localhost:8080/"
        },
        "id": "B6zm_heaJn5X",
        "outputId": "017ef557-9fbf-4a65-b112-31c95ba40e95"
      },
      "source": [
        "!ls"
      ],
      "execution_count": null,
      "outputs": [
        {
          "output_type": "stream",
          "name": "stdout",
          "text": [
            "Data  datasplit  kaggle.json\n"
          ]
        }
      ]
    },
    {
      "cell_type": "code",
      "metadata": {
        "colab": {
          "base_uri": "https://localhost:8080/"
        },
        "id": "l_Iqc8wQzCUI",
        "outputId": "e865edb7-cb5d-4b41-ee39-ca88aef69c56"
      },
      "source": [
        "#import splitfolders\n",
        "#splitfolders.ratio(data, output=split, seed=1337, ratio=(0.8, 0.19, 0.01), group_prefix=None)"
      ],
      "execution_count": null,
      "outputs": [
        {
          "output_type": "stream",
          "name": "stderr",
          "text": [
            "Copying files: 6432 files [26:18,  4.07 files/s]\n"
          ]
        }
      ]
    },
    {
      "cell_type": "code",
      "metadata": {
        "colab": {
          "base_uri": "https://localhost:8080/"
        },
        "id": "aYMcJn6S7VJP",
        "outputId": "e3a85609-08f6-4827-e62e-b060169cc7ab"
      },
      "source": [
        "!ls datasplit"
      ],
      "execution_count": null,
      "outputs": [
        {
          "output_type": "stream",
          "name": "stdout",
          "text": [
            "test  train  val\n"
          ]
        }
      ]
    },
    {
      "cell_type": "code",
      "metadata": {
        "id": "9dIwQTER7Zew"
      },
      "source": [
        "train_path = \"/content/drive/MyDrive/Colab Notebooks/Kuliah/Semester 7/ML/Tugas_Besar/Modul_4/datasplit/train\"\n",
        "val_path = \"/content/drive/MyDrive/Colab Notebooks/Kuliah/Semester 7/ML/Tugas_Besar/Modul_4/datasplit/val\"\n",
        "test_path = \"/content/drive/MyDrive/Colab Notebooks/Kuliah/Semester 7/ML/Tugas_Besar/Modul_4/datasplit/test\""
      ],
      "execution_count": null,
      "outputs": []
    },
    {
      "cell_type": "markdown",
      "metadata": {
        "id": "5fvmKNEW8bPu"
      },
      "source": [
        "#Preprocessing (Skenario 1)"
      ]
    },
    {
      "cell_type": "code",
      "metadata": {
        "colab": {
          "base_uri": "https://localhost:8080/"
        },
        "id": "qKlE3wEN8XBW",
        "outputId": "8c46d9f1-46ed-483f-b2c3-c640c4f3134a"
      },
      "source": [
        "from keras.preprocessing.image import ImageDataGenerator\n",
        "from sklearn.utils import shuffle\n",
        "\n",
        "Batch_size=32\n",
        "augmen_gen = ImageDataGenerator(rescale=1. / 255,\n",
        "                            rotation_range=40,\n",
        "                            width_shift_range=0.2,\n",
        "                            height_shift_range=0.2,\n",
        "                            zoom_range=0.2,\n",
        "                            horizontal_flip=True,\n",
        "                            fill_mode='nearest')\n",
        "\n",
        "train_gen = augmen_gen.flow_from_directory(\n",
        "    train_path,\n",
        "    class_mode = 'categorical',\n",
        "    shuffle=False,\n",
        "    target_size = (150,150),\n",
        "    batch_size=Batch_size,\n",
        "    color_mode ='rgb'\n",
        ")\n",
        "\n",
        "val_gen = augmen_gen.flow_from_directory(\n",
        "    val_path,\n",
        "    class_mode = 'categorical',\n",
        "    shuffle=False,\n",
        "    target_size = (150,150),\n",
        "    batch_size=Batch_size,\n",
        "    color_mode ='rgb'\n",
        ")\n",
        "\n",
        "test_gen = augmen_gen.flow_from_directory(\n",
        "    test_path,\n",
        "    class_mode = 'categorical',\n",
        "    shuffle=False,\n",
        "    target_size = (150,150),\n",
        "    batch_size=Batch_size,\n",
        "    color_mode ='rgb',\n",
        ")"
      ],
      "execution_count": null,
      "outputs": [
        {
          "output_type": "stream",
          "name": "stdout",
          "text": [
            "Found 5144 images belonging to 3 classes.\n",
            "Found 1220 images belonging to 3 classes.\n",
            "Found 68 images belonging to 3 classes.\n"
          ]
        }
      ]
    },
    {
      "cell_type": "markdown",
      "metadata": {
        "id": "aqPZPhs-AYEY"
      },
      "source": [
        "# Modelling & Plotting (Skenario 6)"
      ]
    },
    {
      "cell_type": "code",
      "metadata": {
        "id": "m90pL4cl8h7s"
      },
      "source": [
        "from tensorflow.keras.models import Sequential\n",
        "from tensorflow.keras.layers import InputLayer, Dense, Conv2D, MaxPool2D, Flatten, AveragePooling2D, BatchNormalization, Dropout\n",
        "from tensorflow.keras.callbacks import ModelCheckpoint, ReduceLROnPlateau, EarlyStopping\n",
        "from tensorflow.keras.optimizers import Adam, SGD\n",
        "import time"
      ],
      "execution_count": null,
      "outputs": []
    },
    {
      "cell_type": "code",
      "metadata": {
        "id": "3yriRpDT8k59"
      },
      "source": [
        "model = Sequential()\n",
        "\n",
        "model.add(InputLayer(input_shape=[150,150,3]))\n",
        "\n",
        "model.add(Conv2D(filters=32, kernel_size=3, strides=1, padding='same', activation='elu'))\n",
        "model.add(MaxPool2D(pool_size=2, padding='same'))\n",
        "model.add(Conv2D(filters=64, kernel_size=3, strides=1, padding='same', activation='elu'))\n",
        "model.add(MaxPool2D(pool_size=2, padding='same'))\n",
        "model.add(Conv2D(filters=128, kernel_size=3, strides=1, padding='same', activation='elu'))\n",
        "model.add(MaxPool2D(pool_size=2, padding='same'))\n",
        "model.add(Dropout(0.25))\n",
        "model.add(BatchNormalization())\n",
        "model.add(Flatten())\n",
        "\n",
        "# Fully Connected Layer\n",
        "model.add(Dense(512, activation='elu'))\n",
        "model.add(Dropout(0.3))\n",
        "model.add(Dense(3, activation='softmax'))"
      ],
      "execution_count": null,
      "outputs": []
    },
    {
      "cell_type": "code",
      "metadata": {
        "colab": {
          "base_uri": "https://localhost:8080/"
        },
        "id": "f7f-oRwy8pVo",
        "outputId": "9ab8975b-839d-46da-f180-28b6a24a84d3"
      },
      "source": [
        "print(model.summary())"
      ],
      "execution_count": null,
      "outputs": [
        {
          "output_type": "stream",
          "name": "stdout",
          "text": [
            "Model: \"sequential\"\n",
            "_________________________________________________________________\n",
            " Layer (type)                Output Shape              Param #   \n",
            "=================================================================\n",
            " conv2d (Conv2D)             (None, 150, 150, 32)      896       \n",
            "                                                                 \n",
            " max_pooling2d (MaxPooling2D  (None, 75, 75, 32)       0         \n",
            " )                                                               \n",
            "                                                                 \n",
            " conv2d_1 (Conv2D)           (None, 75, 75, 64)        18496     \n",
            "                                                                 \n",
            " max_pooling2d_1 (MaxPooling  (None, 38, 38, 64)       0         \n",
            " 2D)                                                             \n",
            "                                                                 \n",
            " conv2d_2 (Conv2D)           (None, 38, 38, 128)       73856     \n",
            "                                                                 \n",
            " max_pooling2d_2 (MaxPooling  (None, 19, 19, 128)      0         \n",
            " 2D)                                                             \n",
            "                                                                 \n",
            " dropout (Dropout)           (None, 19, 19, 128)       0         \n",
            "                                                                 \n",
            " batch_normalization (BatchN  (None, 19, 19, 128)      512       \n",
            " ormalization)                                                   \n",
            "                                                                 \n",
            " flatten (Flatten)           (None, 46208)             0         \n",
            "                                                                 \n",
            " dense (Dense)               (None, 512)               23659008  \n",
            "                                                                 \n",
            " dropout_1 (Dropout)         (None, 512)               0         \n",
            "                                                                 \n",
            " dense_1 (Dense)             (None, 3)                 1539      \n",
            "                                                                 \n",
            "=================================================================\n",
            "Total params: 23,754,307\n",
            "Trainable params: 23,754,051\n",
            "Non-trainable params: 256\n",
            "_________________________________________________________________\n",
            "None\n"
          ]
        }
      ]
    },
    {
      "cell_type": "code",
      "metadata": {
        "colab": {
          "base_uri": "https://localhost:8080/"
        },
        "id": "IQQwO-TV8zYp",
        "outputId": "036fb952-ea7b-46b2-f085-240922cc14f8"
      },
      "source": [
        "model.compile(loss='categorical_crossentropy',\n",
        "             optimizer=Adam(lr=0.00015, decay=0.00015/32),\n",
        "             metrics='accuracy')"
      ],
      "execution_count": null,
      "outputs": [
        {
          "output_type": "stream",
          "name": "stderr",
          "text": [
            "/usr/local/lib/python3.7/dist-packages/keras/optimizer_v2/adam.py:105: UserWarning: The `lr` argument is deprecated, use `learning_rate` instead.\n",
            "  super(Adam, self).__init__(name, **kwargs)\n"
          ]
        }
      ]
    },
    {
      "cell_type": "code",
      "metadata": {
        "colab": {
          "base_uri": "https://localhost:8080/"
        },
        "id": "nxq5Ddza82Rj",
        "outputId": "ae4683a6-e289-4e61-ffbd-beecddcf6bbd"
      },
      "source": [
        "model_1 = model.fit(train_gen, epochs=50, validation_data=val_gen, validation_steps = 4, verbose=1)"
      ],
      "execution_count": null,
      "outputs": [
        {
          "output_type": "stream",
          "name": "stdout",
          "text": [
            "Epoch 1/50\n",
            "161/161 [==============================] - 164s 1s/step - loss: 0.5728 - accuracy: 0.7832 - val_loss: 0.8740 - val_accuracy: 0.7031\n",
            "Epoch 2/50\n",
            "161/161 [==============================] - 170s 1s/step - loss: 0.4322 - accuracy: 0.8398 - val_loss: 0.9853 - val_accuracy: 0.8281\n",
            "Epoch 3/50\n",
            "161/161 [==============================] - 164s 1s/step - loss: 0.4417 - accuracy: 0.8359 - val_loss: 1.7034 - val_accuracy: 0.4531\n",
            "Epoch 4/50\n",
            "161/161 [==============================] - 160s 996ms/step - loss: 0.3981 - accuracy: 0.8577 - val_loss: 2.7550 - val_accuracy: 0.2656\n",
            "Epoch 5/50\n",
            "161/161 [==============================] - 159s 986ms/step - loss: 0.3357 - accuracy: 0.8834 - val_loss: 8.9955 - val_accuracy: 0.1484\n",
            "Epoch 6/50\n",
            "161/161 [==============================] - 163s 1s/step - loss: 0.2677 - accuracy: 0.9098 - val_loss: 1.8804 - val_accuracy: 0.4531\n",
            "Epoch 7/50\n",
            "161/161 [==============================] - 161s 1s/step - loss: 0.3397 - accuracy: 0.8857 - val_loss: 2.4775 - val_accuracy: 0.4922\n",
            "Epoch 8/50\n",
            "161/161 [==============================] - 163s 1s/step - loss: 0.2524 - accuracy: 0.9131 - val_loss: 0.6953 - val_accuracy: 0.8203\n",
            "Epoch 9/50\n",
            "161/161 [==============================] - 164s 1s/step - loss: 0.2244 - accuracy: 0.9242 - val_loss: 1.5458 - val_accuracy: 0.7031\n",
            "Epoch 10/50\n",
            "161/161 [==============================] - 165s 1s/step - loss: 0.1924 - accuracy: 0.9358 - val_loss: 0.8737 - val_accuracy: 0.7891\n",
            "Epoch 11/50\n",
            "161/161 [==============================] - 164s 1s/step - loss: 0.1737 - accuracy: 0.9409 - val_loss: 5.3360 - val_accuracy: 0.1641\n",
            "Epoch 12/50\n",
            "161/161 [==============================] - 158s 985ms/step - loss: 0.1859 - accuracy: 0.9407 - val_loss: 1.3457 - val_accuracy: 0.6875\n",
            "Epoch 13/50\n",
            "161/161 [==============================] - 161s 1s/step - loss: 0.1510 - accuracy: 0.9495 - val_loss: 0.3534 - val_accuracy: 0.9062\n",
            "Epoch 14/50\n",
            "161/161 [==============================] - 160s 998ms/step - loss: 0.1928 - accuracy: 0.9390 - val_loss: 1.2208 - val_accuracy: 0.8516\n",
            "Epoch 15/50\n",
            "161/161 [==============================] - 161s 1s/step - loss: 0.1565 - accuracy: 0.9469 - val_loss: 2.2333 - val_accuracy: 0.4609\n",
            "Epoch 16/50\n",
            "161/161 [==============================] - 163s 1s/step - loss: 0.1536 - accuracy: 0.9551 - val_loss: 1.6277 - val_accuracy: 0.8516\n",
            "Epoch 17/50\n",
            "161/161 [==============================] - 166s 1s/step - loss: 0.1528 - accuracy: 0.9485 - val_loss: 3.1676 - val_accuracy: 0.3438\n",
            "Epoch 18/50\n",
            "161/161 [==============================] - 159s 986ms/step - loss: 0.1771 - accuracy: 0.9376 - val_loss: 0.7793 - val_accuracy: 0.8281\n",
            "Epoch 19/50\n",
            "161/161 [==============================] - 161s 1s/step - loss: 0.1396 - accuracy: 0.9590 - val_loss: 0.4616 - val_accuracy: 0.8125\n",
            "Epoch 20/50\n",
            "161/161 [==============================] - 159s 990ms/step - loss: 0.1253 - accuracy: 0.9586 - val_loss: 1.0666 - val_accuracy: 0.8281\n",
            "Epoch 21/50\n",
            "161/161 [==============================] - 161s 1s/step - loss: 0.1416 - accuracy: 0.9578 - val_loss: 0.7865 - val_accuracy: 0.8359\n",
            "Epoch 22/50\n",
            "161/161 [==============================] - 158s 985ms/step - loss: 0.1310 - accuracy: 0.9611 - val_loss: 1.6937 - val_accuracy: 0.8516\n",
            "Epoch 23/50\n",
            "161/161 [==============================] - 161s 1s/step - loss: 0.1087 - accuracy: 0.9621 - val_loss: 4.9102 - val_accuracy: 0.2109\n",
            "Epoch 24/50\n",
            "161/161 [==============================] - 160s 995ms/step - loss: 0.1262 - accuracy: 0.9662 - val_loss: 0.7945 - val_accuracy: 0.7500\n",
            "Epoch 25/50\n",
            "161/161 [==============================] - 159s 989ms/step - loss: 0.1062 - accuracy: 0.9681 - val_loss: 2.5840 - val_accuracy: 0.5938\n",
            "Epoch 26/50\n",
            "161/161 [==============================] - 160s 994ms/step - loss: 0.0963 - accuracy: 0.9670 - val_loss: 0.2531 - val_accuracy: 0.9375\n",
            "Epoch 27/50\n",
            "161/161 [==============================] - 160s 993ms/step - loss: 0.1296 - accuracy: 0.9611 - val_loss: 9.0766 - val_accuracy: 0.1094\n",
            "Epoch 28/50\n",
            "161/161 [==============================] - 169s 1s/step - loss: 0.1067 - accuracy: 0.9679 - val_loss: 1.5596 - val_accuracy: 0.6953\n",
            "Epoch 29/50\n",
            "161/161 [==============================] - 171s 1s/step - loss: 0.1095 - accuracy: 0.9673 - val_loss: 13.6018 - val_accuracy: 0.2266\n",
            "Epoch 30/50\n",
            "161/161 [==============================] - 163s 1s/step - loss: 0.1117 - accuracy: 0.9654 - val_loss: 2.8604 - val_accuracy: 0.3516\n",
            "Epoch 31/50\n",
            "161/161 [==============================] - 161s 1000ms/step - loss: 0.1140 - accuracy: 0.9658 - val_loss: 14.8930 - val_accuracy: 0.0391\n",
            "Epoch 32/50\n",
            "161/161 [==============================] - 165s 1s/step - loss: 0.1228 - accuracy: 0.9652 - val_loss: 1.7947 - val_accuracy: 0.7188\n",
            "Epoch 33/50\n",
            "161/161 [==============================] - 163s 1s/step - loss: 0.0872 - accuracy: 0.9730 - val_loss: 28.1516 - val_accuracy: 0.1172\n",
            "Epoch 34/50\n",
            "161/161 [==============================] - 165s 1s/step - loss: 0.0880 - accuracy: 0.9718 - val_loss: 2.0089 - val_accuracy: 0.8359\n",
            "Epoch 35/50\n",
            "161/161 [==============================] - 164s 1s/step - loss: 0.1129 - accuracy: 0.9656 - val_loss: 6.2372 - val_accuracy: 0.2344\n",
            "Epoch 36/50\n",
            "161/161 [==============================] - 163s 1s/step - loss: 0.1014 - accuracy: 0.9708 - val_loss: 1.2746 - val_accuracy: 0.7188\n",
            "Epoch 37/50\n",
            "161/161 [==============================] - 163s 1s/step - loss: 0.1186 - accuracy: 0.9635 - val_loss: 2.0616 - val_accuracy: 0.5312\n",
            "Epoch 38/50\n",
            "161/161 [==============================] - 161s 1000ms/step - loss: 0.1131 - accuracy: 0.9673 - val_loss: 4.2528 - val_accuracy: 0.4844\n",
            "Epoch 39/50\n",
            "161/161 [==============================] - 160s 991ms/step - loss: 0.0914 - accuracy: 0.9695 - val_loss: 2.9892 - val_accuracy: 0.3750\n",
            "Epoch 40/50\n",
            "161/161 [==============================] - 159s 987ms/step - loss: 0.0998 - accuracy: 0.9708 - val_loss: 0.7413 - val_accuracy: 0.8672\n",
            "Epoch 41/50\n",
            "161/161 [==============================] - 161s 999ms/step - loss: 0.0749 - accuracy: 0.9755 - val_loss: 6.2383 - val_accuracy: 0.2500\n",
            "Epoch 42/50\n",
            "161/161 [==============================] - 160s 999ms/step - loss: 0.1076 - accuracy: 0.9703 - val_loss: 27.3693 - val_accuracy: 0.1719\n",
            "Epoch 43/50\n",
            "161/161 [==============================] - 162s 1s/step - loss: 0.1674 - accuracy: 0.9487 - val_loss: 4.5571 - val_accuracy: 0.3828\n",
            "Epoch 44/50\n",
            "161/161 [==============================] - 163s 1s/step - loss: 0.0703 - accuracy: 0.9784 - val_loss: 1.0338 - val_accuracy: 0.8125\n",
            "Epoch 45/50\n",
            "161/161 [==============================] - 166s 1s/step - loss: 0.0866 - accuracy: 0.9724 - val_loss: 0.5537 - val_accuracy: 0.8438\n",
            "Epoch 46/50\n",
            "161/161 [==============================] - 160s 991ms/step - loss: 0.0676 - accuracy: 0.9798 - val_loss: 3.4332 - val_accuracy: 0.3125\n",
            "Epoch 47/50\n",
            "161/161 [==============================] - 158s 985ms/step - loss: 0.0864 - accuracy: 0.9751 - val_loss: 2.0961 - val_accuracy: 0.5391\n",
            "Epoch 48/50\n",
            "161/161 [==============================] - 160s 990ms/step - loss: 0.0909 - accuracy: 0.9745 - val_loss: 7.3750 - val_accuracy: 0.1406\n",
            "Epoch 49/50\n",
            "161/161 [==============================] - 161s 1s/step - loss: 0.0876 - accuracy: 0.9728 - val_loss: 0.4663 - val_accuracy: 0.8906\n",
            "Epoch 50/50\n",
            "161/161 [==============================] - 160s 992ms/step - loss: 0.0737 - accuracy: 0.9771 - val_loss: 1.6799 - val_accuracy: 0.7734\n"
          ]
        }
      ]
    },
    {
      "cell_type": "code",
      "metadata": {
        "colab": {
          "base_uri": "https://localhost:8080/",
          "height": 581
        },
        "id": "-AhwbNmasNfn",
        "outputId": "918d8a98-b737-4938-9d93-ca528a1db8e3"
      },
      "source": [
        "import matplotlib.pyplot as plt\n",
        "import numpy as np\n",
        "\n",
        "plt.style.use(\"ggplot\")\n",
        "\n",
        "plt.plot(np.arange(0, 50), model_1.history[\"loss\"], label=\"train_loss\")\n",
        "plt.plot(np.arange(0, 50), model_1.history[\"val_loss\"], label=\"val_loss\")\n",
        "plt.title(\"Loss Plot\")\n",
        "plt.xlabel(\"Epoch #\")\n",
        "plt.ylabel(\"Loss\")\n",
        "plt.show()\n",
        "\n",
        "plt.plot(np.arange(0, 50), model_1.history[\"accuracy\"], label=\"train_acc\")\n",
        "plt.plot(np.arange(0, 50), model_1.history[\"val_accuracy\"], label=\"val_acc\")\n",
        "plt.title(\"Accuracy Plot\")\n",
        "plt.xlabel(\"Epoch #\")\n",
        "plt.ylabel(\"Accuracy\")\n",
        "plt.legend()\n",
        "plt.show()"
      ],
      "execution_count": null,
      "outputs": [
        {
          "output_type": "display_data",
          "data": {
            "image/png": "[encoded data removed]",
            "text/plain": [
              "<Figure size 432x288 with 1 Axes>"
            ]
          },
          "metadata": {}
        },
        {
          "output_type": "display_data",
          "data": {
            "image/png": "[encoded data removed]",
            "text/plain": [
              "<Figure size 432x288 with 1 Axes>"
            ]
          },
          "metadata": {}
        }
      ]
    },
    {
      "cell_type": "code",
      "metadata": {
        "colab": {
          "base_uri": "https://localhost:8080/"
        },
        "id": "LjE4L1pHxPwV",
        "outputId": "4a1acce7-b03d-4ae2-ac61-4df16dc56c24"
      },
      "source": [
        "from sklearn.metrics import classification_report\n",
        "\n",
        "pred = model.predict(test_gen)\n",
        "predictions = np.argmax(pred, axis = 1)\n",
        "#labels = (pred > 0.5).astype(np.int)\n",
        "print(classification_report(test_gen.classes,predictions))"
      ],
      "execution_count": null,
      "outputs": [
        {
          "output_type": "stream",
          "name": "stdout",
          "text": [
            "              precision    recall  f1-score   support\n",
            "\n",
            "           0       1.00      1.00      1.00         7\n",
            "           1       0.00      0.00      0.00        17\n",
            "           2       0.72      1.00      0.84        44\n",
            "\n",
            "    accuracy                           0.75        68\n",
            "   macro avg       0.57      0.67      0.61        68\n",
            "weighted avg       0.57      0.75      0.65        68\n",
            "\n"
          ]
        },
        {
          "output_type": "stream",
          "name": "stderr",
          "text": [
            "/usr/local/lib/python3.7/dist-packages/sklearn/metrics/_classification.py:1308: UndefinedMetricWarning: Precision and F-score are ill-defined and being set to 0.0 in labels with no predicted samples. Use `zero_division` parameter to control this behavior.\n",
            "  _warn_prf(average, modifier, msg_start, len(result))\n",
            "/usr/local/lib/python3.7/dist-packages/sklearn/metrics/_classification.py:1308: UndefinedMetricWarning: Precision and F-score are ill-defined and being set to 0.0 in labels with no predicted samples. Use `zero_division` parameter to control this behavior.\n",
            "  _warn_prf(average, modifier, msg_start, len(result))\n",
            "/usr/local/lib/python3.7/dist-packages/sklearn/metrics/_classification.py:1308: UndefinedMetricWarning: Precision and F-score are ill-defined and being set to 0.0 in labels with no predicted samples. Use `zero_division` parameter to control this behavior.\n",
            "  _warn_prf(average, modifier, msg_start, len(result))\n"
          ]
        }
      ]
    },
    {
      "cell_type": "markdown",
      "metadata": {
        "id": "hvrfHekSDf03"
      },
      "source": [
        "# Modelling & Plotting (Skenario 7)"
      ]
    },
    {
      "cell_type": "code",
      "metadata": {
        "id": "kO6kE2bD3UaB"
      },
      "source": [
        "model2 = Sequential()\n",
        "\n",
        "model2.add(InputLayer(input_shape=[150,150,3]))\n",
        "\n",
        "model2.add(Conv2D(filters=32, kernel_size=3, strides=1, padding='same', activation='elu'))\n",
        "model2.add(AveragePooling2D(pool_size=2, padding='same'))\n",
        "\n",
        "model2.add(Conv2D(filters=64, kernel_size=3, strides=1, padding='same', activation='elu'))\n",
        "model2.add(AveragePooling2D(pool_size=2, padding='same'))\n",
        "\n",
        "model2.add(Conv2D(filters=128, kernel_size=3, strides=1, padding='same', activation='elu'))\n",
        "model2.add(AveragePooling2D(pool_size=2, padding='same'))\n",
        "\n",
        "model2.add(Dropout(0.25))\n",
        "model2.add(BatchNormalization())\n",
        "model2.add(Flatten())\n",
        "\n",
        "# Fully Connected Layer\n",
        "model2.add(Dense(512, activation='elu'))\n",
        "model2.add(Dropout(0.3))\n",
        "model2.add(Dense(3, activation='softmax'))"
      ],
      "execution_count": null,
      "outputs": []
    },
    {
      "cell_type": "code",
      "metadata": {
        "colab": {
          "base_uri": "https://localhost:8080/"
        },
        "id": "EuPUhYzB3VUw",
        "outputId": "92c44fd6-caaf-45f3-91bd-19bbca87df4a"
      },
      "source": [
        "print(model2.summary())"
      ],
      "execution_count": null,
      "outputs": [
        {
          "output_type": "stream",
          "name": "stdout",
          "text": [
            "Model: \"sequential\"\n",
            "_________________________________________________________________\n",
            " Layer (type)                Output Shape              Param #   \n",
            "=================================================================\n",
            " conv2d (Conv2D)             (None, 150, 150, 32)      896       \n",
            "                                                                 \n",
            " average_pooling2d (AverageP  (None, 75, 75, 32)       0         \n",
            " ooling2D)                                                       \n",
            "                                                                 \n",
            " conv2d_1 (Conv2D)           (None, 75, 75, 64)        18496     \n",
            "                                                                 \n",
            " average_pooling2d_1 (Averag  (None, 38, 38, 64)       0         \n",
            " ePooling2D)                                                     \n",
            "                                                                 \n",
            " conv2d_2 (Conv2D)           (None, 38, 38, 128)       73856     \n",
            "                                                                 \n",
            " average_pooling2d_2 (Averag  (None, 19, 19, 128)      0         \n",
            " ePooling2D)                                                     \n",
            "                                                                 \n",
            " dropout (Dropout)           (None, 19, 19, 128)       0         \n",
            "                                                                 \n",
            " batch_normalization (BatchN  (None, 19, 19, 128)      512       \n",
            " ormalization)                                                   \n",
            "                                                                 \n",
            " flatten (Flatten)           (None, 46208)             0         \n",
            "                                                                 \n",
            " dense (Dense)               (None, 512)               23659008  \n",
            "                                                                 \n",
            " dropout_1 (Dropout)         (None, 512)               0         \n",
            "                                                                 \n",
            " dense_1 (Dense)             (None, 3)                 1539      \n",
            "                                                                 \n",
            "=================================================================\n",
            "Total params: 23,754,307\n",
            "Trainable params: 23,754,051\n",
            "Non-trainable params: 256\n",
            "_________________________________________________________________\n",
            "None\n"
          ]
        }
      ]
    },
    {
      "cell_type": "code",
      "metadata": {
        "colab": {
          "base_uri": "https://localhost:8080/"
        },
        "id": "ZAHous6M2hJK",
        "outputId": "15953778-7a27-42a2-b709-36f3ef72971c"
      },
      "source": [
        "model2.compile(loss='categorical_crossentropy',\n",
        "             optimizer=Adam(lr=0.00015),\n",
        "             metrics='accuracy')"
      ],
      "execution_count": null,
      "outputs": [
        {
          "output_type": "stream",
          "name": "stderr",
          "text": [
            "/usr/local/lib/python3.7/dist-packages/keras/optimizer_v2/adam.py:105: UserWarning: The `lr` argument is deprecated, use `learning_rate` instead.\n",
            "  super(Adam, self).__init__(name, **kwargs)\n"
          ]
        }
      ]
    },
    {
      "cell_type": "code",
      "metadata": {
        "colab": {
          "base_uri": "https://localhost:8080/"
        },
        "id": "wEuLOzJG2qZ4",
        "outputId": "b1bd3570-d849-4aa8-d244-cd44290d5a22"
      },
      "source": [
        "model_2 = model2.fit_generator(train_gen, epochs=50, validation_data=val_gen, validation_steps = 4, verbose=1)"
      ],
      "execution_count": null,
      "outputs": [
        {
          "output_type": "stream",
          "name": "stderr",
          "text": [
            "/usr/local/lib/python3.7/dist-packages/ipykernel_launcher.py:1: UserWarning: `Model.fit_generator` is deprecated and will be removed in a future version. Please use `Model.fit`, which supports generators.\n",
            "  \"\"\"Entry point for launching an IPython kernel.\n"
          ]
        },
        {
          "output_type": "stream",
          "name": "stdout",
          "text": [
            "Epoch 1/50\n",
            "161/161 [==============================] - 1763s 11s/step - loss: 1.8200 - accuracy: 0.5937 - val_loss: 1.8839 - val_accuracy: 0.2969\n",
            "Epoch 2/50\n",
            "161/161 [==============================] - 420s 3s/step - loss: 0.8343 - accuracy: 0.6577 - val_loss: 1.0328 - val_accuracy: 0.5703\n",
            "Epoch 3/50\n",
            "161/161 [==============================] - 417s 3s/step - loss: 0.7959 - accuracy: 0.6750 - val_loss: 5.0308 - val_accuracy: 0.0703\n",
            "Epoch 4/50\n",
            "161/161 [==============================] - 416s 3s/step - loss: 0.7478 - accuracy: 0.7063 - val_loss: 0.9262 - val_accuracy: 0.6641\n",
            "Epoch 5/50\n",
            "161/161 [==============================] - 418s 3s/step - loss: 0.6989 - accuracy: 0.7241 - val_loss: 5.0645 - val_accuracy: 0.2891\n",
            "Epoch 6/50\n",
            "161/161 [==============================] - 420s 3s/step - loss: 0.7053 - accuracy: 0.7146 - val_loss: 0.7812 - val_accuracy: 0.6797\n",
            "Epoch 7/50\n",
            "161/161 [==============================] - 417s 3s/step - loss: 0.6118 - accuracy: 0.7617 - val_loss: 3.0164 - val_accuracy: 0.3047\n",
            "Epoch 8/50\n",
            "161/161 [==============================] - 415s 3s/step - loss: 0.6001 - accuracy: 0.7681 - val_loss: 9.7447 - val_accuracy: 0.1406\n",
            "Epoch 9/50\n",
            "161/161 [==============================] - 411s 3s/step - loss: 0.5300 - accuracy: 0.7974 - val_loss: 0.9000 - val_accuracy: 0.6797\n",
            "Epoch 10/50\n",
            "161/161 [==============================] - 409s 3s/step - loss: 0.5414 - accuracy: 0.7953 - val_loss: 0.5679 - val_accuracy: 0.8750\n",
            "Epoch 11/50\n",
            "161/161 [==============================] - 407s 3s/step - loss: 0.4908 - accuracy: 0.8184 - val_loss: 2.7519 - val_accuracy: 0.3203\n",
            "Epoch 12/50\n",
            "161/161 [==============================] - 408s 3s/step - loss: 0.4495 - accuracy: 0.8264 - val_loss: 7.8549 - val_accuracy: 0.1562\n",
            "Epoch 13/50\n",
            "161/161 [==============================] - 404s 3s/step - loss: 0.4422 - accuracy: 0.8301 - val_loss: 2.4143 - val_accuracy: 0.3594\n",
            "Epoch 14/50\n",
            "161/161 [==============================] - 401s 2s/step - loss: 0.4016 - accuracy: 0.8460 - val_loss: 5.5717 - val_accuracy: 0.2344\n",
            "Epoch 15/50\n",
            "161/161 [==============================] - 400s 2s/step - loss: 0.4227 - accuracy: 0.8423 - val_loss: 3.4374 - val_accuracy: 0.3438\n",
            "Epoch 16/50\n",
            "161/161 [==============================] - 402s 2s/step - loss: 0.4142 - accuracy: 0.8427 - val_loss: 0.8892 - val_accuracy: 0.7266\n",
            "Epoch 17/50\n",
            "161/161 [==============================] - 405s 3s/step - loss: 0.3392 - accuracy: 0.8688 - val_loss: 13.8871 - val_accuracy: 0.1719\n",
            "Epoch 18/50\n",
            "161/161 [==============================] - 404s 3s/step - loss: 0.3652 - accuracy: 0.8670 - val_loss: 10.5631 - val_accuracy: 0.2109\n",
            "Epoch 19/50\n",
            "161/161 [==============================] - 404s 3s/step - loss: 0.3499 - accuracy: 0.8668 - val_loss: 23.2077 - val_accuracy: 0.1328\n",
            "Epoch 20/50\n",
            "161/161 [==============================] - 405s 3s/step - loss: 0.3284 - accuracy: 0.8791 - val_loss: 1.1195 - val_accuracy: 0.6484\n",
            "Epoch 21/50\n",
            "161/161 [==============================] - 406s 3s/step - loss: 0.3136 - accuracy: 0.8841 - val_loss: 1.2272 - val_accuracy: 0.6719\n",
            "Epoch 22/50\n",
            "161/161 [==============================] - 405s 3s/step - loss: 0.3292 - accuracy: 0.8919 - val_loss: 1.4206 - val_accuracy: 0.6406\n",
            "Epoch 23/50\n",
            "161/161 [==============================] - 405s 3s/step - loss: 0.2796 - accuracy: 0.8962 - val_loss: 3.3632 - val_accuracy: 0.3359\n",
            "Epoch 24/50\n",
            "161/161 [==============================] - 405s 3s/step - loss: 0.2880 - accuracy: 0.8944 - val_loss: 0.5385 - val_accuracy: 0.7969\n",
            "Epoch 25/50\n",
            "161/161 [==============================] - 404s 3s/step - loss: 0.2625 - accuracy: 0.9018 - val_loss: 1.6148 - val_accuracy: 0.8203\n",
            "Epoch 26/50\n",
            "161/161 [==============================] - 405s 3s/step - loss: 0.2913 - accuracy: 0.8970 - val_loss: 24.4383 - val_accuracy: 0.1641\n",
            "Epoch 27/50\n",
            "161/161 [==============================] - 404s 3s/step - loss: 0.3438 - accuracy: 0.8832 - val_loss: 7.4693 - val_accuracy: 0.1328\n",
            "Epoch 28/50\n",
            "161/161 [==============================] - 404s 3s/step - loss: 0.2647 - accuracy: 0.9086 - val_loss: 3.9267 - val_accuracy: 0.2812\n",
            "Epoch 29/50\n",
            "161/161 [==============================] - 404s 3s/step - loss: 0.2860 - accuracy: 0.9018 - val_loss: 4.0492 - val_accuracy: 0.2891\n",
            "Epoch 30/50\n",
            "161/161 [==============================] - 403s 2s/step - loss: 0.2449 - accuracy: 0.9135 - val_loss: 5.9806 - val_accuracy: 0.2188\n",
            "Epoch 31/50\n",
            "161/161 [==============================] - 403s 2s/step - loss: 0.2793 - accuracy: 0.9045 - val_loss: 2.3224 - val_accuracy: 0.4922\n",
            "Epoch 32/50\n",
            "161/161 [==============================] - 404s 2s/step - loss: 0.2736 - accuracy: 0.9028 - val_loss: 2.2790 - val_accuracy: 0.4688\n",
            "Epoch 33/50\n",
            "161/161 [==============================] - 402s 2s/step - loss: 0.2594 - accuracy: 0.9141 - val_loss: 0.6447 - val_accuracy: 0.7891\n",
            "Epoch 34/50\n",
            "161/161 [==============================] - 402s 2s/step - loss: 0.2652 - accuracy: 0.9075 - val_loss: 1.4922 - val_accuracy: 0.6094\n",
            "Epoch 35/50\n",
            "161/161 [==============================] - 403s 3s/step - loss: 0.2926 - accuracy: 0.9012 - val_loss: 18.6412 - val_accuracy: 0.1484\n",
            "Epoch 36/50\n",
            "161/161 [==============================] - 404s 3s/step - loss: 0.2604 - accuracy: 0.9077 - val_loss: 3.1303 - val_accuracy: 0.4297\n",
            "Epoch 37/50\n",
            "161/161 [==============================] - 404s 3s/step - loss: 0.2226 - accuracy: 0.9213 - val_loss: 5.6547 - val_accuracy: 0.1953\n",
            "Epoch 38/50\n",
            "161/161 [==============================] - 403s 2s/step - loss: 0.2172 - accuracy: 0.9257 - val_loss: 1.1308 - val_accuracy: 0.7109\n",
            "Epoch 39/50\n",
            "161/161 [==============================] - 403s 2s/step - loss: 0.2643 - accuracy: 0.9075 - val_loss: 25.5171 - val_accuracy: 0.1484\n",
            "Epoch 40/50\n",
            "161/161 [==============================] - 403s 3s/step - loss: 0.2158 - accuracy: 0.9220 - val_loss: 2.4899 - val_accuracy: 0.5781\n",
            "Epoch 41/50\n",
            "161/161 [==============================] - 399s 2s/step - loss: 0.2353 - accuracy: 0.9203 - val_loss: 4.9216 - val_accuracy: 0.2344\n",
            "Epoch 42/50\n",
            "161/161 [==============================] - 398s 2s/step - loss: 0.2174 - accuracy: 0.9191 - val_loss: 6.5211 - val_accuracy: 0.1641\n",
            "Epoch 43/50\n",
            "161/161 [==============================] - 399s 2s/step - loss: 0.2404 - accuracy: 0.9211 - val_loss: 23.1912 - val_accuracy: 0.1641\n",
            "Epoch 44/50\n",
            "161/161 [==============================] - 399s 2s/step - loss: 0.2431 - accuracy: 0.9222 - val_loss: 1.4878 - val_accuracy: 0.5703\n",
            "Epoch 45/50\n",
            "161/161 [==============================] - 402s 2s/step - loss: 0.1968 - accuracy: 0.9273 - val_loss: 0.5914 - val_accuracy: 0.8359\n",
            "Epoch 46/50\n",
            "161/161 [==============================] - 405s 3s/step - loss: 0.2116 - accuracy: 0.9325 - val_loss: 4.5465 - val_accuracy: 0.3906\n",
            "Epoch 47/50\n",
            "161/161 [==============================] - 405s 3s/step - loss: 0.2248 - accuracy: 0.9255 - val_loss: 2.0355 - val_accuracy: 0.4297\n",
            "Epoch 48/50\n",
            "161/161 [==============================] - 404s 3s/step - loss: 0.2134 - accuracy: 0.9279 - val_loss: 2.4416 - val_accuracy: 0.4688\n",
            "Epoch 49/50\n",
            "161/161 [==============================] - 403s 3s/step - loss: 0.2324 - accuracy: 0.9238 - val_loss: 11.4685 - val_accuracy: 0.1641\n",
            "Epoch 50/50\n",
            "161/161 [==============================] - 403s 2s/step - loss: 0.2324 - accuracy: 0.9176 - val_loss: 2.5877 - val_accuracy: 0.5234\n"
          ]
        }
      ]
    },
    {
      "cell_type": "code",
      "metadata": {
        "id": "bFPCul3Od0i7",
        "colab": {
          "base_uri": "https://localhost:8080/",
          "height": 581
        },
        "outputId": "3d969cb3-966c-44d6-bfc1-275616dad204"
      },
      "source": [
        "import matplotlib.pyplot as plt\n",
        "import numpy as np\n",
        "\n",
        "plt.style.use(\"ggplot\")\n",
        "\n",
        "plt.plot(np.arange(0, 50), model_2.history[\"loss\"], label=\"train_loss\")\n",
        "plt.plot(np.arange(0, 50), model_2.history[\"val_loss\"], label=\"val_loss\")\n",
        "plt.title(\"Loss Plot\")\n",
        "plt.xlabel(\"Epoch #\")\n",
        "plt.ylabel(\"Loss\")\n",
        "plt.show()\n",
        "\n",
        "plt.plot(np.arange(0, 50), model_2.history[\"accuracy\"], label=\"train_acc\")\n",
        "plt.plot(np.arange(0, 50), model_2.history[\"val_accuracy\"], label=\"val_acc\")\n",
        "plt.title(\"Accuracy Plot\")\n",
        "plt.xlabel(\"Epoch #\")\n",
        "plt.ylabel(\"Accuracy\")\n",
        "plt.legend()\n",
        "plt.show()"
      ],
      "execution_count": null,
      "outputs": [
        {
          "output_type": "display_data",
          "data": {
            "image/png": "[encoded data removed]",
            "text/plain": [
              "<Figure size 432x288 with 1 Axes>"
            ]
          },
          "metadata": {}
        },
        {
          "output_type": "display_data",
          "data": {
            "image/png": "[encoded data removed]",
            "text/plain": [
              "<Figure size 432x288 with 1 Axes>"
            ]
          },
          "metadata": {}
        }
      ]
    },
    {
      "cell_type": "code",
      "metadata": {
        "colab": {
          "base_uri": "https://localhost:8080/"
        },
        "id": "Hjsk5Or_0AR7",
        "outputId": "09495732-0e53-4545-b2a9-9ee6f4ac33fb"
      },
      "source": [
        "from sklearn.metrics import classification_report\n",
        "\n",
        "pred = model2.predict(test_gen)\n",
        "predictions = np.argmax(pred, axis = 1)\n",
        "#labels = (pred > 0.5).astype(np.int)\n",
        "print(classification_report(test_gen.classes,predictions))"
      ],
      "execution_count": null,
      "outputs": [
        {
          "output_type": "stream",
          "name": "stdout",
          "text": [
            "              precision    recall  f1-score   support\n",
            "\n",
            "           0       1.00      0.86      0.92         7\n",
            "           1       0.00      0.00      0.00        17\n",
            "           2       0.71      1.00      0.83        44\n",
            "\n",
            "    accuracy                           0.74        68\n",
            "   macro avg       0.57      0.62      0.58        68\n",
            "weighted avg       0.56      0.74      0.63        68\n",
            "\n"
          ]
        },
        {
          "output_type": "stream",
          "name": "stderr",
          "text": [
            "/usr/local/lib/python3.7/dist-packages/sklearn/metrics/_classification.py:1308: UndefinedMetricWarning: Precision and F-score are ill-defined and being set to 0.0 in labels with no predicted samples. Use `zero_division` parameter to control this behavior.\n",
            "  _warn_prf(average, modifier, msg_start, len(result))\n",
            "/usr/local/lib/python3.7/dist-packages/sklearn/metrics/_classification.py:1308: UndefinedMetricWarning: Precision and F-score are ill-defined and being set to 0.0 in labels with no predicted samples. Use `zero_division` parameter to control this behavior.\n",
            "  _warn_prf(average, modifier, msg_start, len(result))\n",
            "/usr/local/lib/python3.7/dist-packages/sklearn/metrics/_classification.py:1308: UndefinedMetricWarning: Precision and F-score are ill-defined and being set to 0.0 in labels with no predicted samples. Use `zero_division` parameter to control this behavior.\n",
            "  _warn_prf(average, modifier, msg_start, len(result))\n"
          ]
        }
      ]
    }
  ]
}